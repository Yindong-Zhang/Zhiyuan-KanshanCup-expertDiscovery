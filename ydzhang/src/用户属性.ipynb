{
 "cells": [
  {
   "cell_type": "code",
   "execution_count": 1,
   "metadata": {},
   "outputs": [],
   "source": [
    "import pandas as pd"
   ]
  },
  {
   "cell_type": "code",
   "execution_count": 2,
   "metadata": {},
   "outputs": [],
   "source": [
    "import numpy as np"
   ]
  },
  {
   "cell_type": "code",
   "execution_count": 3,
   "metadata": {},
   "outputs": [],
   "source": [
    "import os"
   ]
  },
  {
   "cell_type": "code",
   "execution_count": 4,
   "metadata": {},
   "outputs": [],
   "source": [
    "dataDir = '../data'"
   ]
  },
  {
   "cell_type": "markdown",
   "metadata": {},
   "source": [
    "### topic word embedding"
   ]
  },
  {
   "cell_type": "code",
   "execution_count": 5,
   "metadata": {},
   "outputs": [],
   "source": [
    "topic_embeds = pd.read_csv(os.path.join(dataDir, 'topic_vectors_64d.txt'),\n",
    "                        names = ['topic_id', 'vector'],\n",
    "                        usecols = ['topic_id', ],\n",
    "                        index_col= 'topic_id',\n",
    "                        sep = '\\t',\n",
    "                        squeeze= True)"
   ]
  },
  {
   "cell_type": "code",
   "execution_count": 6,
   "metadata": {},
   "outputs": [],
   "source": [
    "num_topics = len(topic_embeds)"
   ]
  },
  {
   "cell_type": "code",
   "execution_count": 7,
   "metadata": {},
   "outputs": [],
   "source": [
    "topic_vec = np.load(os.path.join(dataDir, 'topic_array.npy'))"
   ]
  },
  {
   "cell_type": "code",
   "execution_count": 8,
   "metadata": {},
   "outputs": [
    {
     "data": {
      "text/plain": [
       "dtype('float64')"
      ]
     },
     "execution_count": 8,
     "metadata": {},
     "output_type": "execute_result"
    }
   ],
   "source": [
    "topic_vec.dtype"
   ]
  },
  {
   "cell_type": "code",
   "execution_count": 9,
   "metadata": {},
   "outputs": [],
   "source": [
    "topic_idmap = pd.Series(np.int64(np.arange(len(topic_embeds))), index = topic_embeds.index)"
   ]
  },
  {
   "cell_type": "code",
   "execution_count": 10,
   "metadata": {},
   "outputs": [],
   "source": [
    "topic_idmap['-1'] = 10000"
   ]
  },
  {
   "cell_type": "markdown",
   "metadata": {},
   "source": [
    "## 处理用户属性"
   ]
  },
  {
   "cell_type": "code",
   "execution_count": 19,
   "metadata": {},
   "outputs": [],
   "source": [
    "user_df = pd.read_csv(os.path.join(dataDir, 'member_info_1020.csv'),\n",
    "                              #names= ['user_id', 'gender', 'visit_freq', 'binary_A',\n",
    "                               #      'binary_B', 'binary_C', 'binary_D', 'binary_E',\n",
    "                                #     'category_A' 'category_B', 'category_C',\n",
    "                                 #    'category_D', 'category_E', 'salt', 'follow_topics', 'interest_topics'],\n",
    "                              #sep= ',',\n",
    "                      index_col= 'user_id',\n",
    "                      # nrows= 5000\n",
    "                     )"
   ]
  },
  {
   "cell_type": "code",
   "execution_count": 20,
   "metadata": {
    "scrolled": true
   },
   "outputs": [
    {
     "data": {
      "text/html": [
       "<div>\n",
       "<style scoped>\n",
       "    .dataframe tbody tr th:only-of-type {\n",
       "        vertical-align: middle;\n",
       "    }\n",
       "\n",
       "    .dataframe tbody tr th {\n",
       "        vertical-align: top;\n",
       "    }\n",
       "\n",
       "    .dataframe thead th {\n",
       "        text-align: right;\n",
       "    }\n",
       "</style>\n",
       "<table border=\"1\" class=\"dataframe\">\n",
       "  <thead>\n",
       "    <tr style=\"text-align: right;\">\n",
       "      <th></th>\n",
       "      <th>gender</th>\n",
       "      <th>visit_freq</th>\n",
       "      <th>binary_A</th>\n",
       "      <th>binary_B</th>\n",
       "      <th>binary_C</th>\n",
       "      <th>binary_D</th>\n",
       "      <th>binary_E</th>\n",
       "      <th>category_A</th>\n",
       "      <th>category_B</th>\n",
       "      <th>category_C</th>\n",
       "      <th>category_D</th>\n",
       "      <th>category_E</th>\n",
       "      <th>salt_value</th>\n",
       "      <th>follow_topics</th>\n",
       "      <th>interest_topics</th>\n",
       "    </tr>\n",
       "    <tr>\n",
       "      <th>user_id</th>\n",
       "      <th></th>\n",
       "      <th></th>\n",
       "      <th></th>\n",
       "      <th></th>\n",
       "      <th></th>\n",
       "      <th></th>\n",
       "      <th></th>\n",
       "      <th></th>\n",
       "      <th></th>\n",
       "      <th></th>\n",
       "      <th></th>\n",
       "      <th></th>\n",
       "      <th></th>\n",
       "      <th></th>\n",
       "      <th></th>\n",
       "    </tr>\n",
       "  </thead>\n",
       "  <tbody>\n",
       "    <tr>\n",
       "      <th>M1934753188</th>\n",
       "      <td>male</td>\n",
       "      <td>monthly</td>\n",
       "      <td>0</td>\n",
       "      <td>1</td>\n",
       "      <td>0</td>\n",
       "      <td>1</td>\n",
       "      <td>0</td>\n",
       "      <td>MD470265</td>\n",
       "      <td>BR470265</td>\n",
       "      <td>PV929066</td>\n",
       "      <td>CT929066</td>\n",
       "      <td>PF470265</td>\n",
       "      <td>764</td>\n",
       "      <td>T540</td>\n",
       "      <td>T21107:1.7915097,T405:1.6123838,T4436:1.518003...</td>\n",
       "    </tr>\n",
       "    <tr>\n",
       "      <th>M595924114</th>\n",
       "      <td>male</td>\n",
       "      <td>daily</td>\n",
       "      <td>0</td>\n",
       "      <td>0</td>\n",
       "      <td>0</td>\n",
       "      <td>1</td>\n",
       "      <td>1</td>\n",
       "      <td>Others</td>\n",
       "      <td>BR596936</td>\n",
       "      <td>PV002320</td>\n",
       "      <td>CT840234</td>\n",
       "      <td>PF470265</td>\n",
       "      <td>671</td>\n",
       "      <td>T44126,T15940,T839,T8978,T2934,T1113,T3914,T12...</td>\n",
       "      <td>T18016:2.0650618,T2384:1.2503042,T1142:1.13569...</td>\n",
       "    </tr>\n",
       "    <tr>\n",
       "      <th>M1473482940</th>\n",
       "      <td>female</td>\n",
       "      <td>weekly</td>\n",
       "      <td>0</td>\n",
       "      <td>1</td>\n",
       "      <td>0</td>\n",
       "      <td>1</td>\n",
       "      <td>0</td>\n",
       "      <td>MD116493</td>\n",
       "      <td>BR641329</td>\n",
       "      <td>PV170953</td>\n",
       "      <td>CT470265</td>\n",
       "      <td>PF470265</td>\n",
       "      <td>454</td>\n",
       "      <td>T30874,T2113,T8656,T21,T523,T8,T116,T5727,T68,...</td>\n",
       "      <td>T46:1.330939,T2159:1.1296458,T379:1.1241927,T1...</td>\n",
       "    </tr>\n",
       "    <tr>\n",
       "      <th>M578477092</th>\n",
       "      <td>male</td>\n",
       "      <td>daily</td>\n",
       "      <td>1</td>\n",
       "      <td>1</td>\n",
       "      <td>0</td>\n",
       "      <td>1</td>\n",
       "      <td>0</td>\n",
       "      <td>MD889589</td>\n",
       "      <td>BR803759</td>\n",
       "      <td>PV545833</td>\n",
       "      <td>CT545833</td>\n",
       "      <td>PF470265</td>\n",
       "      <td>588</td>\n",
       "      <td>T946,T7323,T297,T2660,T36067,T53107,T2654,T507...</td>\n",
       "      <td>T15918:1.9479566,T8106:1.8578106,T4787:1.58486...</td>\n",
       "    </tr>\n",
       "    <tr>\n",
       "      <th>M1088794709</th>\n",
       "      <td>male</td>\n",
       "      <td>weekly</td>\n",
       "      <td>0</td>\n",
       "      <td>1</td>\n",
       "      <td>0</td>\n",
       "      <td>0</td>\n",
       "      <td>0</td>\n",
       "      <td>MD825760</td>\n",
       "      <td>BR641329</td>\n",
       "      <td>PV071037</td>\n",
       "      <td>CT470265</td>\n",
       "      <td>PF470265</td>\n",
       "      <td>361</td>\n",
       "      <td>T582,T558,T28776,T5186,T9081,T2419,T2693,T2299...</td>\n",
       "      <td>T65:1.5992582,T867:1.3179373,T93:1.2095009,T31...</td>\n",
       "    </tr>\n",
       "  </tbody>\n",
       "</table>\n",
       "</div>"
      ],
      "text/plain": [
       "             gender visit_freq  binary_A  binary_B  binary_C  binary_D  \\\n",
       "user_id                                                                  \n",
       "M1934753188    male    monthly         0         1         0         1   \n",
       "M595924114     male      daily         0         0         0         1   \n",
       "M1473482940  female     weekly         0         1         0         1   \n",
       "M578477092     male      daily         1         1         0         1   \n",
       "M1088794709    male     weekly         0         1         0         0   \n",
       "\n",
       "             binary_E category_A category_B category_C category_D category_E  \\\n",
       "user_id                                                                        \n",
       "M1934753188         0   MD470265   BR470265   PV929066   CT929066   PF470265   \n",
       "M595924114          1     Others   BR596936   PV002320   CT840234   PF470265   \n",
       "M1473482940         0   MD116493   BR641329   PV170953   CT470265   PF470265   \n",
       "M578477092          0   MD889589   BR803759   PV545833   CT545833   PF470265   \n",
       "M1088794709         0   MD825760   BR641329   PV071037   CT470265   PF470265   \n",
       "\n",
       "             salt_value                                      follow_topics  \\\n",
       "user_id                                                                      \n",
       "M1934753188         764                                               T540   \n",
       "M595924114          671  T44126,T15940,T839,T8978,T2934,T1113,T3914,T12...   \n",
       "M1473482940         454  T30874,T2113,T8656,T21,T523,T8,T116,T5727,T68,...   \n",
       "M578477092          588  T946,T7323,T297,T2660,T36067,T53107,T2654,T507...   \n",
       "M1088794709         361  T582,T558,T28776,T5186,T9081,T2419,T2693,T2299...   \n",
       "\n",
       "                                               interest_topics  \n",
       "user_id                                                         \n",
       "M1934753188  T21107:1.7915097,T405:1.6123838,T4436:1.518003...  \n",
       "M595924114   T18016:2.0650618,T2384:1.2503042,T1142:1.13569...  \n",
       "M1473482940  T46:1.330939,T2159:1.1296458,T379:1.1241927,T1...  \n",
       "M578477092   T15918:1.9479566,T8106:1.8578106,T4787:1.58486...  \n",
       "M1088794709  T65:1.5992582,T867:1.3179373,T93:1.2095009,T31...  "
      ]
     },
     "execution_count": 20,
     "metadata": {},
     "output_type": "execute_result"
    }
   ],
   "source": [
    "user_df.head()"
   ]
  },
  {
   "cell_type": "code",
   "execution_count": 21,
   "metadata": {},
   "outputs": [
    {
     "data": {
      "text/html": [
       "<div>\n",
       "<style scoped>\n",
       "    .dataframe tbody tr th:only-of-type {\n",
       "        vertical-align: middle;\n",
       "    }\n",
       "\n",
       "    .dataframe tbody tr th {\n",
       "        vertical-align: top;\n",
       "    }\n",
       "\n",
       "    .dataframe thead th {\n",
       "        text-align: right;\n",
       "    }\n",
       "</style>\n",
       "<table border=\"1\" class=\"dataframe\">\n",
       "  <thead>\n",
       "    <tr style=\"text-align: right;\">\n",
       "      <th></th>\n",
       "      <th>binary_A</th>\n",
       "      <th>binary_B</th>\n",
       "      <th>binary_C</th>\n",
       "      <th>binary_D</th>\n",
       "      <th>binary_E</th>\n",
       "      <th>salt_value</th>\n",
       "    </tr>\n",
       "  </thead>\n",
       "  <tbody>\n",
       "    <tr>\n",
       "      <th>count</th>\n",
       "      <td>1.931654e+06</td>\n",
       "      <td>1.931654e+06</td>\n",
       "      <td>1.931654e+06</td>\n",
       "      <td>1.931654e+06</td>\n",
       "      <td>1.931654e+06</td>\n",
       "      <td>1.931654e+06</td>\n",
       "    </tr>\n",
       "    <tr>\n",
       "      <th>mean</th>\n",
       "      <td>5.973637e-01</td>\n",
       "      <td>3.117147e-01</td>\n",
       "      <td>2.953117e-02</td>\n",
       "      <td>1.475352e-01</td>\n",
       "      <td>5.420381e-02</td>\n",
       "      <td>3.466341e+02</td>\n",
       "    </tr>\n",
       "    <tr>\n",
       "      <th>std</th>\n",
       "      <td>4.904288e-01</td>\n",
       "      <td>4.631941e-01</td>\n",
       "      <td>1.692900e-01</td>\n",
       "      <td>3.546388e-01</td>\n",
       "      <td>2.264195e-01</td>\n",
       "      <td>8.260136e+01</td>\n",
       "    </tr>\n",
       "    <tr>\n",
       "      <th>min</th>\n",
       "      <td>0.000000e+00</td>\n",
       "      <td>0.000000e+00</td>\n",
       "      <td>0.000000e+00</td>\n",
       "      <td>0.000000e+00</td>\n",
       "      <td>0.000000e+00</td>\n",
       "      <td>9.500000e+01</td>\n",
       "    </tr>\n",
       "    <tr>\n",
       "      <th>25%</th>\n",
       "      <td>0.000000e+00</td>\n",
       "      <td>0.000000e+00</td>\n",
       "      <td>0.000000e+00</td>\n",
       "      <td>0.000000e+00</td>\n",
       "      <td>0.000000e+00</td>\n",
       "      <td>2.950000e+02</td>\n",
       "    </tr>\n",
       "    <tr>\n",
       "      <th>50%</th>\n",
       "      <td>1.000000e+00</td>\n",
       "      <td>0.000000e+00</td>\n",
       "      <td>0.000000e+00</td>\n",
       "      <td>0.000000e+00</td>\n",
       "      <td>0.000000e+00</td>\n",
       "      <td>3.200000e+02</td>\n",
       "    </tr>\n",
       "    <tr>\n",
       "      <th>75%</th>\n",
       "      <td>1.000000e+00</td>\n",
       "      <td>1.000000e+00</td>\n",
       "      <td>0.000000e+00</td>\n",
       "      <td>0.000000e+00</td>\n",
       "      <td>0.000000e+00</td>\n",
       "      <td>3.730000e+02</td>\n",
       "    </tr>\n",
       "    <tr>\n",
       "      <th>max</th>\n",
       "      <td>1.000000e+00</td>\n",
       "      <td>1.000000e+00</td>\n",
       "      <td>1.000000e+00</td>\n",
       "      <td>1.000000e+00</td>\n",
       "      <td>1.000000e+00</td>\n",
       "      <td>8.900000e+02</td>\n",
       "    </tr>\n",
       "  </tbody>\n",
       "</table>\n",
       "</div>"
      ],
      "text/plain": [
       "           binary_A      binary_B      binary_C      binary_D      binary_E  \\\n",
       "count  1.931654e+06  1.931654e+06  1.931654e+06  1.931654e+06  1.931654e+06   \n",
       "mean   5.973637e-01  3.117147e-01  2.953117e-02  1.475352e-01  5.420381e-02   \n",
       "std    4.904288e-01  4.631941e-01  1.692900e-01  3.546388e-01  2.264195e-01   \n",
       "min    0.000000e+00  0.000000e+00  0.000000e+00  0.000000e+00  0.000000e+00   \n",
       "25%    0.000000e+00  0.000000e+00  0.000000e+00  0.000000e+00  0.000000e+00   \n",
       "50%    1.000000e+00  0.000000e+00  0.000000e+00  0.000000e+00  0.000000e+00   \n",
       "75%    1.000000e+00  1.000000e+00  0.000000e+00  0.000000e+00  0.000000e+00   \n",
       "max    1.000000e+00  1.000000e+00  1.000000e+00  1.000000e+00  1.000000e+00   \n",
       "\n",
       "         salt_value  \n",
       "count  1.931654e+06  \n",
       "mean   3.466341e+02  \n",
       "std    8.260136e+01  \n",
       "min    9.500000e+01  \n",
       "25%    2.950000e+02  \n",
       "50%    3.200000e+02  \n",
       "75%    3.730000e+02  \n",
       "max    8.900000e+02  "
      ]
     },
     "execution_count": 21,
     "metadata": {},
     "output_type": "execute_result"
    }
   ],
   "source": [
    "user_df.describe()"
   ]
  },
  {
   "cell_type": "markdown",
   "metadata": {},
   "source": [
    "#### -1 对应的　topic 以加权均值填充"
   ]
  },
  {
   "cell_type": "code",
   "execution_count": 23,
   "metadata": {},
   "outputs": [],
   "source": [
    "tp_count = np.zeros((num_topics, 1))\n",
    "for tp_s in user_df['follow_topics']:\n",
    "    if tp_s != '-1':\n",
    "        id_list = tp_s.split(',')\n",
    "        ind_list = topic_idmap[id_list].tolist()\n",
    "        for ind in ind_list:\n",
    "            tp_count[ind] += 1"
   ]
  },
  {
   "cell_type": "code",
   "execution_count": 24,
   "metadata": {},
   "outputs": [],
   "source": [
    "tp_weighted_mean = np.max(np.multiply(topic_vec, tp_count), axis= 0) / np.sum(tp_count)"
   ]
  },
  {
   "cell_type": "code",
   "execution_count": 25,
   "metadata": {},
   "outputs": [
    {
     "data": {
      "text/plain": [
       "(64,)"
      ]
     },
     "execution_count": 25,
     "metadata": {},
     "output_type": "execute_result"
    }
   ],
   "source": [
    "tp_weighted_mean.shape"
   ]
  },
  {
   "cell_type": "code",
   "execution_count": 26,
   "metadata": {},
   "outputs": [],
   "source": [
    "def maxpool_topics(s):\n",
    "    try:\n",
    "        id_list = s.split(',')\n",
    "        ind_list = topic_idmap[id_list].tolist()\n",
    "        topic_array = topic_vec[ind_list]\n",
    "        topic_mp = np.max(topic_array, axis= 0)\n",
    "    except:\n",
    "        topic_mp = tp_weighted_mean\n",
    "    return topic_mp"
   ]
  },
  {
   "cell_type": "code",
   "execution_count": 28,
   "metadata": {},
   "outputs": [],
   "source": [
    "def meanpool_topics(s):\n",
    "    try:\n",
    "        id_list = s.split(',')\n",
    "        ind_list = topic_idmap[id_list].tolist()\n",
    "        topic_array = topic_vec[ind_list]\n",
    "        topic_mp = np.mean(topic_array, axis= 0)\n",
    "    except:\n",
    "        topic_mp = tp_weighted_mean\n",
    "    return topic_mp"
   ]
  },
  {
   "cell_type": "code",
   "execution_count": 29,
   "metadata": {},
   "outputs": [],
   "source": [
    "def minpool_topics(s):\n",
    "    try:\n",
    "        id_list = s.split(',')\n",
    "        ind_list = topic_idmap[id_list].tolist()\n",
    "        topic_array = topic_vec[ind_list]\n",
    "        topic_mp = np.min(topic_array, axis= 0)\n",
    "    except:\n",
    "        topic_mp = tp_weighted_mean\n",
    "    return topic_mp"
   ]
  },
  {
   "cell_type": "markdown",
   "metadata": {},
   "source": [
    "#### follow topics 最大池化"
   ]
  },
  {
   "cell_type": "code",
   "execution_count": 30,
   "metadata": {},
   "outputs": [],
   "source": [
    "user_df['follow_topics_maxpool_vec'] = user_df['follow_topics'].apply(maxpool_topics)"
   ]
  },
  {
   "cell_type": "code",
   "execution_count": 32,
   "metadata": {
    "scrolled": false
   },
   "outputs": [
    {
     "data": {
      "text/plain": [
       "user_id\n",
       "M1934753188    [6.125305, -1.4180568, -1.3143845, -2.9268239,...\n",
       "M595924114     [3.8494484, 3.977306, 5.7516003, 4.9546337, 4....\n",
       "M1473482940    [3.4723787, 4.6616564, 3.5893476, 5.427303, 5....\n",
       "M578477092     [8.753078, 7.646762, 7.8675485, 5.283248, 6.17...\n",
       "M1088794709    [9.542506, 4.7182026, 4.145554, 2.87201, 7.516...\n",
       "Name: follow_topics_maxpool_vec, dtype: object"
      ]
     },
     "execution_count": 32,
     "metadata": {},
     "output_type": "execute_result"
    }
   ],
   "source": [
    "user_df['follow_topics_maxpool_vec'].head()"
   ]
  },
  {
   "cell_type": "code",
   "execution_count": 33,
   "metadata": {},
   "outputs": [],
   "source": [
    "follow_tp_maxpool_array = np.array(user_df['follow_topics_maxpool_vec'].tolist())"
   ]
  },
  {
   "cell_type": "code",
   "execution_count": 34,
   "metadata": {},
   "outputs": [
    {
     "data": {
      "text/plain": [
       "(1931654, 64)"
      ]
     },
     "execution_count": 34,
     "metadata": {},
     "output_type": "execute_result"
    }
   ],
   "source": [
    "follow_tp_maxpool_array.shape"
   ]
  },
  {
   "cell_type": "code",
   "execution_count": 35,
   "metadata": {},
   "outputs": [],
   "source": [
    "np.save(os.path.join(dataDir, 'user_follow_topics_maxpool.npy'), follow_tp_maxpool_array)"
   ]
  },
  {
   "cell_type": "markdown",
   "metadata": {},
   "source": [
    "#### follow topic 均值池化"
   ]
  },
  {
   "cell_type": "code",
   "execution_count": 36,
   "metadata": {},
   "outputs": [],
   "source": [
    "user_df['follow_topics_meanpool_vec'] = user_df['follow_topics'].apply(meanpool_topics)"
   ]
  },
  {
   "cell_type": "code",
   "execution_count": 37,
   "metadata": {
    "scrolled": true
   },
   "outputs": [
    {
     "data": {
      "text/plain": [
       "user_id\n",
       "M1934753188    [6.125305, -1.4180568, -1.3143845, -2.9268239,...\n",
       "M595924114     [0.30575216599999994, -0.9980522930666669, 0.0...\n",
       "M1473482940    [0.1508028030833333, 0.7434654864583335, -0.25...\n",
       "M578477092     [1.4605925141999998, -0.33966116570100013, 0.3...\n",
       "M1088794709    [0.9643650885294115, 0.31516375361764704, 0.82...\n",
       "Name: follow_topics_meanpool_vec, dtype: object"
      ]
     },
     "execution_count": 37,
     "metadata": {},
     "output_type": "execute_result"
    }
   ],
   "source": [
    "user_df['follow_topics_meanpool_vec'].head()"
   ]
  },
  {
   "cell_type": "code",
   "execution_count": 38,
   "metadata": {},
   "outputs": [],
   "source": [
    "follow_tp_meanpool_array = np.array(user_df['follow_topics_meanpool_vec'].tolist())"
   ]
  },
  {
   "cell_type": "code",
   "execution_count": 39,
   "metadata": {},
   "outputs": [
    {
     "data": {
      "text/plain": [
       "(1931654, 64)"
      ]
     },
     "execution_count": 39,
     "metadata": {},
     "output_type": "execute_result"
    }
   ],
   "source": [
    "follow_tp_meanpool_array.shape"
   ]
  },
  {
   "cell_type": "code",
   "execution_count": 40,
   "metadata": {},
   "outputs": [],
   "source": [
    "np.save(os.path.join(dataDir, 'user_follow_topics_meanpool.npy'), follow_tp_meanpool_array)"
   ]
  },
  {
   "cell_type": "markdown",
   "metadata": {},
   "source": [
    "#### follow topic 最小池化"
   ]
  },
  {
   "cell_type": "code",
   "execution_count": 41,
   "metadata": {},
   "outputs": [],
   "source": [
    "user_df['follow_topics_minpool_vec'] = user_df['follow_topics'].apply(minpool_topics)"
   ]
  },
  {
   "cell_type": "code",
   "execution_count": 42,
   "metadata": {
    "scrolled": true
   },
   "outputs": [
    {
     "data": {
      "text/plain": [
       "user_id\n",
       "M1934753188    [6.125305, -1.4180568, -1.3143845, -2.9268239,...\n",
       "M595924114     [-4.714479, -5.0564847, -6.1172757, -3.2384923...\n",
       "M1473482940    [-5.314164, -4.025875, -3.3724556, -3.7077088,...\n",
       "M578477092     [-4.448856, -7.467456, -7.378821, -8.584922, -...\n",
       "M1088794709    [-5.225668, -5.5874524, -4.6888633, -8.055199,...\n",
       "Name: follow_topics_minpool_vec, dtype: object"
      ]
     },
     "execution_count": 42,
     "metadata": {},
     "output_type": "execute_result"
    }
   ],
   "source": [
    "user_df['follow_topics_minpool_vec'].head()"
   ]
  },
  {
   "cell_type": "code",
   "execution_count": 43,
   "metadata": {},
   "outputs": [],
   "source": [
    "follow_tp_minpool_array = np.array(user_df['follow_topics_minpool_vec'].tolist())"
   ]
  },
  {
   "cell_type": "code",
   "execution_count": 44,
   "metadata": {},
   "outputs": [
    {
     "data": {
      "text/plain": [
       "(1931654, 64)"
      ]
     },
     "execution_count": 44,
     "metadata": {},
     "output_type": "execute_result"
    }
   ],
   "source": [
    "follow_tp_minpool_array.shape"
   ]
  },
  {
   "cell_type": "code",
   "execution_count": 45,
   "metadata": {},
   "outputs": [],
   "source": [
    "np.save(os.path.join(dataDir, 'user_follow_topics_minpool.npy'), follow_tp_minpool_array)"
   ]
  },
  {
   "cell_type": "markdown",
   "metadata": {},
   "source": [
    "#### 拼接，保存"
   ]
  },
  {
   "cell_type": "code",
   "execution_count": 46,
   "metadata": {},
   "outputs": [],
   "source": [
    "user_follow_topics_mp = np.concatenate([follow_tp_maxpool_array, follow_tp_meanpool_array, follow_tp_minpool_array], axis= -1)"
   ]
  },
  {
   "cell_type": "code",
   "execution_count": 47,
   "metadata": {},
   "outputs": [],
   "source": [
    "np.save(os.path.join(dataDir, 'user_follow_topics_mp.npy'), user_follow_topics_mp)"
   ]
  },
  {
   "cell_type": "markdown",
   "metadata": {},
   "source": [
    "### 添加topic 对应索引列"
   ]
  },
  {
   "cell_type": "markdown",
   "metadata": {},
   "source": [
    "### 盐值 salt value归一化"
   ]
  },
  {
   "cell_type": "code",
   "execution_count": 75,
   "metadata": {},
   "outputs": [],
   "source": [
    "from sklearn.preprocessing import MinMaxScaler"
   ]
  },
  {
   "cell_type": "code",
   "execution_count": 76,
   "metadata": {},
   "outputs": [],
   "source": [
    "saltValueScaler = MinMaxScaler((0, 1))"
   ]
  },
  {
   "cell_type": "code",
   "execution_count": 77,
   "metadata": {
    "scrolled": true
   },
   "outputs": [
    {
     "name": "stderr",
     "output_type": "stream",
     "text": [
      "/home/sc3/miniconda2/envs/ydzhang/lib/python3.6/site-packages/sklearn/preprocessing/data.py:323: DataConversionWarning: Data with input dtype int64 were all converted to float64 by MinMaxScaler.\n",
      "  return self.partial_fit(X, y)\n"
     ]
    }
   ],
   "source": [
    "user_df['salt_value'] = saltValueScaler.fit_transform(user_df[['salt_value', ]])"
   ]
  },
  {
   "cell_type": "markdown",
   "metadata": {},
   "source": [
    "### 编码类别属性"
   ]
  },
  {
   "cell_type": "code",
   "execution_count": 78,
   "metadata": {},
   "outputs": [],
   "source": [
    "from sklearn.preprocessing import LabelEncoder"
   ]
  },
  {
   "cell_type": "code",
   "execution_count": 79,
   "metadata": {},
   "outputs": [],
   "source": [
    "gender_encoder = LabelEncoder()"
   ]
  },
  {
   "cell_type": "code",
   "execution_count": 80,
   "metadata": {},
   "outputs": [],
   "source": [
    "user_df['gender'] = gender_encoder.fit_transform(user_df['gender'])"
   ]
  },
  {
   "cell_type": "code",
   "execution_count": 81,
   "metadata": {},
   "outputs": [],
   "source": [
    "visitFreq_encoder = LabelEncoder()"
   ]
  },
  {
   "cell_type": "code",
   "execution_count": 82,
   "metadata": {},
   "outputs": [],
   "source": [
    "user_df['visit_freq'] = visitFreq_encoder.fit_transform(user_df['visit_freq'])"
   ]
  },
  {
   "cell_type": "code",
   "execution_count": 83,
   "metadata": {},
   "outputs": [],
   "source": [
    "category_A_encoder = LabelEncoder()\n",
    "\n",
    "user_df['category_A'] = category_A_encoder.fit_transform(user_df['category_A'])"
   ]
  },
  {
   "cell_type": "code",
   "execution_count": 84,
   "metadata": {},
   "outputs": [],
   "source": [
    "category_B_encoder = LabelEncoder()\n",
    "\n",
    "user_df['category_B'] = category_B_encoder.fit_transform(user_df['category_B'])"
   ]
  },
  {
   "cell_type": "code",
   "execution_count": 85,
   "metadata": {},
   "outputs": [],
   "source": [
    "category_C_encoder = LabelEncoder()\n",
    "\n",
    "user_df['category_C'] = category_C_encoder.fit_transform(user_df['category_C'])"
   ]
  },
  {
   "cell_type": "code",
   "execution_count": 86,
   "metadata": {},
   "outputs": [],
   "source": [
    "category_D_encoder = LabelEncoder()\n",
    "\n",
    "user_df['category_D'] = category_D_encoder.fit_transform(user_df['category_D'])"
   ]
  },
  {
   "cell_type": "code",
   "execution_count": 87,
   "metadata": {},
   "outputs": [],
   "source": [
    "category_E_encoder = LabelEncoder()\n",
    "\n",
    "user_df['category_E'] = category_E_encoder.fit_transform(user_df['category_E'])"
   ]
  },
  {
   "cell_type": "markdown",
   "metadata": {},
   "source": [
    "#### 用户id编码"
   ]
  },
  {
   "cell_type": "code",
   "execution_count": 89,
   "metadata": {},
   "outputs": [],
   "source": [
    "user_df['user_index'] = np.arange(len(user_df))"
   ]
  },
  {
   "cell_type": "code",
   "execution_count": 90,
   "metadata": {},
   "outputs": [
    {
     "data": {
      "text/plain": [
       "1931654"
      ]
     },
     "execution_count": 90,
     "metadata": {},
     "output_type": "execute_result"
    }
   ],
   "source": [
    "len(user_df)"
   ]
  },
  {
   "cell_type": "markdown",
   "metadata": {},
   "source": [
    "共 1931654个 用户"
   ]
  },
  {
   "cell_type": "markdown",
   "metadata": {},
   "source": [
    "#### 统计topic所占权重和"
   ]
  },
  {
   "cell_type": "code",
   "execution_count": 131,
   "metadata": {},
   "outputs": [],
   "source": [
    "tp_weight = np.zeros((num_topics, 1))\n",
    "for tp_s in user_df['interest_topics']:\n",
    "    if tp_s != '-1':\n",
    "        id_str_list = tp_s.split(',')\n",
    "        for id_str in id_str_list:\n",
    "            tp_id, weight_str = id_str.split(':')\n",
    "            weight = float(weight_str)\n",
    "            # print(tp_id, weight)\n",
    "            \n",
    "            tp_weight[topic_idmap[tp_id]] += weight"
   ]
  },
  {
   "cell_type": "code",
   "execution_count": 134,
   "metadata": {
    "scrolled": true
   },
   "outputs": [
    {
     "data": {
      "text/plain": [
       "array([[    0.        ],\n",
       "       [51948.39888056],\n",
       "       [33987.26315429],\n",
       "       [17684.07810108],\n",
       "       [40966.03172979],\n",
       "       [22649.40822608],\n",
       "       [15049.13911903],\n",
       "       [40835.19418761],\n",
       "       [48815.12520887],\n",
       "       [20187.81928158],\n",
       "       [23216.35223568],\n",
       "       [13801.42462087],\n",
       "       [17182.09323776],\n",
       "       [ 5656.35933362],\n",
       "       [15851.46695401],\n",
       "       [27580.26397775],\n",
       "       [29635.54168217],\n",
       "       [41146.43601064],\n",
       "       [34605.12741778],\n",
       "       [14411.78559699],\n",
       "       [10410.12467941],\n",
       "       [29863.90690965],\n",
       "       [20313.63107364],\n",
       "       [20513.03201613],\n",
       "       [20674.17432297],\n",
       "       [34228.18583081],\n",
       "       [10657.10852358],\n",
       "       [32626.13109777],\n",
       "       [30295.55705368],\n",
       "       [ 4933.24136651],\n",
       "       [67045.66956224],\n",
       "       [17145.51438338],\n",
       "       [ 8797.63776966],\n",
       "       [ 8251.64858598],\n",
       "       [12180.62890914],\n",
       "       [23916.00224894],\n",
       "       [21275.02661513],\n",
       "       [24758.36588506],\n",
       "       [19960.98524567],\n",
       "       [16299.62462713],\n",
       "       [14548.58706416],\n",
       "       [29317.21609574],\n",
       "       [10735.92388229],\n",
       "       [25165.75908229],\n",
       "       [ 9254.96275879],\n",
       "       [61696.20425161],\n",
       "       [15641.60637763],\n",
       "       [ 8285.11227341],\n",
       "       [15377.62259203],\n",
       "       [38239.9067816 ],\n",
       "       [37332.04058335],\n",
       "       [ 8637.38529485],\n",
       "       [17170.67910261],\n",
       "       [ 4779.94655955],\n",
       "       [15380.14983296],\n",
       "       [10695.28464626],\n",
       "       [25950.765228  ],\n",
       "       [18500.63566351],\n",
       "       [ 2228.5267738 ],\n",
       "       [11528.16068224],\n",
       "       [18327.56388374],\n",
       "       [20638.97955544],\n",
       "       [ 8757.30737393],\n",
       "       [11279.06509112],\n",
       "       [16931.34393732],\n",
       "       [ 7401.9351904 ],\n",
       "       [ 3633.32257113],\n",
       "       [21408.64265876],\n",
       "       [ 7895.70529427],\n",
       "       [15593.70754882],\n",
       "       [ 9085.14862558],\n",
       "       [ 6687.44880939],\n",
       "       [29389.57015468],\n",
       "       [ 7146.20742283],\n",
       "       [38174.44589498],\n",
       "       [22181.40310246],\n",
       "       [ 1834.2916335 ],\n",
       "       [53506.6302265 ],\n",
       "       [ 3506.74610284],\n",
       "       [15295.26985312],\n",
       "       [13381.11864098],\n",
       "       [12689.21377093],\n",
       "       [ 9329.19722771],\n",
       "       [21190.61746222],\n",
       "       [ 1740.77196953],\n",
       "       [ 9008.15866013],\n",
       "       [11796.77228318],\n",
       "       [12944.20608954],\n",
       "       [20843.30711792],\n",
       "       [ 9870.51629342],\n",
       "       [ 5930.47723757],\n",
       "       [ 2920.36212289],\n",
       "       [ 8577.68337315],\n",
       "       [12148.98364167],\n",
       "       [ 5864.57343979],\n",
       "       [12490.2442969 ],\n",
       "       [ 7970.02293127],\n",
       "       [31537.04640031],\n",
       "       [ 4158.24475756],\n",
       "       [ 9472.58118253]])"
      ]
     },
     "execution_count": 134,
     "metadata": {},
     "output_type": "execute_result"
    }
   ],
   "source": [
    "tp_weight[:100,]"
   ]
  },
  {
   "cell_type": "code",
   "execution_count": 142,
   "metadata": {},
   "outputs": [
    {
     "data": {
      "text/plain": [
       "(100000, 64)"
      ]
     },
     "execution_count": 142,
     "metadata": {},
     "output_type": "execute_result"
    }
   ],
   "source": [
    "topic_vec.shape"
   ]
  },
  {
   "cell_type": "code",
   "execution_count": 143,
   "metadata": {},
   "outputs": [
    {
     "data": {
      "text/plain": [
       "(100000, 1)"
      ]
     },
     "execution_count": 143,
     "metadata": {},
     "output_type": "execute_result"
    }
   ],
   "source": [
    "tp_weight.shape"
   ]
  },
  {
   "cell_type": "code",
   "execution_count": 145,
   "metadata": {},
   "outputs": [
    {
     "data": {
      "text/plain": [
       "dtype('float64')"
      ]
     },
     "execution_count": 145,
     "metadata": {},
     "output_type": "execute_result"
    }
   ],
   "source": [
    "tp_weight.dtype"
   ]
  },
  {
   "cell_type": "markdown",
   "metadata": {},
   "source": [
    "#### interest topic 加权和"
   ]
  },
  {
   "cell_type": "code",
   "execution_count": 148,
   "metadata": {},
   "outputs": [],
   "source": [
    "def map_weighted_topics(tp_s):\n",
    "    id_str_list = tp_s.split(',')\n",
    "    tp_list = []\n",
    "    weight_list = []\n",
    "    for id_str in id_str_list:\n",
    "        tp_id, weight_str = id_str.split(':')\n",
    "        weight = float(weight_str)\n",
    "        if weight < 100:\n",
    "            tp_list.append(tp_id)\n",
    "            weight_list.append(weight)\n",
    "    tp_inds = topic_idmap[tp_list]\n",
    "    tp_array = topic_vec[tp_inds]\n",
    "    weight_array = np.array(weight_list).reshape(1, -1)\n",
    "    weighted_tp = np.dot(weight_array, tp_array) \n",
    "    return weighted_tp"
   ]
  },
  {
   "cell_type": "code",
   "execution_count": 149,
   "metadata": {},
   "outputs": [],
   "source": [
    "interest_topic_wp = user_df['interest_topics'].loc[user_df['interest_topics'] != '-1'].map(map_weighted_topics)"
   ]
  },
  {
   "cell_type": "code",
   "execution_count": 165,
   "metadata": {},
   "outputs": [],
   "source": [
    "interest_topic_wp_array = np.array(interest_topic_wp.tolist())"
   ]
  },
  {
   "cell_type": "code",
   "execution_count": 166,
   "metadata": {},
   "outputs": [
    {
     "data": {
      "text/plain": [
       "(1410201, 1, 64)"
      ]
     },
     "execution_count": 166,
     "metadata": {},
     "output_type": "execute_result"
    }
   ],
   "source": [
    "interest_topic_wp_array.shape"
   ]
  },
  {
   "cell_type": "code",
   "execution_count": 167,
   "metadata": {},
   "outputs": [],
   "source": [
    "interest_topic_mean_vec = np.mean(interest_topic_wp_array, axis= 0)"
   ]
  },
  {
   "cell_type": "code",
   "execution_count": 168,
   "metadata": {},
   "outputs": [
    {
     "data": {
      "text/plain": [
       "(1, 64)"
      ]
     },
     "execution_count": 168,
     "metadata": {},
     "output_type": "execute_result"
    }
   ],
   "source": [
    "interest_topic_mean_vec.shape"
   ]
  },
  {
   "cell_type": "code",
   "execution_count": 183,
   "metadata": {},
   "outputs": [],
   "source": [
    "interest_topic_wp_full = interest_topic_wp[user_df.index]"
   ]
  },
  {
   "cell_type": "code",
   "execution_count": 184,
   "metadata": {
    "scrolled": true
   },
   "outputs": [
    {
     "data": {
      "text/plain": [
       "user_id\n",
       "M1934753188    [[5.255145018431923, 28.50721119338999, 5.7193...\n",
       "M595924114     [[-19.947685124736022, 13.387408371544119, -3....\n",
       "M1473482940    [[-2.582439761748401, 6.167275103940158, -0.75...\n",
       "M578477092     [[14.90885522421449, 14.438666038597825, 11.79...\n",
       "M1088794709    [[15.879302100003166, -11.453530874701517, -7....\n",
       "M791147511     [[-13.528778701131753, 0.9688039794237486, 1.5...\n",
       "M391878471                                                   NaN\n",
       "M1642994942                                                  NaN\n",
       "M3475398927    [[9.237489395788591, -5.474324058663583, -12.0...\n",
       "M3321320610    [[10.877166869215074, -18.71358118595563, -12....\n",
       "M667025082                                                   NaN\n",
       "M1702145609                                                  NaN\n",
       "M48697732                                                    NaN\n",
       "M1147507896    [[17.19764123280288, 31.86464801467039, -23.38...\n",
       "M2359456368    [[21.47295947372292, -8.348840217343001, 21.05...\n",
       "M3359293730    [[9.021817876350612, -1.715968110612088, 34.68...\n",
       "M3464014243    [[6.420704302530605, -2.1302985344339125, 6.86...\n",
       "M1125729346    [[10.046257133341468, 0.7861712898413873, 3.51...\n",
       "M1015078634    [[-1.4227926788674001, 10.265509144219351, 6.5...\n",
       "M803691814                                                   NaN\n",
       "M1163370238    [[-14.407921618197381, -9.969610897932162, -3....\n",
       "M3051455963    [[4.985576766230897, -2.277810204225754, 4.487...\n",
       "M1912267651    [[2.5855682368266, 0.9934732875441601, -0.4464...\n",
       "M1695881521    [[2.7129561136524014, -10.308788113446424, -1....\n",
       "M2002294266    [[5.996763427244609, -3.2831908581313747, -5.4...\n",
       "M3451478286                                                  NaN\n",
       "M2624756944    [[3.4686658227825165, 0.6301694017408279, 5.57...\n",
       "M423548448     [[-7.1151206262084195, 5.589252040590899, 1.14...\n",
       "M1594705330    [[-12.769506844758942, -4.907289030101474, -4....\n",
       "M1628889275    [[-5.0417274195907495, -8.534530627521184, -10...\n",
       "                                     ...                        \n",
       "M609053786     [[11.788382026600303, 9.881772560409152, 16.50...\n",
       "M2871887899    [[10.592679375316404, 6.427907643843282, 2.291...\n",
       "M1779718624    [[1.702579896824159, 8.607614928592099, 11.669...\n",
       "M2454420078    [[-0.209231999728884, 1.38985071327828, 1.0587...\n",
       "M2723898996    [[5.565855006205359, 13.862534910061878, 8.560...\n",
       "M1187799352    [[-2.462848739335795, -2.6282482892726398, 0.4...\n",
       "M969798633     [[-1.4937574684577186, 3.8204571041528386, 4.6...\n",
       "M3126687700    [[5.0565486152859185, -7.3282341915183915, -5....\n",
       "M456781702     [[-5.3747349899294505, -5.778216060828858, 3.8...\n",
       "M291192657     [[3.652182155759352, -2.174562624779244, -1.37...\n",
       "M1337608130    [[-5.381451792461575, 5.341913328352638, 3.358...\n",
       "M1040694177                                                  NaN\n",
       "M1367823543                                                  NaN\n",
       "M2674570271                                                  NaN\n",
       "M2199161551    [[-10.588166999173984, 21.03681563858533, 9.71...\n",
       "M81878439      [[17.903574149691966, -0.8465587204025763, 5.1...\n",
       "M3215158521    [[10.719404145609433, 14.521368998354538, 2.38...\n",
       "M3384246861                                                  NaN\n",
       "M2920066898    [[10.974189569370601, 21.936902823090236, 12.4...\n",
       "M2526382652    [[-15.279322699799145, 26.841984985925446, 13....\n",
       "M3549470239    [[2.890924202774892, -2.2974597280267517, -0.8...\n",
       "M2544178741    [[5.325360763185644, -5.8579981157886465, -4.7...\n",
       "M3012615929    [[-9.559309307202678, 13.479810457172928, 25.3...\n",
       "M3028264828    [[-2.0923028360106715, 10.658373935205693, 1.1...\n",
       "M1813830122    [[4.514164307031907, -0.6658923541053334, 0.88...\n",
       "M4034349169    [[4.123108174592475, -24.377816065306313, 7.17...\n",
       "M4209576374    [[0.6526443913748388, 3.5439401222913967, 11.1...\n",
       "M7752663                                                     NaN\n",
       "M259324986     [[-7.515239755074815, -11.560471755274778, 0.1...\n",
       "M2556858392    [[-9.027171873716677, -23.313756934001812, -9....\n",
       "Name: interest_topics, Length: 100, dtype: object"
      ]
     },
     "execution_count": 184,
     "metadata": {},
     "output_type": "execute_result"
    }
   ],
   "source": [
    "interest_topic_wp_full.head(100)"
   ]
  },
  {
   "cell_type": "code",
   "execution_count": 185,
   "metadata": {},
   "outputs": [
    {
     "data": {
      "text/plain": [
       "(1931654, 1410201)"
      ]
     },
     "execution_count": 185,
     "metadata": {},
     "output_type": "execute_result"
    }
   ],
   "source": [
    "len(interest_topic_wp_full), len(interest_topic_wp)"
   ]
  },
  {
   "cell_type": "code",
   "execution_count": 188,
   "metadata": {},
   "outputs": [],
   "source": [
    "interest_topic_wp_full = interest_topic_wp_full.map(lambda x: interest_topic_mean_vec if np.any(np.isnan(x)) else x)"
   ]
  },
  {
   "cell_type": "code",
   "execution_count": 189,
   "metadata": {
    "scrolled": true
   },
   "outputs": [
    {
     "data": {
      "text/plain": [
       "user_id\n",
       "M1934753188    [[5.255145018431923, 28.50721119338999, 5.7193...\n",
       "M595924114     [[-19.947685124736022, 13.387408371544119, -3....\n",
       "M1473482940    [[-2.582439761748401, 6.167275103940158, -0.75...\n",
       "M578477092     [[14.90885522421449, 14.438666038597825, 11.79...\n",
       "M1088794709    [[15.879302100003166, -11.453530874701517, -7....\n",
       "M791147511     [[-13.528778701131753, 0.9688039794237486, 1.5...\n",
       "M391878471     [[2.0622380868806522, -1.0639604998612744, 1.6...\n",
       "M1642994942    [[2.0622380868806522, -1.0639604998612744, 1.6...\n",
       "M3475398927    [[9.237489395788591, -5.474324058663583, -12.0...\n",
       "M3321320610    [[10.877166869215074, -18.71358118595563, -12....\n",
       "M667025082     [[2.0622380868806522, -1.0639604998612744, 1.6...\n",
       "M1702145609    [[2.0622380868806522, -1.0639604998612744, 1.6...\n",
       "M48697732      [[2.0622380868806522, -1.0639604998612744, 1.6...\n",
       "M1147507896    [[17.19764123280288, 31.86464801467039, -23.38...\n",
       "M2359456368    [[21.47295947372292, -8.348840217343001, 21.05...\n",
       "M3359293730    [[9.021817876350612, -1.715968110612088, 34.68...\n",
       "M3464014243    [[6.420704302530605, -2.1302985344339125, 6.86...\n",
       "M1125729346    [[10.046257133341468, 0.7861712898413873, 3.51...\n",
       "M1015078634    [[-1.4227926788674001, 10.265509144219351, 6.5...\n",
       "M803691814     [[2.0622380868806522, -1.0639604998612744, 1.6...\n",
       "M1163370238    [[-14.407921618197381, -9.969610897932162, -3....\n",
       "M3051455963    [[4.985576766230897, -2.277810204225754, 4.487...\n",
       "M1912267651    [[2.5855682368266, 0.9934732875441601, -0.4464...\n",
       "M1695881521    [[2.7129561136524014, -10.308788113446424, -1....\n",
       "M2002294266    [[5.996763427244609, -3.2831908581313747, -5.4...\n",
       "M3451478286    [[2.0622380868806522, -1.0639604998612744, 1.6...\n",
       "M2624756944    [[3.4686658227825165, 0.6301694017408279, 5.57...\n",
       "M423548448     [[-7.1151206262084195, 5.589252040590899, 1.14...\n",
       "M1594705330    [[-12.769506844758942, -4.907289030101474, -4....\n",
       "M1628889275    [[-5.0417274195907495, -8.534530627521184, -10...\n",
       "                                     ...                        \n",
       "M609053786     [[11.788382026600303, 9.881772560409152, 16.50...\n",
       "M2871887899    [[10.592679375316404, 6.427907643843282, 2.291...\n",
       "M1779718624    [[1.702579896824159, 8.607614928592099, 11.669...\n",
       "M2454420078    [[-0.209231999728884, 1.38985071327828, 1.0587...\n",
       "M2723898996    [[5.565855006205359, 13.862534910061878, 8.560...\n",
       "M1187799352    [[-2.462848739335795, -2.6282482892726398, 0.4...\n",
       "M969798633     [[-1.4937574684577186, 3.8204571041528386, 4.6...\n",
       "M3126687700    [[5.0565486152859185, -7.3282341915183915, -5....\n",
       "M456781702     [[-5.3747349899294505, -5.778216060828858, 3.8...\n",
       "M291192657     [[3.652182155759352, -2.174562624779244, -1.37...\n",
       "M1337608130    [[-5.381451792461575, 5.341913328352638, 3.358...\n",
       "M1040694177    [[2.0622380868806522, -1.0639604998612744, 1.6...\n",
       "M1367823543    [[2.0622380868806522, -1.0639604998612744, 1.6...\n",
       "M2674570271    [[2.0622380868806522, -1.0639604998612744, 1.6...\n",
       "M2199161551    [[-10.588166999173984, 21.03681563858533, 9.71...\n",
       "M81878439      [[17.903574149691966, -0.8465587204025763, 5.1...\n",
       "M3215158521    [[10.719404145609433, 14.521368998354538, 2.38...\n",
       "M3384246861    [[2.0622380868806522, -1.0639604998612744, 1.6...\n",
       "M2920066898    [[10.974189569370601, 21.936902823090236, 12.4...\n",
       "M2526382652    [[-15.279322699799145, 26.841984985925446, 13....\n",
       "M3549470239    [[2.890924202774892, -2.2974597280267517, -0.8...\n",
       "M2544178741    [[5.325360763185644, -5.8579981157886465, -4.7...\n",
       "M3012615929    [[-9.559309307202678, 13.479810457172928, 25.3...\n",
       "M3028264828    [[-2.0923028360106715, 10.658373935205693, 1.1...\n",
       "M1813830122    [[4.514164307031907, -0.6658923541053334, 0.88...\n",
       "M4034349169    [[4.123108174592475, -24.377816065306313, 7.17...\n",
       "M4209576374    [[0.6526443913748388, 3.5439401222913967, 11.1...\n",
       "M7752663       [[2.0622380868806522, -1.0639604998612744, 1.6...\n",
       "M259324986     [[-7.515239755074815, -11.560471755274778, 0.1...\n",
       "M2556858392    [[-9.027171873716677, -23.313756934001812, -9....\n",
       "Name: interest_topics, Length: 100, dtype: object"
      ]
     },
     "execution_count": 189,
     "metadata": {},
     "output_type": "execute_result"
    }
   ],
   "source": [
    "interest_topic_wp_full.head(100)"
   ]
  },
  {
   "cell_type": "code",
   "execution_count": 192,
   "metadata": {},
   "outputs": [],
   "source": [
    "interest_topic_wp_full_array = np.squeeze(np.array(interest_topic_wp_full.tolist()))"
   ]
  },
  {
   "cell_type": "code",
   "execution_count": 193,
   "metadata": {},
   "outputs": [
    {
     "data": {
      "text/plain": [
       "(1931654, 64)"
      ]
     },
     "execution_count": 193,
     "metadata": {},
     "output_type": "execute_result"
    }
   ],
   "source": [
    "interest_topic_wp_full_array.shape"
   ]
  },
  {
   "cell_type": "code",
   "execution_count": 196,
   "metadata": {},
   "outputs": [],
   "source": [
    "assert interest_topic_wp_full_array.shape[0] == len(user_df)"
   ]
  },
  {
   "cell_type": "code",
   "execution_count": 194,
   "metadata": {},
   "outputs": [],
   "source": [
    "np.save(os.path.join(dataDir, 'interest_topic_wp.npy'), interest_topic_wp_full_array)"
   ]
  },
  {
   "cell_type": "markdown",
   "metadata": {},
   "source": [
    "#### 添加 follow_topic_wp 索引列"
   ]
  },
  {
   "cell_type": "code",
   "execution_count": 91,
   "metadata": {},
   "outputs": [],
   "source": [
    "user_df['interest_topics_wp'] = np.arange(len(user_df))"
   ]
  },
  {
   "cell_type": "markdown",
   "metadata": {},
   "source": [
    "#### user answer count"
   ]
  },
  {
   "cell_type": "code",
   "execution_count": 56,
   "metadata": {},
   "outputs": [],
   "source": [
    "user_df['answer_count'] = user_ans_count[user_df.index]"
   ]
  },
  {
   "cell_type": "code",
   "execution_count": 57,
   "metadata": {
    "scrolled": true
   },
   "outputs": [
    {
     "data": {
      "text/plain": [
       "user_id\n",
       "M1934753188    2.0\n",
       "M595924114     1.0\n",
       "M1473482940    1.0\n",
       "M578477092     2.0\n",
       "M1088794709    1.0\n",
       "M791147511     1.0\n",
       "M391878471     1.0\n",
       "M1642994942    NaN\n",
       "M3475398927    4.0\n",
       "M3321320610    NaN\n",
       "Name: answer_count, dtype: float64"
      ]
     },
     "execution_count": 57,
     "metadata": {},
     "output_type": "execute_result"
    }
   ],
   "source": [
    "user_df['answer_count'].head(10)"
   ]
  },
  {
   "cell_type": "code",
   "execution_count": 58,
   "metadata": {},
   "outputs": [],
   "source": [
    "user_df.loc[user_df['answer_count'].isna(), 'answer_count'] = 0"
   ]
  },
  {
   "cell_type": "code",
   "execution_count": 59,
   "metadata": {},
   "outputs": [
    {
     "data": {
      "text/plain": [
       "user_id\n",
       "M1934753188    2.0\n",
       "M595924114     1.0\n",
       "M1473482940    1.0\n",
       "M578477092     2.0\n",
       "M1088794709    1.0\n",
       "M791147511     1.0\n",
       "M391878471     1.0\n",
       "M1642994942    0.0\n",
       "M3475398927    4.0\n",
       "M3321320610    0.0\n",
       "Name: answer_count, dtype: float64"
      ]
     },
     "execution_count": 59,
     "metadata": {},
     "output_type": "execute_result"
    }
   ],
   "source": [
    "user_df['answer_count'].head(10)"
   ]
  },
  {
   "cell_type": "code",
   "execution_count": 64,
   "metadata": {},
   "outputs": [],
   "source": [
    "user_df['invite_count'] = user_invite_count[user_df.index]"
   ]
  },
  {
   "cell_type": "code",
   "execution_count": 65,
   "metadata": {},
   "outputs": [
    {
     "data": {
      "text/plain": [
       "user_id\n",
       "M1934753188    14.0\n",
       "M595924114     13.0\n",
       "M1473482940    20.0\n",
       "M578477092     21.0\n",
       "M1088794709     8.0\n",
       "M791147511      8.0\n",
       "M391878471      3.0\n",
       "M1642994942     NaN\n",
       "M3475398927    26.0\n",
       "M3321320610     7.0\n",
       "Name: invite_count, dtype: float64"
      ]
     },
     "execution_count": 65,
     "metadata": {},
     "output_type": "execute_result"
    }
   ],
   "source": [
    "user_df['invite_count'].head(10)"
   ]
  },
  {
   "cell_type": "code",
   "execution_count": 67,
   "metadata": {},
   "outputs": [],
   "source": [
    "user_df.loc[user_df['invite_count'].isna(), 'invite_count'] = 1E-10"
   ]
  },
  {
   "cell_type": "code",
   "execution_count": 71,
   "metadata": {},
   "outputs": [
    {
     "data": {
      "text/plain": [
       "user_id\n",
       "M1934753188    0.142857\n",
       "M595924114     0.076923\n",
       "M1473482940    0.050000\n",
       "M578477092     0.095238\n",
       "M1088794709    0.125000\n",
       "M791147511     0.125000\n",
       "M391878471     0.333333\n",
       "M1642994942    0.000000\n",
       "M3475398927    0.153846\n",
       "M3321320610    0.000000\n",
       "Name: accept_ratio, dtype: float64"
      ]
     },
     "execution_count": 71,
     "metadata": {},
     "output_type": "execute_result"
    }
   ],
   "source": [
    "user_df['accept_ratio'].head(10)"
   ]
  },
  {
   "cell_type": "markdown",
   "metadata": {},
   "source": [
    "#### 检查user_df"
   ]
  },
  {
   "cell_type": "code",
   "execution_count": 92,
   "metadata": {},
   "outputs": [
    {
     "data": {
      "text/html": [
       "<div>\n",
       "<style scoped>\n",
       "    .dataframe tbody tr th:only-of-type {\n",
       "        vertical-align: middle;\n",
       "    }\n",
       "\n",
       "    .dataframe tbody tr th {\n",
       "        vertical-align: top;\n",
       "    }\n",
       "\n",
       "    .dataframe thead th {\n",
       "        text-align: right;\n",
       "    }\n",
       "</style>\n",
       "<table border=\"1\" class=\"dataframe\">\n",
       "  <thead>\n",
       "    <tr style=\"text-align: right;\">\n",
       "      <th></th>\n",
       "      <th>gender</th>\n",
       "      <th>visit_freq</th>\n",
       "      <th>binary_A</th>\n",
       "      <th>binary_B</th>\n",
       "      <th>binary_C</th>\n",
       "      <th>binary_D</th>\n",
       "      <th>binary_E</th>\n",
       "      <th>category_A</th>\n",
       "      <th>category_B</th>\n",
       "      <th>category_C</th>\n",
       "      <th>...</th>\n",
       "      <th>category_E</th>\n",
       "      <th>salt_value</th>\n",
       "      <th>follow_topics</th>\n",
       "      <th>interest_topics</th>\n",
       "      <th>answer_count</th>\n",
       "      <th>invite_count</th>\n",
       "      <th>accept_ratio</th>\n",
       "      <th>follow_topics_mp</th>\n",
       "      <th>user_index</th>\n",
       "      <th>interest_topics_wp</th>\n",
       "    </tr>\n",
       "    <tr>\n",
       "      <th>user_id</th>\n",
       "      <th></th>\n",
       "      <th></th>\n",
       "      <th></th>\n",
       "      <th></th>\n",
       "      <th></th>\n",
       "      <th></th>\n",
       "      <th></th>\n",
       "      <th></th>\n",
       "      <th></th>\n",
       "      <th></th>\n",
       "      <th></th>\n",
       "      <th></th>\n",
       "      <th></th>\n",
       "      <th></th>\n",
       "      <th></th>\n",
       "      <th></th>\n",
       "      <th></th>\n",
       "      <th></th>\n",
       "      <th></th>\n",
       "      <th></th>\n",
       "      <th></th>\n",
       "    </tr>\n",
       "  </thead>\n",
       "  <tbody>\n",
       "    <tr>\n",
       "      <th>M1934753188</th>\n",
       "      <td>1</td>\n",
       "      <td>1</td>\n",
       "      <td>0</td>\n",
       "      <td>1</td>\n",
       "      <td>0</td>\n",
       "      <td>1</td>\n",
       "      <td>0</td>\n",
       "      <td>82</td>\n",
       "      <td>69</td>\n",
       "      <td>142</td>\n",
       "      <td>...</td>\n",
       "      <td>1</td>\n",
       "      <td>0.841509</td>\n",
       "      <td>T540</td>\n",
       "      <td>T21107:1.7915097,T405:1.6123838,T4436:1.518003...</td>\n",
       "      <td>2.0</td>\n",
       "      <td>14.0</td>\n",
       "      <td>0.142857</td>\n",
       "      <td>0</td>\n",
       "      <td>0</td>\n",
       "      <td>0</td>\n",
       "    </tr>\n",
       "    <tr>\n",
       "      <th>M595924114</th>\n",
       "      <td>1</td>\n",
       "      <td>0</td>\n",
       "      <td>0</td>\n",
       "      <td>0</td>\n",
       "      <td>0</td>\n",
       "      <td>1</td>\n",
       "      <td>1</td>\n",
       "      <td>149</td>\n",
       "      <td>89</td>\n",
       "      <td>1</td>\n",
       "      <td>...</td>\n",
       "      <td>1</td>\n",
       "      <td>0.724528</td>\n",
       "      <td>T44126,T15940,T839,T8978,T2934,T1113,T3914,T12...</td>\n",
       "      <td>T18016:2.0650618,T2384:1.2503042,T1142:1.13569...</td>\n",
       "      <td>1.0</td>\n",
       "      <td>13.0</td>\n",
       "      <td>0.076923</td>\n",
       "      <td>1</td>\n",
       "      <td>1</td>\n",
       "      <td>1</td>\n",
       "    </tr>\n",
       "    <tr>\n",
       "      <th>M1473482940</th>\n",
       "      <td>0</td>\n",
       "      <td>4</td>\n",
       "      <td>0</td>\n",
       "      <td>1</td>\n",
       "      <td>0</td>\n",
       "      <td>1</td>\n",
       "      <td>0</td>\n",
       "      <td>19</td>\n",
       "      <td>99</td>\n",
       "      <td>31</td>\n",
       "      <td>...</td>\n",
       "      <td>1</td>\n",
       "      <td>0.451572</td>\n",
       "      <td>T30874,T2113,T8656,T21,T523,T8,T116,T5727,T68,...</td>\n",
       "      <td>T46:1.330939,T2159:1.1296458,T379:1.1241927,T1...</td>\n",
       "      <td>1.0</td>\n",
       "      <td>20.0</td>\n",
       "      <td>0.050000</td>\n",
       "      <td>2</td>\n",
       "      <td>2</td>\n",
       "      <td>2</td>\n",
       "    </tr>\n",
       "    <tr>\n",
       "      <th>M578477092</th>\n",
       "      <td>1</td>\n",
       "      <td>0</td>\n",
       "      <td>1</td>\n",
       "      <td>1</td>\n",
       "      <td>0</td>\n",
       "      <td>1</td>\n",
       "      <td>0</td>\n",
       "      <td>134</td>\n",
       "      <td>120</td>\n",
       "      <td>88</td>\n",
       "      <td>...</td>\n",
       "      <td>1</td>\n",
       "      <td>0.620126</td>\n",
       "      <td>T946,T7323,T297,T2660,T36067,T53107,T2654,T507...</td>\n",
       "      <td>T15918:1.9479566,T8106:1.8578106,T4787:1.58486...</td>\n",
       "      <td>2.0</td>\n",
       "      <td>21.0</td>\n",
       "      <td>0.095238</td>\n",
       "      <td>3</td>\n",
       "      <td>3</td>\n",
       "      <td>3</td>\n",
       "    </tr>\n",
       "    <tr>\n",
       "      <th>M1088794709</th>\n",
       "      <td>1</td>\n",
       "      <td>4</td>\n",
       "      <td>0</td>\n",
       "      <td>1</td>\n",
       "      <td>0</td>\n",
       "      <td>0</td>\n",
       "      <td>0</td>\n",
       "      <td>123</td>\n",
       "      <td>99</td>\n",
       "      <td>15</td>\n",
       "      <td>...</td>\n",
       "      <td>1</td>\n",
       "      <td>0.334591</td>\n",
       "      <td>T582,T558,T28776,T5186,T9081,T2419,T2693,T2299...</td>\n",
       "      <td>T65:1.5992582,T867:1.3179373,T93:1.2095009,T31...</td>\n",
       "      <td>1.0</td>\n",
       "      <td>8.0</td>\n",
       "      <td>0.125000</td>\n",
       "      <td>4</td>\n",
       "      <td>4</td>\n",
       "      <td>4</td>\n",
       "    </tr>\n",
       "  </tbody>\n",
       "</table>\n",
       "<p>5 rows × 21 columns</p>\n",
       "</div>"
      ],
      "text/plain": [
       "             gender  visit_freq  binary_A  binary_B  binary_C  binary_D  \\\n",
       "user_id                                                                   \n",
       "M1934753188       1           1         0         1         0         1   \n",
       "M595924114        1           0         0         0         0         1   \n",
       "M1473482940       0           4         0         1         0         1   \n",
       "M578477092        1           0         1         1         0         1   \n",
       "M1088794709       1           4         0         1         0         0   \n",
       "\n",
       "             binary_E  category_A  category_B  category_C  ...  category_E  \\\n",
       "user_id                                                    ...               \n",
       "M1934753188         0          82          69         142  ...           1   \n",
       "M595924114          1         149          89           1  ...           1   \n",
       "M1473482940         0          19          99          31  ...           1   \n",
       "M578477092          0         134         120          88  ...           1   \n",
       "M1088794709         0         123          99          15  ...           1   \n",
       "\n",
       "             salt_value                                      follow_topics  \\\n",
       "user_id                                                                      \n",
       "M1934753188    0.841509                                               T540   \n",
       "M595924114     0.724528  T44126,T15940,T839,T8978,T2934,T1113,T3914,T12...   \n",
       "M1473482940    0.451572  T30874,T2113,T8656,T21,T523,T8,T116,T5727,T68,...   \n",
       "M578477092     0.620126  T946,T7323,T297,T2660,T36067,T53107,T2654,T507...   \n",
       "M1088794709    0.334591  T582,T558,T28776,T5186,T9081,T2419,T2693,T2299...   \n",
       "\n",
       "                                               interest_topics answer_count  \\\n",
       "user_id                                                                       \n",
       "M1934753188  T21107:1.7915097,T405:1.6123838,T4436:1.518003...          2.0   \n",
       "M595924114   T18016:2.0650618,T2384:1.2503042,T1142:1.13569...          1.0   \n",
       "M1473482940  T46:1.330939,T2159:1.1296458,T379:1.1241927,T1...          1.0   \n",
       "M578477092   T15918:1.9479566,T8106:1.8578106,T4787:1.58486...          2.0   \n",
       "M1088794709  T65:1.5992582,T867:1.3179373,T93:1.2095009,T31...          1.0   \n",
       "\n",
       "             invite_count  accept_ratio  follow_topics_mp  user_index  \\\n",
       "user_id                                                                 \n",
       "M1934753188          14.0      0.142857                 0           0   \n",
       "M595924114           13.0      0.076923                 1           1   \n",
       "M1473482940          20.0      0.050000                 2           2   \n",
       "M578477092           21.0      0.095238                 3           3   \n",
       "M1088794709           8.0      0.125000                 4           4   \n",
       "\n",
       "             interest_topics_wp  \n",
       "user_id                          \n",
       "M1934753188                   0  \n",
       "M595924114                    1  \n",
       "M1473482940                   2  \n",
       "M578477092                    3  \n",
       "M1088794709                   4  \n",
       "\n",
       "[5 rows x 21 columns]"
      ]
     },
     "execution_count": 92,
     "metadata": {},
     "output_type": "execute_result"
    }
   ],
   "source": [
    "user_df.head()"
   ]
  },
  {
   "cell_type": "markdown",
   "metadata": {},
   "source": [
    "#### 输出user_df"
   ]
  },
  {
   "cell_type": "code",
   "execution_count": 106,
   "metadata": {},
   "outputs": [],
   "source": [
    "user_df.to_csv(os.path.join(dataDir, 'member_info_1106.csv'),\n",
    "#                               columns= ['gender', 'visit_freq', 'binary_A',\n",
    "#                                     'binary_B', 'binary_C', 'binary_D', 'binary_E',\n",
    "#                                     'category_A', 'category_B', 'category_C',\n",
    "#                                     'category_D', 'category_E', 'salt_value', 'follow_topics_mp', 'interest_topics_wp', 'user_index',\n",
    "#                                        'invite_count', 'answer_count', 'accept_ratio'],\n",
    "                              sep= '\\t',)"
   ]
  },
  {
   "cell_type": "markdown",
   "metadata": {},
   "source": [
    "### 处理新的用户属性"
   ]
  },
  {
   "cell_type": "code",
   "execution_count": 26,
   "metadata": {},
   "outputs": [],
   "source": [
    "user_df = pd.read_csv(os.path.join(dataDir, 'member_info_1106.csv'),\n",
    "#                               columns= ['gender', 'visit_freq', 'binary_A',\n",
    "#                                     'binary_B', 'binary_C', 'binary_D', 'binary_E',\n",
    "#                                     'category_A', 'category_B', 'category_C',\n",
    "#                                     'category_D', 'category_E', 'salt_value', 'follow_topics_mp', 'interest_topics_wp', 'user_index',\n",
    "#                                        'invite_count', 'answer_count', 'accept_ratio'],\n",
    "                      index_col = 0,\n",
    "                              sep= '\\t',)"
   ]
  },
  {
   "cell_type": "code",
   "execution_count": 17,
   "metadata": {},
   "outputs": [
    {
     "data": {
      "text/html": [
       "<div>\n",
       "<style scoped>\n",
       "    .dataframe tbody tr th:only-of-type {\n",
       "        vertical-align: middle;\n",
       "    }\n",
       "\n",
       "    .dataframe tbody tr th {\n",
       "        vertical-align: top;\n",
       "    }\n",
       "\n",
       "    .dataframe thead th {\n",
       "        text-align: right;\n",
       "    }\n",
       "</style>\n",
       "<table border=\"1\" class=\"dataframe\">\n",
       "  <thead>\n",
       "    <tr style=\"text-align: right;\">\n",
       "      <th></th>\n",
       "      <th>gender</th>\n",
       "      <th>visit_freq</th>\n",
       "      <th>binary_A</th>\n",
       "      <th>binary_B</th>\n",
       "      <th>binary_C</th>\n",
       "      <th>binary_D</th>\n",
       "      <th>binary_E</th>\n",
       "      <th>category_A</th>\n",
       "      <th>category_B</th>\n",
       "      <th>category_C</th>\n",
       "      <th>category_D</th>\n",
       "      <th>category_E</th>\n",
       "      <th>salt_value</th>\n",
       "      <th>follow_topics_mp</th>\n",
       "      <th>interest_topics_wp</th>\n",
       "      <th>user_index</th>\n",
       "      <th>invite_count</th>\n",
       "      <th>answer_count</th>\n",
       "      <th>accept_ratio</th>\n",
       "    </tr>\n",
       "    <tr>\n",
       "      <th>user_id</th>\n",
       "      <th></th>\n",
       "      <th></th>\n",
       "      <th></th>\n",
       "      <th></th>\n",
       "      <th></th>\n",
       "      <th></th>\n",
       "      <th></th>\n",
       "      <th></th>\n",
       "      <th></th>\n",
       "      <th></th>\n",
       "      <th></th>\n",
       "      <th></th>\n",
       "      <th></th>\n",
       "      <th></th>\n",
       "      <th></th>\n",
       "      <th></th>\n",
       "      <th></th>\n",
       "      <th></th>\n",
       "      <th></th>\n",
       "    </tr>\n",
       "  </thead>\n",
       "  <tbody>\n",
       "    <tr>\n",
       "      <th>M1934753188</th>\n",
       "      <td>1</td>\n",
       "      <td>1</td>\n",
       "      <td>0</td>\n",
       "      <td>1</td>\n",
       "      <td>0</td>\n",
       "      <td>1</td>\n",
       "      <td>0</td>\n",
       "      <td>82</td>\n",
       "      <td>69</td>\n",
       "      <td>142</td>\n",
       "      <td>135</td>\n",
       "      <td>1</td>\n",
       "      <td>0.841509</td>\n",
       "      <td>0</td>\n",
       "      <td>0</td>\n",
       "      <td>0</td>\n",
       "      <td>14.0</td>\n",
       "      <td>2.0</td>\n",
       "      <td>0.142857</td>\n",
       "    </tr>\n",
       "    <tr>\n",
       "      <th>M595924114</th>\n",
       "      <td>1</td>\n",
       "      <td>0</td>\n",
       "      <td>0</td>\n",
       "      <td>0</td>\n",
       "      <td>0</td>\n",
       "      <td>1</td>\n",
       "      <td>1</td>\n",
       "      <td>149</td>\n",
       "      <td>89</td>\n",
       "      <td>1</td>\n",
       "      <td>122</td>\n",
       "      <td>1</td>\n",
       "      <td>0.724528</td>\n",
       "      <td>1</td>\n",
       "      <td>1</td>\n",
       "      <td>1</td>\n",
       "      <td>13.0</td>\n",
       "      <td>1.0</td>\n",
       "      <td>0.076923</td>\n",
       "    </tr>\n",
       "    <tr>\n",
       "      <th>M1473482940</th>\n",
       "      <td>0</td>\n",
       "      <td>4</td>\n",
       "      <td>0</td>\n",
       "      <td>1</td>\n",
       "      <td>0</td>\n",
       "      <td>1</td>\n",
       "      <td>0</td>\n",
       "      <td>19</td>\n",
       "      <td>99</td>\n",
       "      <td>31</td>\n",
       "      <td>75</td>\n",
       "      <td>1</td>\n",
       "      <td>0.451572</td>\n",
       "      <td>2</td>\n",
       "      <td>2</td>\n",
       "      <td>2</td>\n",
       "      <td>20.0</td>\n",
       "      <td>1.0</td>\n",
       "      <td>0.050000</td>\n",
       "    </tr>\n",
       "    <tr>\n",
       "      <th>M578477092</th>\n",
       "      <td>1</td>\n",
       "      <td>0</td>\n",
       "      <td>1</td>\n",
       "      <td>1</td>\n",
       "      <td>0</td>\n",
       "      <td>1</td>\n",
       "      <td>0</td>\n",
       "      <td>134</td>\n",
       "      <td>120</td>\n",
       "      <td>88</td>\n",
       "      <td>86</td>\n",
       "      <td>1</td>\n",
       "      <td>0.620126</td>\n",
       "      <td>3</td>\n",
       "      <td>3</td>\n",
       "      <td>3</td>\n",
       "      <td>21.0</td>\n",
       "      <td>2.0</td>\n",
       "      <td>0.095238</td>\n",
       "    </tr>\n",
       "    <tr>\n",
       "      <th>M1088794709</th>\n",
       "      <td>1</td>\n",
       "      <td>4</td>\n",
       "      <td>0</td>\n",
       "      <td>1</td>\n",
       "      <td>0</td>\n",
       "      <td>0</td>\n",
       "      <td>0</td>\n",
       "      <td>123</td>\n",
       "      <td>99</td>\n",
       "      <td>15</td>\n",
       "      <td>75</td>\n",
       "      <td>1</td>\n",
       "      <td>0.334591</td>\n",
       "      <td>4</td>\n",
       "      <td>4</td>\n",
       "      <td>4</td>\n",
       "      <td>8.0</td>\n",
       "      <td>1.0</td>\n",
       "      <td>0.125000</td>\n",
       "    </tr>\n",
       "  </tbody>\n",
       "</table>\n",
       "</div>"
      ],
      "text/plain": [
       "             gender  visit_freq  binary_A  binary_B  binary_C  binary_D  \\\n",
       "user_id                                                                   \n",
       "M1934753188       1           1         0         1         0         1   \n",
       "M595924114        1           0         0         0         0         1   \n",
       "M1473482940       0           4         0         1         0         1   \n",
       "M578477092        1           0         1         1         0         1   \n",
       "M1088794709       1           4         0         1         0         0   \n",
       "\n",
       "             binary_E  category_A  category_B  category_C  category_D  \\\n",
       "user_id                                                                 \n",
       "M1934753188         0          82          69         142         135   \n",
       "M595924114          1         149          89           1         122   \n",
       "M1473482940         0          19          99          31          75   \n",
       "M578477092          0         134         120          88          86   \n",
       "M1088794709         0         123          99          15          75   \n",
       "\n",
       "             category_E  salt_value  follow_topics_mp  interest_topics_wp  \\\n",
       "user_id                                                                     \n",
       "M1934753188           1    0.841509                 0                   0   \n",
       "M595924114            1    0.724528                 1                   1   \n",
       "M1473482940           1    0.451572                 2                   2   \n",
       "M578477092            1    0.620126                 3                   3   \n",
       "M1088794709           1    0.334591                 4                   4   \n",
       "\n",
       "             user_index  invite_count  answer_count  accept_ratio  \n",
       "user_id                                                            \n",
       "M1934753188           0          14.0           2.0      0.142857  \n",
       "M595924114            1          13.0           1.0      0.076923  \n",
       "M1473482940           2          20.0           1.0      0.050000  \n",
       "M578477092            3          21.0           2.0      0.095238  \n",
       "M1088794709           4           8.0           1.0      0.125000  "
      ]
     },
     "execution_count": 17,
     "metadata": {},
     "output_type": "execute_result"
    }
   ],
   "source": [
    "user_df.head()"
   ]
  },
  {
   "cell_type": "code",
   "execution_count": 28,
   "metadata": {},
   "outputs": [],
   "source": [
    "for feat in ['gender', 'visit_freq','category_A','category_B','category_C','category_D','category_E']:\n",
    "    col_name = '{}_count'.format(feat)\n",
    "    user_df[col_name] = user_df[feat].map(user_df.groupby(feat)['invite_count'].sum().astype(int))\n",
    "#     user_df.loc[user_df[col_name] < 2, feat] = -1\n",
    "#     user_df[feat] += 1\n",
    "    user_df[col_name] = user_df[feat].map(user_df[feat].value_counts().astype(int))\n",
    "    user_df[col_name] = (user_df[col_name] - user_df[col_name].min()) / (user_df[col_name].max() - user_df[col_name].min())\n",
    "\n"
   ]
  },
  {
   "cell_type": "code",
   "execution_count": 30,
   "metadata": {},
   "outputs": [
    {
     "data": {
      "text/plain": [
       "Index(['gender', 'visit_freq', 'binary_A', 'binary_B', 'binary_C', 'binary_D',\n",
       "       'binary_E', 'category_A', 'category_B', 'category_C', 'category_D',\n",
       "       'category_E', 'salt_value', 'follow_topics_mp', 'interest_topics_wp',\n",
       "       'user_index', 'invite_count', 'answer_count', 'accept_ratio',\n",
       "       'gender_count', 'visit_freq_count', 'category_A_count',\n",
       "       'category_B_count', 'category_C_count', 'category_D_count',\n",
       "       'category_E_count'],\n",
       "      dtype='object')"
      ]
     },
     "execution_count": 30,
     "metadata": {},
     "output_type": "execute_result"
    }
   ],
   "source": [
    "user_df.columns"
   ]
  },
  {
   "cell_type": "code",
   "execution_count": 29,
   "metadata": {},
   "outputs": [
    {
     "data": {
      "text/html": [
       "<div>\n",
       "<style scoped>\n",
       "    .dataframe tbody tr th:only-of-type {\n",
       "        vertical-align: middle;\n",
       "    }\n",
       "\n",
       "    .dataframe tbody tr th {\n",
       "        vertical-align: top;\n",
       "    }\n",
       "\n",
       "    .dataframe thead th {\n",
       "        text-align: right;\n",
       "    }\n",
       "</style>\n",
       "<table border=\"1\" class=\"dataframe\">\n",
       "  <thead>\n",
       "    <tr style=\"text-align: right;\">\n",
       "      <th></th>\n",
       "      <th>gender</th>\n",
       "      <th>visit_freq</th>\n",
       "      <th>binary_A</th>\n",
       "      <th>binary_B</th>\n",
       "      <th>binary_C</th>\n",
       "      <th>binary_D</th>\n",
       "      <th>binary_E</th>\n",
       "      <th>category_A</th>\n",
       "      <th>category_B</th>\n",
       "      <th>category_C</th>\n",
       "      <th>...</th>\n",
       "      <th>invite_count</th>\n",
       "      <th>answer_count</th>\n",
       "      <th>accept_ratio</th>\n",
       "      <th>gender_count</th>\n",
       "      <th>visit_freq_count</th>\n",
       "      <th>category_A_count</th>\n",
       "      <th>category_B_count</th>\n",
       "      <th>category_C_count</th>\n",
       "      <th>category_D_count</th>\n",
       "      <th>category_E_count</th>\n",
       "    </tr>\n",
       "    <tr>\n",
       "      <th>user_id</th>\n",
       "      <th></th>\n",
       "      <th></th>\n",
       "      <th></th>\n",
       "      <th></th>\n",
       "      <th></th>\n",
       "      <th></th>\n",
       "      <th></th>\n",
       "      <th></th>\n",
       "      <th></th>\n",
       "      <th></th>\n",
       "      <th></th>\n",
       "      <th></th>\n",
       "      <th></th>\n",
       "      <th></th>\n",
       "      <th></th>\n",
       "      <th></th>\n",
       "      <th></th>\n",
       "      <th></th>\n",
       "      <th></th>\n",
       "      <th></th>\n",
       "      <th></th>\n",
       "    </tr>\n",
       "  </thead>\n",
       "  <tbody>\n",
       "    <tr>\n",
       "      <th>M1934753188</th>\n",
       "      <td>1</td>\n",
       "      <td>1</td>\n",
       "      <td>0</td>\n",
       "      <td>1</td>\n",
       "      <td>0</td>\n",
       "      <td>1</td>\n",
       "      <td>0</td>\n",
       "      <td>82</td>\n",
       "      <td>69</td>\n",
       "      <td>142</td>\n",
       "      <td>...</td>\n",
       "      <td>1.400000e+01</td>\n",
       "      <td>2.0</td>\n",
       "      <td>0.142857</td>\n",
       "      <td>0.000000</td>\n",
       "      <td>0.542701</td>\n",
       "      <td>1.000000</td>\n",
       "      <td>1.000000</td>\n",
       "      <td>0.413872</td>\n",
       "      <td>0.115038</td>\n",
       "      <td>1.0</td>\n",
       "    </tr>\n",
       "    <tr>\n",
       "      <th>M595924114</th>\n",
       "      <td>1</td>\n",
       "      <td>0</td>\n",
       "      <td>0</td>\n",
       "      <td>0</td>\n",
       "      <td>0</td>\n",
       "      <td>1</td>\n",
       "      <td>1</td>\n",
       "      <td>149</td>\n",
       "      <td>89</td>\n",
       "      <td>1</td>\n",
       "      <td>...</td>\n",
       "      <td>1.300000e+01</td>\n",
       "      <td>1.0</td>\n",
       "      <td>0.076923</td>\n",
       "      <td>0.000000</td>\n",
       "      <td>0.451365</td>\n",
       "      <td>0.104223</td>\n",
       "      <td>0.000032</td>\n",
       "      <td>0.437643</td>\n",
       "      <td>0.001159</td>\n",
       "      <td>1.0</td>\n",
       "    </tr>\n",
       "    <tr>\n",
       "      <th>M1473482940</th>\n",
       "      <td>0</td>\n",
       "      <td>4</td>\n",
       "      <td>0</td>\n",
       "      <td>1</td>\n",
       "      <td>0</td>\n",
       "      <td>1</td>\n",
       "      <td>0</td>\n",
       "      <td>19</td>\n",
       "      <td>99</td>\n",
       "      <td>31</td>\n",
       "      <td>...</td>\n",
       "      <td>2.000000e+01</td>\n",
       "      <td>1.0</td>\n",
       "      <td>0.050000</td>\n",
       "      <td>0.130213</td>\n",
       "      <td>1.000000</td>\n",
       "      <td>0.062218</td>\n",
       "      <td>0.415082</td>\n",
       "      <td>0.024786</td>\n",
       "      <td>1.000000</td>\n",
       "      <td>1.0</td>\n",
       "    </tr>\n",
       "    <tr>\n",
       "      <th>M578477092</th>\n",
       "      <td>1</td>\n",
       "      <td>0</td>\n",
       "      <td>1</td>\n",
       "      <td>1</td>\n",
       "      <td>0</td>\n",
       "      <td>1</td>\n",
       "      <td>0</td>\n",
       "      <td>134</td>\n",
       "      <td>120</td>\n",
       "      <td>88</td>\n",
       "      <td>...</td>\n",
       "      <td>2.100000e+01</td>\n",
       "      <td>2.0</td>\n",
       "      <td>0.095238</td>\n",
       "      <td>0.000000</td>\n",
       "      <td>0.451365</td>\n",
       "      <td>0.005084</td>\n",
       "      <td>0.124367</td>\n",
       "      <td>0.521151</td>\n",
       "      <td>0.145250</td>\n",
       "      <td>1.0</td>\n",
       "    </tr>\n",
       "    <tr>\n",
       "      <th>M1088794709</th>\n",
       "      <td>1</td>\n",
       "      <td>4</td>\n",
       "      <td>0</td>\n",
       "      <td>1</td>\n",
       "      <td>0</td>\n",
       "      <td>0</td>\n",
       "      <td>0</td>\n",
       "      <td>123</td>\n",
       "      <td>99</td>\n",
       "      <td>15</td>\n",
       "      <td>...</td>\n",
       "      <td>8.000000e+00</td>\n",
       "      <td>1.0</td>\n",
       "      <td>0.125000</td>\n",
       "      <td>0.000000</td>\n",
       "      <td>1.000000</td>\n",
       "      <td>0.023493</td>\n",
       "      <td>0.415082</td>\n",
       "      <td>0.291936</td>\n",
       "      <td>1.000000</td>\n",
       "      <td>1.0</td>\n",
       "    </tr>\n",
       "    <tr>\n",
       "      <th>M791147511</th>\n",
       "      <td>1</td>\n",
       "      <td>0</td>\n",
       "      <td>1</td>\n",
       "      <td>0</td>\n",
       "      <td>1</td>\n",
       "      <td>1</td>\n",
       "      <td>1</td>\n",
       "      <td>132</td>\n",
       "      <td>118</td>\n",
       "      <td>142</td>\n",
       "      <td>...</td>\n",
       "      <td>8.000000e+00</td>\n",
       "      <td>1.0</td>\n",
       "      <td>0.125000</td>\n",
       "      <td>0.000000</td>\n",
       "      <td>0.451365</td>\n",
       "      <td>0.007676</td>\n",
       "      <td>0.092387</td>\n",
       "      <td>0.413872</td>\n",
       "      <td>0.115038</td>\n",
       "      <td>1.0</td>\n",
       "    </tr>\n",
       "    <tr>\n",
       "      <th>M391878471</th>\n",
       "      <td>0</td>\n",
       "      <td>3</td>\n",
       "      <td>0</td>\n",
       "      <td>0</td>\n",
       "      <td>0</td>\n",
       "      <td>0</td>\n",
       "      <td>0</td>\n",
       "      <td>82</td>\n",
       "      <td>69</td>\n",
       "      <td>79</td>\n",
       "      <td>...</td>\n",
       "      <td>3.000000e+00</td>\n",
       "      <td>1.0</td>\n",
       "      <td>0.333333</td>\n",
       "      <td>0.130213</td>\n",
       "      <td>0.049347</td>\n",
       "      <td>1.000000</td>\n",
       "      <td>1.000000</td>\n",
       "      <td>0.077418</td>\n",
       "      <td>1.000000</td>\n",
       "      <td>1.0</td>\n",
       "    </tr>\n",
       "    <tr>\n",
       "      <th>M1642994942</th>\n",
       "      <td>2</td>\n",
       "      <td>1</td>\n",
       "      <td>1</td>\n",
       "      <td>0</td>\n",
       "      <td>0</td>\n",
       "      <td>0</td>\n",
       "      <td>0</td>\n",
       "      <td>82</td>\n",
       "      <td>69</td>\n",
       "      <td>15</td>\n",
       "      <td>...</td>\n",
       "      <td>1.000000e-10</td>\n",
       "      <td>0.0</td>\n",
       "      <td>0.000000</td>\n",
       "      <td>1.000000</td>\n",
       "      <td>0.542701</td>\n",
       "      <td>1.000000</td>\n",
       "      <td>1.000000</td>\n",
       "      <td>0.291936</td>\n",
       "      <td>1.000000</td>\n",
       "      <td>1.0</td>\n",
       "    </tr>\n",
       "    <tr>\n",
       "      <th>M3475398927</th>\n",
       "      <td>0</td>\n",
       "      <td>0</td>\n",
       "      <td>1</td>\n",
       "      <td>0</td>\n",
       "      <td>0</td>\n",
       "      <td>0</td>\n",
       "      <td>0</td>\n",
       "      <td>117</td>\n",
       "      <td>27</td>\n",
       "      <td>95</td>\n",
       "      <td>...</td>\n",
       "      <td>2.600000e+01</td>\n",
       "      <td>4.0</td>\n",
       "      <td>0.153846</td>\n",
       "      <td>0.130213</td>\n",
       "      <td>0.451365</td>\n",
       "      <td>0.000216</td>\n",
       "      <td>0.072487</td>\n",
       "      <td>0.521275</td>\n",
       "      <td>0.041416</td>\n",
       "      <td>1.0</td>\n",
       "    </tr>\n",
       "    <tr>\n",
       "      <th>M3321320610</th>\n",
       "      <td>0</td>\n",
       "      <td>0</td>\n",
       "      <td>1</td>\n",
       "      <td>0</td>\n",
       "      <td>0</td>\n",
       "      <td>1</td>\n",
       "      <td>0</td>\n",
       "      <td>46</td>\n",
       "      <td>120</td>\n",
       "      <td>140</td>\n",
       "      <td>...</td>\n",
       "      <td>7.000000e+00</td>\n",
       "      <td>0.0</td>\n",
       "      <td>0.000000</td>\n",
       "      <td>0.130213</td>\n",
       "      <td>0.451365</td>\n",
       "      <td>0.004515</td>\n",
       "      <td>0.124367</td>\n",
       "      <td>0.616086</td>\n",
       "      <td>0.030178</td>\n",
       "      <td>1.0</td>\n",
       "    </tr>\n",
       "    <tr>\n",
       "      <th>M667025082</th>\n",
       "      <td>0</td>\n",
       "      <td>4</td>\n",
       "      <td>1</td>\n",
       "      <td>0</td>\n",
       "      <td>0</td>\n",
       "      <td>0</td>\n",
       "      <td>0</td>\n",
       "      <td>129</td>\n",
       "      <td>120</td>\n",
       "      <td>141</td>\n",
       "      <td>...</td>\n",
       "      <td>3.000000e+00</td>\n",
       "      <td>1.0</td>\n",
       "      <td>0.333333</td>\n",
       "      <td>0.130213</td>\n",
       "      <td>1.000000</td>\n",
       "      <td>0.007246</td>\n",
       "      <td>0.124367</td>\n",
       "      <td>0.175254</td>\n",
       "      <td>1.000000</td>\n",
       "      <td>1.0</td>\n",
       "    </tr>\n",
       "    <tr>\n",
       "      <th>M1702145609</th>\n",
       "      <td>0</td>\n",
       "      <td>4</td>\n",
       "      <td>0</td>\n",
       "      <td>1</td>\n",
       "      <td>0</td>\n",
       "      <td>0</td>\n",
       "      <td>0</td>\n",
       "      <td>24</td>\n",
       "      <td>99</td>\n",
       "      <td>67</td>\n",
       "      <td>...</td>\n",
       "      <td>7.000000e+00</td>\n",
       "      <td>1.0</td>\n",
       "      <td>0.142857</td>\n",
       "      <td>0.130213</td>\n",
       "      <td>1.000000</td>\n",
       "      <td>0.040707</td>\n",
       "      <td>0.415082</td>\n",
       "      <td>0.398594</td>\n",
       "      <td>0.150624</td>\n",
       "      <td>1.0</td>\n",
       "    </tr>\n",
       "    <tr>\n",
       "      <th>M48697732</th>\n",
       "      <td>1</td>\n",
       "      <td>4</td>\n",
       "      <td>0</td>\n",
       "      <td>1</td>\n",
       "      <td>0</td>\n",
       "      <td>0</td>\n",
       "      <td>0</td>\n",
       "      <td>19</td>\n",
       "      <td>99</td>\n",
       "      <td>65</td>\n",
       "      <td>...</td>\n",
       "      <td>1.200000e+01</td>\n",
       "      <td>1.0</td>\n",
       "      <td>0.083333</td>\n",
       "      <td>0.000000</td>\n",
       "      <td>1.000000</td>\n",
       "      <td>0.062218</td>\n",
       "      <td>0.415082</td>\n",
       "      <td>0.257834</td>\n",
       "      <td>1.000000</td>\n",
       "      <td>1.0</td>\n",
       "    </tr>\n",
       "    <tr>\n",
       "      <th>M1147507896</th>\n",
       "      <td>1</td>\n",
       "      <td>0</td>\n",
       "      <td>0</td>\n",
       "      <td>1</td>\n",
       "      <td>1</td>\n",
       "      <td>1</td>\n",
       "      <td>1</td>\n",
       "      <td>107</td>\n",
       "      <td>99</td>\n",
       "      <td>31</td>\n",
       "      <td>...</td>\n",
       "      <td>1.100000e+01</td>\n",
       "      <td>3.0</td>\n",
       "      <td>0.272727</td>\n",
       "      <td>0.000000</td>\n",
       "      <td>0.451365</td>\n",
       "      <td>0.046532</td>\n",
       "      <td>0.415082</td>\n",
       "      <td>0.024786</td>\n",
       "      <td>1.000000</td>\n",
       "      <td>1.0</td>\n",
       "    </tr>\n",
       "    <tr>\n",
       "      <th>M2359456368</th>\n",
       "      <td>2</td>\n",
       "      <td>4</td>\n",
       "      <td>1</td>\n",
       "      <td>0</td>\n",
       "      <td>0</td>\n",
       "      <td>0</td>\n",
       "      <td>0</td>\n",
       "      <td>113</td>\n",
       "      <td>116</td>\n",
       "      <td>62</td>\n",
       "      <td>...</td>\n",
       "      <td>9.000000e+00</td>\n",
       "      <td>1.0</td>\n",
       "      <td>0.111111</td>\n",
       "      <td>1.000000</td>\n",
       "      <td>1.000000</td>\n",
       "      <td>0.008262</td>\n",
       "      <td>0.027206</td>\n",
       "      <td>0.254823</td>\n",
       "      <td>1.000000</td>\n",
       "      <td>1.0</td>\n",
       "    </tr>\n",
       "    <tr>\n",
       "      <th>M3359293730</th>\n",
       "      <td>2</td>\n",
       "      <td>0</td>\n",
       "      <td>0</td>\n",
       "      <td>1</td>\n",
       "      <td>0</td>\n",
       "      <td>1</td>\n",
       "      <td>0</td>\n",
       "      <td>82</td>\n",
       "      <td>69</td>\n",
       "      <td>5</td>\n",
       "      <td>...</td>\n",
       "      <td>1.200000e+01</td>\n",
       "      <td>1.0</td>\n",
       "      <td>0.083333</td>\n",
       "      <td>1.000000</td>\n",
       "      <td>0.451365</td>\n",
       "      <td>1.000000</td>\n",
       "      <td>1.000000</td>\n",
       "      <td>1.000000</td>\n",
       "      <td>0.003905</td>\n",
       "      <td>1.0</td>\n",
       "    </tr>\n",
       "    <tr>\n",
       "      <th>M3464014243</th>\n",
       "      <td>0</td>\n",
       "      <td>4</td>\n",
       "      <td>0</td>\n",
       "      <td>1</td>\n",
       "      <td>0</td>\n",
       "      <td>0</td>\n",
       "      <td>0</td>\n",
       "      <td>82</td>\n",
       "      <td>69</td>\n",
       "      <td>115</td>\n",
       "      <td>...</td>\n",
       "      <td>1.500000e+01</td>\n",
       "      <td>3.0</td>\n",
       "      <td>0.200000</td>\n",
       "      <td>0.130213</td>\n",
       "      <td>1.000000</td>\n",
       "      <td>1.000000</td>\n",
       "      <td>1.000000</td>\n",
       "      <td>0.200994</td>\n",
       "      <td>1.000000</td>\n",
       "      <td>1.0</td>\n",
       "    </tr>\n",
       "    <tr>\n",
       "      <th>M1125729346</th>\n",
       "      <td>0</td>\n",
       "      <td>1</td>\n",
       "      <td>1</td>\n",
       "      <td>0</td>\n",
       "      <td>0</td>\n",
       "      <td>0</td>\n",
       "      <td>0</td>\n",
       "      <td>149</td>\n",
       "      <td>120</td>\n",
       "      <td>5</td>\n",
       "      <td>...</td>\n",
       "      <td>1.000000e-10</td>\n",
       "      <td>0.0</td>\n",
       "      <td>0.000000</td>\n",
       "      <td>0.130213</td>\n",
       "      <td>0.542701</td>\n",
       "      <td>0.104223</td>\n",
       "      <td>0.124367</td>\n",
       "      <td>1.000000</td>\n",
       "      <td>0.007353</td>\n",
       "      <td>1.0</td>\n",
       "    </tr>\n",
       "    <tr>\n",
       "      <th>M1015078634</th>\n",
       "      <td>1</td>\n",
       "      <td>0</td>\n",
       "      <td>1</td>\n",
       "      <td>0</td>\n",
       "      <td>0</td>\n",
       "      <td>0</td>\n",
       "      <td>1</td>\n",
       "      <td>102</td>\n",
       "      <td>97</td>\n",
       "      <td>140</td>\n",
       "      <td>...</td>\n",
       "      <td>1.200000e+01</td>\n",
       "      <td>3.0</td>\n",
       "      <td>0.250000</td>\n",
       "      <td>0.000000</td>\n",
       "      <td>0.451365</td>\n",
       "      <td>0.006582</td>\n",
       "      <td>0.075667</td>\n",
       "      <td>0.616086</td>\n",
       "      <td>1.000000</td>\n",
       "      <td>0.0</td>\n",
       "    </tr>\n",
       "    <tr>\n",
       "      <th>M803691814</th>\n",
       "      <td>1</td>\n",
       "      <td>4</td>\n",
       "      <td>1</td>\n",
       "      <td>1</td>\n",
       "      <td>0</td>\n",
       "      <td>1</td>\n",
       "      <td>0</td>\n",
       "      <td>82</td>\n",
       "      <td>69</td>\n",
       "      <td>31</td>\n",
       "      <td>...</td>\n",
       "      <td>7.000000e+00</td>\n",
       "      <td>2.0</td>\n",
       "      <td>0.285714</td>\n",
       "      <td>0.000000</td>\n",
       "      <td>1.000000</td>\n",
       "      <td>1.000000</td>\n",
       "      <td>1.000000</td>\n",
       "      <td>0.024786</td>\n",
       "      <td>1.000000</td>\n",
       "      <td>1.0</td>\n",
       "    </tr>\n",
       "  </tbody>\n",
       "</table>\n",
       "<p>20 rows × 26 columns</p>\n",
       "</div>"
      ],
      "text/plain": [
       "             gender  visit_freq  binary_A  binary_B  binary_C  binary_D  \\\n",
       "user_id                                                                   \n",
       "M1934753188       1           1         0         1         0         1   \n",
       "M595924114        1           0         0         0         0         1   \n",
       "M1473482940       0           4         0         1         0         1   \n",
       "M578477092        1           0         1         1         0         1   \n",
       "M1088794709       1           4         0         1         0         0   \n",
       "M791147511        1           0         1         0         1         1   \n",
       "M391878471        0           3         0         0         0         0   \n",
       "M1642994942       2           1         1         0         0         0   \n",
       "M3475398927       0           0         1         0         0         0   \n",
       "M3321320610       0           0         1         0         0         1   \n",
       "M667025082        0           4         1         0         0         0   \n",
       "M1702145609       0           4         0         1         0         0   \n",
       "M48697732         1           4         0         1         0         0   \n",
       "M1147507896       1           0         0         1         1         1   \n",
       "M2359456368       2           4         1         0         0         0   \n",
       "M3359293730       2           0         0         1         0         1   \n",
       "M3464014243       0           4         0         1         0         0   \n",
       "M1125729346       0           1         1         0         0         0   \n",
       "M1015078634       1           0         1         0         0         0   \n",
       "M803691814        1           4         1         1         0         1   \n",
       "\n",
       "             binary_E  category_A  category_B  category_C  ...  invite_count  \\\n",
       "user_id                                                    ...                 \n",
       "M1934753188         0          82          69         142  ...  1.400000e+01   \n",
       "M595924114          1         149          89           1  ...  1.300000e+01   \n",
       "M1473482940         0          19          99          31  ...  2.000000e+01   \n",
       "M578477092          0         134         120          88  ...  2.100000e+01   \n",
       "M1088794709         0         123          99          15  ...  8.000000e+00   \n",
       "M791147511          1         132         118         142  ...  8.000000e+00   \n",
       "M391878471          0          82          69          79  ...  3.000000e+00   \n",
       "M1642994942         0          82          69          15  ...  1.000000e-10   \n",
       "M3475398927         0         117          27          95  ...  2.600000e+01   \n",
       "M3321320610         0          46         120         140  ...  7.000000e+00   \n",
       "M667025082          0         129         120         141  ...  3.000000e+00   \n",
       "M1702145609         0          24          99          67  ...  7.000000e+00   \n",
       "M48697732           0          19          99          65  ...  1.200000e+01   \n",
       "M1147507896         1         107          99          31  ...  1.100000e+01   \n",
       "M2359456368         0         113         116          62  ...  9.000000e+00   \n",
       "M3359293730         0          82          69           5  ...  1.200000e+01   \n",
       "M3464014243         0          82          69         115  ...  1.500000e+01   \n",
       "M1125729346         0         149         120           5  ...  1.000000e-10   \n",
       "M1015078634         1         102          97         140  ...  1.200000e+01   \n",
       "M803691814          0          82          69          31  ...  7.000000e+00   \n",
       "\n",
       "             answer_count  accept_ratio  gender_count  visit_freq_count  \\\n",
       "user_id                                                                   \n",
       "M1934753188           2.0      0.142857      0.000000          0.542701   \n",
       "M595924114            1.0      0.076923      0.000000          0.451365   \n",
       "M1473482940           1.0      0.050000      0.130213          1.000000   \n",
       "M578477092            2.0      0.095238      0.000000          0.451365   \n",
       "M1088794709           1.0      0.125000      0.000000          1.000000   \n",
       "M791147511            1.0      0.125000      0.000000          0.451365   \n",
       "M391878471            1.0      0.333333      0.130213          0.049347   \n",
       "M1642994942           0.0      0.000000      1.000000          0.542701   \n",
       "M3475398927           4.0      0.153846      0.130213          0.451365   \n",
       "M3321320610           0.0      0.000000      0.130213          0.451365   \n",
       "M667025082            1.0      0.333333      0.130213          1.000000   \n",
       "M1702145609           1.0      0.142857      0.130213          1.000000   \n",
       "M48697732             1.0      0.083333      0.000000          1.000000   \n",
       "M1147507896           3.0      0.272727      0.000000          0.451365   \n",
       "M2359456368           1.0      0.111111      1.000000          1.000000   \n",
       "M3359293730           1.0      0.083333      1.000000          0.451365   \n",
       "M3464014243           3.0      0.200000      0.130213          1.000000   \n",
       "M1125729346           0.0      0.000000      0.130213          0.542701   \n",
       "M1015078634           3.0      0.250000      0.000000          0.451365   \n",
       "M803691814            2.0      0.285714      0.000000          1.000000   \n",
       "\n",
       "             category_A_count  category_B_count  category_C_count  \\\n",
       "user_id                                                             \n",
       "M1934753188          1.000000          1.000000          0.413872   \n",
       "M595924114           0.104223          0.000032          0.437643   \n",
       "M1473482940          0.062218          0.415082          0.024786   \n",
       "M578477092           0.005084          0.124367          0.521151   \n",
       "M1088794709          0.023493          0.415082          0.291936   \n",
       "M791147511           0.007676          0.092387          0.413872   \n",
       "M391878471           1.000000          1.000000          0.077418   \n",
       "M1642994942          1.000000          1.000000          0.291936   \n",
       "M3475398927          0.000216          0.072487          0.521275   \n",
       "M3321320610          0.004515          0.124367          0.616086   \n",
       "M667025082           0.007246          0.124367          0.175254   \n",
       "M1702145609          0.040707          0.415082          0.398594   \n",
       "M48697732            0.062218          0.415082          0.257834   \n",
       "M1147507896          0.046532          0.415082          0.024786   \n",
       "M2359456368          0.008262          0.027206          0.254823   \n",
       "M3359293730          1.000000          1.000000          1.000000   \n",
       "M3464014243          1.000000          1.000000          0.200994   \n",
       "M1125729346          0.104223          0.124367          1.000000   \n",
       "M1015078634          0.006582          0.075667          0.616086   \n",
       "M803691814           1.000000          1.000000          0.024786   \n",
       "\n",
       "             category_D_count  category_E_count  \n",
       "user_id                                          \n",
       "M1934753188          0.115038               1.0  \n",
       "M595924114           0.001159               1.0  \n",
       "M1473482940          1.000000               1.0  \n",
       "M578477092           0.145250               1.0  \n",
       "M1088794709          1.000000               1.0  \n",
       "M791147511           0.115038               1.0  \n",
       "M391878471           1.000000               1.0  \n",
       "M1642994942          1.000000               1.0  \n",
       "M3475398927          0.041416               1.0  \n",
       "M3321320610          0.030178               1.0  \n",
       "M667025082           1.000000               1.0  \n",
       "M1702145609          0.150624               1.0  \n",
       "M48697732            1.000000               1.0  \n",
       "M1147507896          1.000000               1.0  \n",
       "M2359456368          1.000000               1.0  \n",
       "M3359293730          0.003905               1.0  \n",
       "M3464014243          1.000000               1.0  \n",
       "M1125729346          0.007353               1.0  \n",
       "M1015078634          1.000000               0.0  \n",
       "M803691814           1.000000               1.0  \n",
       "\n",
       "[20 rows x 26 columns]"
      ]
     },
     "execution_count": 29,
     "metadata": {},
     "output_type": "execute_result"
    }
   ],
   "source": [
    "user_df.head(20)"
   ]
  },
  {
   "cell_type": "code",
   "execution_count": 31,
   "metadata": {},
   "outputs": [],
   "source": [
    "user_df.to_csv(os.path.join(dataDir, 'member_info_1109.csv'),\n",
    "                              sep= '\\t',)"
   ]
  },
  {
   "cell_type": "markdown",
   "metadata": {},
   "source": [
    "### 1112"
   ]
  },
  {
   "cell_type": "code",
   "execution_count": 49,
   "metadata": {},
   "outputs": [],
   "source": [
    "user_df = pd.read_csv(os.path.join(dataDir, 'member_info_1109.csv'),\n",
    "                              #names= ['user_id', 'gender', 'visit_freq', 'binary_A',\n",
    "                               #      'binary_B', 'binary_C', 'binary_D', 'binary_E',\n",
    "                                #     'category_A' 'category_B', 'category_C',\n",
    "                                 #    'category_D', 'category_E', 'salt', 'follow_topics', 'interest_topics'],\n",
    "                              #sep= ',',\n",
    "                      index_col= 'user_id',\n",
    "#                       nrows= 5000\n",
    "                      sep= '\\t'\n",
    "                     )"
   ]
  },
  {
   "cell_type": "code",
   "execution_count": 50,
   "metadata": {},
   "outputs": [
    {
     "data": {
      "text/html": [
       "<div>\n",
       "<style scoped>\n",
       "    .dataframe tbody tr th:only-of-type {\n",
       "        vertical-align: middle;\n",
       "    }\n",
       "\n",
       "    .dataframe tbody tr th {\n",
       "        vertical-align: top;\n",
       "    }\n",
       "\n",
       "    .dataframe thead th {\n",
       "        text-align: right;\n",
       "    }\n",
       "</style>\n",
       "<table border=\"1\" class=\"dataframe\">\n",
       "  <thead>\n",
       "    <tr style=\"text-align: right;\">\n",
       "      <th></th>\n",
       "      <th>gender</th>\n",
       "      <th>visit_freq</th>\n",
       "      <th>binary_A</th>\n",
       "      <th>binary_B</th>\n",
       "      <th>binary_C</th>\n",
       "      <th>binary_D</th>\n",
       "      <th>binary_E</th>\n",
       "      <th>category_A</th>\n",
       "      <th>category_B</th>\n",
       "      <th>category_C</th>\n",
       "      <th>...</th>\n",
       "      <th>invite_count</th>\n",
       "      <th>answer_count</th>\n",
       "      <th>accept_ratio</th>\n",
       "      <th>gender_count</th>\n",
       "      <th>visit_freq_count</th>\n",
       "      <th>category_A_count</th>\n",
       "      <th>category_B_count</th>\n",
       "      <th>category_C_count</th>\n",
       "      <th>category_D_count</th>\n",
       "      <th>category_E_count</th>\n",
       "    </tr>\n",
       "    <tr>\n",
       "      <th>user_id</th>\n",
       "      <th></th>\n",
       "      <th></th>\n",
       "      <th></th>\n",
       "      <th></th>\n",
       "      <th></th>\n",
       "      <th></th>\n",
       "      <th></th>\n",
       "      <th></th>\n",
       "      <th></th>\n",
       "      <th></th>\n",
       "      <th></th>\n",
       "      <th></th>\n",
       "      <th></th>\n",
       "      <th></th>\n",
       "      <th></th>\n",
       "      <th></th>\n",
       "      <th></th>\n",
       "      <th></th>\n",
       "      <th></th>\n",
       "      <th></th>\n",
       "      <th></th>\n",
       "    </tr>\n",
       "  </thead>\n",
       "  <tbody>\n",
       "    <tr>\n",
       "      <th>M1934753188</th>\n",
       "      <td>1</td>\n",
       "      <td>1</td>\n",
       "      <td>0</td>\n",
       "      <td>1</td>\n",
       "      <td>0</td>\n",
       "      <td>1</td>\n",
       "      <td>0</td>\n",
       "      <td>82</td>\n",
       "      <td>69</td>\n",
       "      <td>142</td>\n",
       "      <td>...</td>\n",
       "      <td>14.0</td>\n",
       "      <td>2.0</td>\n",
       "      <td>0.142857</td>\n",
       "      <td>0.000000</td>\n",
       "      <td>0.542701</td>\n",
       "      <td>1.000000</td>\n",
       "      <td>1.000000</td>\n",
       "      <td>0.413872</td>\n",
       "      <td>0.115038</td>\n",
       "      <td>1.0</td>\n",
       "    </tr>\n",
       "    <tr>\n",
       "      <th>M595924114</th>\n",
       "      <td>1</td>\n",
       "      <td>0</td>\n",
       "      <td>0</td>\n",
       "      <td>0</td>\n",
       "      <td>0</td>\n",
       "      <td>1</td>\n",
       "      <td>1</td>\n",
       "      <td>149</td>\n",
       "      <td>89</td>\n",
       "      <td>1</td>\n",
       "      <td>...</td>\n",
       "      <td>13.0</td>\n",
       "      <td>1.0</td>\n",
       "      <td>0.076923</td>\n",
       "      <td>0.000000</td>\n",
       "      <td>0.451365</td>\n",
       "      <td>0.104223</td>\n",
       "      <td>0.000032</td>\n",
       "      <td>0.437643</td>\n",
       "      <td>0.001159</td>\n",
       "      <td>1.0</td>\n",
       "    </tr>\n",
       "    <tr>\n",
       "      <th>M1473482940</th>\n",
       "      <td>0</td>\n",
       "      <td>4</td>\n",
       "      <td>0</td>\n",
       "      <td>1</td>\n",
       "      <td>0</td>\n",
       "      <td>1</td>\n",
       "      <td>0</td>\n",
       "      <td>19</td>\n",
       "      <td>99</td>\n",
       "      <td>31</td>\n",
       "      <td>...</td>\n",
       "      <td>20.0</td>\n",
       "      <td>1.0</td>\n",
       "      <td>0.050000</td>\n",
       "      <td>0.130213</td>\n",
       "      <td>1.000000</td>\n",
       "      <td>0.062218</td>\n",
       "      <td>0.415082</td>\n",
       "      <td>0.024786</td>\n",
       "      <td>1.000000</td>\n",
       "      <td>1.0</td>\n",
       "    </tr>\n",
       "    <tr>\n",
       "      <th>M578477092</th>\n",
       "      <td>1</td>\n",
       "      <td>0</td>\n",
       "      <td>1</td>\n",
       "      <td>1</td>\n",
       "      <td>0</td>\n",
       "      <td>1</td>\n",
       "      <td>0</td>\n",
       "      <td>134</td>\n",
       "      <td>120</td>\n",
       "      <td>88</td>\n",
       "      <td>...</td>\n",
       "      <td>21.0</td>\n",
       "      <td>2.0</td>\n",
       "      <td>0.095238</td>\n",
       "      <td>0.000000</td>\n",
       "      <td>0.451365</td>\n",
       "      <td>0.005084</td>\n",
       "      <td>0.124367</td>\n",
       "      <td>0.521151</td>\n",
       "      <td>0.145250</td>\n",
       "      <td>1.0</td>\n",
       "    </tr>\n",
       "    <tr>\n",
       "      <th>M1088794709</th>\n",
       "      <td>1</td>\n",
       "      <td>4</td>\n",
       "      <td>0</td>\n",
       "      <td>1</td>\n",
       "      <td>0</td>\n",
       "      <td>0</td>\n",
       "      <td>0</td>\n",
       "      <td>123</td>\n",
       "      <td>99</td>\n",
       "      <td>15</td>\n",
       "      <td>...</td>\n",
       "      <td>8.0</td>\n",
       "      <td>1.0</td>\n",
       "      <td>0.125000</td>\n",
       "      <td>0.000000</td>\n",
       "      <td>1.000000</td>\n",
       "      <td>0.023493</td>\n",
       "      <td>0.415082</td>\n",
       "      <td>0.291936</td>\n",
       "      <td>1.000000</td>\n",
       "      <td>1.0</td>\n",
       "    </tr>\n",
       "  </tbody>\n",
       "</table>\n",
       "<p>5 rows × 26 columns</p>\n",
       "</div>"
      ],
      "text/plain": [
       "             gender  visit_freq  binary_A  binary_B  binary_C  binary_D  \\\n",
       "user_id                                                                   \n",
       "M1934753188       1           1         0         1         0         1   \n",
       "M595924114        1           0         0         0         0         1   \n",
       "M1473482940       0           4         0         1         0         1   \n",
       "M578477092        1           0         1         1         0         1   \n",
       "M1088794709       1           4         0         1         0         0   \n",
       "\n",
       "             binary_E  category_A  category_B  category_C  ...  invite_count  \\\n",
       "user_id                                                    ...                 \n",
       "M1934753188         0          82          69         142  ...          14.0   \n",
       "M595924114          1         149          89           1  ...          13.0   \n",
       "M1473482940         0          19          99          31  ...          20.0   \n",
       "M578477092          0         134         120          88  ...          21.0   \n",
       "M1088794709         0         123          99          15  ...           8.0   \n",
       "\n",
       "             answer_count  accept_ratio  gender_count  visit_freq_count  \\\n",
       "user_id                                                                   \n",
       "M1934753188           2.0      0.142857      0.000000          0.542701   \n",
       "M595924114            1.0      0.076923      0.000000          0.451365   \n",
       "M1473482940           1.0      0.050000      0.130213          1.000000   \n",
       "M578477092            2.0      0.095238      0.000000          0.451365   \n",
       "M1088794709           1.0      0.125000      0.000000          1.000000   \n",
       "\n",
       "             category_A_count  category_B_count  category_C_count  \\\n",
       "user_id                                                             \n",
       "M1934753188          1.000000          1.000000          0.413872   \n",
       "M595924114           0.104223          0.000032          0.437643   \n",
       "M1473482940          0.062218          0.415082          0.024786   \n",
       "M578477092           0.005084          0.124367          0.521151   \n",
       "M1088794709          0.023493          0.415082          0.291936   \n",
       "\n",
       "             category_D_count  category_E_count  \n",
       "user_id                                          \n",
       "M1934753188          0.115038               1.0  \n",
       "M595924114           0.001159               1.0  \n",
       "M1473482940          1.000000               1.0  \n",
       "M578477092           0.145250               1.0  \n",
       "M1088794709          1.000000               1.0  \n",
       "\n",
       "[5 rows x 26 columns]"
      ]
     },
     "execution_count": 50,
     "metadata": {},
     "output_type": "execute_result"
    }
   ],
   "source": [
    "user_df.head()"
   ]
  },
  {
   "cell_type": "code",
   "execution_count": 51,
   "metadata": {},
   "outputs": [
    {
     "ename": "NameError",
     "evalue": "name 'MinMaxScaler' is not defined",
     "output_type": "error",
     "traceback": [
      "\u001b[0;31m---------------------------------------------------------------------------\u001b[0m",
      "\u001b[0;31mNameError\u001b[0m                                 Traceback (most recent call last)",
      "\u001b[0;32m<ipython-input-51-d3b292f0a5a9>\u001b[0m in \u001b[0;36m<module>\u001b[0;34m\u001b[0m\n\u001b[0;32m----> 1\u001b[0;31m \u001b[0muser_df\u001b[0m\u001b[0;34m[\u001b[0m\u001b[0;34m'invite_count_scaled'\u001b[0m\u001b[0;34m]\u001b[0m \u001b[0;34m=\u001b[0m \u001b[0mMinMaxScaler\u001b[0m\u001b[0;34m(\u001b[0m\u001b[0;34m)\u001b[0m\u001b[0;34m.\u001b[0m\u001b[0mfit_transform\u001b[0m\u001b[0;34m(\u001b[0m\u001b[0muser_df\u001b[0m\u001b[0;34m[\u001b[0m\u001b[0;34m'invite_count'\u001b[0m\u001b[0;34m]\u001b[0m\u001b[0;34m)\u001b[0m\u001b[0;34m\u001b[0m\u001b[0;34m\u001b[0m\u001b[0m\n\u001b[0m",
      "\u001b[0;31mNameError\u001b[0m: name 'MinMaxScaler' is not defined"
     ]
    }
   ],
   "source": [
    "user_df['invite_count_scaled'] = MinMaxScaler().fit_transform(user_df['invite_count'])"
   ]
  },
  {
   "cell_type": "code",
   "execution_count": 48,
   "metadata": {},
   "outputs": [
    {
     "data": {
      "text/html": [
       "<div>\n",
       "<style scoped>\n",
       "    .dataframe tbody tr th:only-of-type {\n",
       "        vertical-align: middle;\n",
       "    }\n",
       "\n",
       "    .dataframe tbody tr th {\n",
       "        vertical-align: top;\n",
       "    }\n",
       "\n",
       "    .dataframe thead th {\n",
       "        text-align: right;\n",
       "    }\n",
       "</style>\n",
       "<table border=\"1\" class=\"dataframe\">\n",
       "  <thead>\n",
       "    <tr style=\"text-align: right;\">\n",
       "      <th></th>\n",
       "      <th>gender</th>\n",
       "      <th>visit_freq</th>\n",
       "      <th>binary_A</th>\n",
       "      <th>binary_B</th>\n",
       "      <th>binary_C</th>\n",
       "      <th>binary_D</th>\n",
       "      <th>binary_E</th>\n",
       "      <th>category_A</th>\n",
       "      <th>category_B</th>\n",
       "      <th>category_C</th>\n",
       "      <th>category_D</th>\n",
       "      <th>category_E</th>\n",
       "      <th>salt_value</th>\n",
       "      <th>follow_topics</th>\n",
       "      <th>interest_topics</th>\n",
       "      <th>follow_topics_maxpool_vec</th>\n",
       "      <th>follow_topics_meanpool_vec</th>\n",
       "      <th>follow_topics_minpool_vec</th>\n",
       "    </tr>\n",
       "    <tr>\n",
       "      <th>user_id</th>\n",
       "      <th></th>\n",
       "      <th></th>\n",
       "      <th></th>\n",
       "      <th></th>\n",
       "      <th></th>\n",
       "      <th></th>\n",
       "      <th></th>\n",
       "      <th></th>\n",
       "      <th></th>\n",
       "      <th></th>\n",
       "      <th></th>\n",
       "      <th></th>\n",
       "      <th></th>\n",
       "      <th></th>\n",
       "      <th></th>\n",
       "      <th></th>\n",
       "      <th></th>\n",
       "      <th></th>\n",
       "    </tr>\n",
       "  </thead>\n",
       "  <tbody>\n",
       "    <tr>\n",
       "      <th>M1934753188</th>\n",
       "      <td>male</td>\n",
       "      <td>monthly</td>\n",
       "      <td>0</td>\n",
       "      <td>1</td>\n",
       "      <td>0</td>\n",
       "      <td>1</td>\n",
       "      <td>0</td>\n",
       "      <td>MD470265</td>\n",
       "      <td>BR470265</td>\n",
       "      <td>PV929066</td>\n",
       "      <td>CT929066</td>\n",
       "      <td>PF470265</td>\n",
       "      <td>764</td>\n",
       "      <td>T540</td>\n",
       "      <td>T21107:1.7915097,T405:1.6123838,T4436:1.518003...</td>\n",
       "      <td>[6.125305, -1.4180568, -1.3143845, -2.9268239,...</td>\n",
       "      <td>[6.125305, -1.4180568, -1.3143845, -2.9268239,...</td>\n",
       "      <td>[6.125305, -1.4180568, -1.3143845, -2.9268239,...</td>\n",
       "    </tr>\n",
       "    <tr>\n",
       "      <th>M595924114</th>\n",
       "      <td>male</td>\n",
       "      <td>daily</td>\n",
       "      <td>0</td>\n",
       "      <td>0</td>\n",
       "      <td>0</td>\n",
       "      <td>1</td>\n",
       "      <td>1</td>\n",
       "      <td>Others</td>\n",
       "      <td>BR596936</td>\n",
       "      <td>PV002320</td>\n",
       "      <td>CT840234</td>\n",
       "      <td>PF470265</td>\n",
       "      <td>671</td>\n",
       "      <td>T44126,T15940,T839,T8978,T2934,T1113,T3914,T12...</td>\n",
       "      <td>T18016:2.0650618,T2384:1.2503042,T1142:1.13569...</td>\n",
       "      <td>[3.8494484, 3.977306, 5.7516003, 4.9546337, 4....</td>\n",
       "      <td>[0.30575216599999994, -0.9980522930666669, 0.0...</td>\n",
       "      <td>[-4.714479, -5.0564847, -6.1172757, -3.2384923...</td>\n",
       "    </tr>\n",
       "    <tr>\n",
       "      <th>M1473482940</th>\n",
       "      <td>female</td>\n",
       "      <td>weekly</td>\n",
       "      <td>0</td>\n",
       "      <td>1</td>\n",
       "      <td>0</td>\n",
       "      <td>1</td>\n",
       "      <td>0</td>\n",
       "      <td>MD116493</td>\n",
       "      <td>BR641329</td>\n",
       "      <td>PV170953</td>\n",
       "      <td>CT470265</td>\n",
       "      <td>PF470265</td>\n",
       "      <td>454</td>\n",
       "      <td>T30874,T2113,T8656,T21,T523,T8,T116,T5727,T68,...</td>\n",
       "      <td>T46:1.330939,T2159:1.1296458,T379:1.1241927,T1...</td>\n",
       "      <td>[3.4723787, 4.6616564, 3.5893476, 5.427303, 5....</td>\n",
       "      <td>[0.1508028030833333, 0.7434654864583335, -0.25...</td>\n",
       "      <td>[-5.314164, -4.025875, -3.3724556, -3.7077088,...</td>\n",
       "    </tr>\n",
       "    <tr>\n",
       "      <th>M578477092</th>\n",
       "      <td>male</td>\n",
       "      <td>daily</td>\n",
       "      <td>1</td>\n",
       "      <td>1</td>\n",
       "      <td>0</td>\n",
       "      <td>1</td>\n",
       "      <td>0</td>\n",
       "      <td>MD889589</td>\n",
       "      <td>BR803759</td>\n",
       "      <td>PV545833</td>\n",
       "      <td>CT545833</td>\n",
       "      <td>PF470265</td>\n",
       "      <td>588</td>\n",
       "      <td>T946,T7323,T297,T2660,T36067,T53107,T2654,T507...</td>\n",
       "      <td>T15918:1.9479566,T8106:1.8578106,T4787:1.58486...</td>\n",
       "      <td>[8.753078, 7.646762, 7.8675485, 5.283248, 6.17...</td>\n",
       "      <td>[1.4605925141999998, -0.33966116570100013, 0.3...</td>\n",
       "      <td>[-4.448856, -7.467456, -7.378821, -8.584922, -...</td>\n",
       "    </tr>\n",
       "    <tr>\n",
       "      <th>M1088794709</th>\n",
       "      <td>male</td>\n",
       "      <td>weekly</td>\n",
       "      <td>0</td>\n",
       "      <td>1</td>\n",
       "      <td>0</td>\n",
       "      <td>0</td>\n",
       "      <td>0</td>\n",
       "      <td>MD825760</td>\n",
       "      <td>BR641329</td>\n",
       "      <td>PV071037</td>\n",
       "      <td>CT470265</td>\n",
       "      <td>PF470265</td>\n",
       "      <td>361</td>\n",
       "      <td>T582,T558,T28776,T5186,T9081,T2419,T2693,T2299...</td>\n",
       "      <td>T65:1.5992582,T867:1.3179373,T93:1.2095009,T31...</td>\n",
       "      <td>[9.542506, 4.7182026, 4.145554, 2.87201, 7.516...</td>\n",
       "      <td>[0.9643650885294115, 0.31516375361764704, 0.82...</td>\n",
       "      <td>[-5.225668, -5.5874524, -4.6888633, -8.055199,...</td>\n",
       "    </tr>\n",
       "  </tbody>\n",
       "</table>\n",
       "</div>"
      ],
      "text/plain": [
       "             gender visit_freq  binary_A  binary_B  binary_C  binary_D  \\\n",
       "user_id                                                                  \n",
       "M1934753188    male    monthly         0         1         0         1   \n",
       "M595924114     male      daily         0         0         0         1   \n",
       "M1473482940  female     weekly         0         1         0         1   \n",
       "M578477092     male      daily         1         1         0         1   \n",
       "M1088794709    male     weekly         0         1         0         0   \n",
       "\n",
       "             binary_E category_A category_B category_C category_D category_E  \\\n",
       "user_id                                                                        \n",
       "M1934753188         0   MD470265   BR470265   PV929066   CT929066   PF470265   \n",
       "M595924114          1     Others   BR596936   PV002320   CT840234   PF470265   \n",
       "M1473482940         0   MD116493   BR641329   PV170953   CT470265   PF470265   \n",
       "M578477092          0   MD889589   BR803759   PV545833   CT545833   PF470265   \n",
       "M1088794709         0   MD825760   BR641329   PV071037   CT470265   PF470265   \n",
       "\n",
       "             salt_value                                      follow_topics  \\\n",
       "user_id                                                                      \n",
       "M1934753188         764                                               T540   \n",
       "M595924114          671  T44126,T15940,T839,T8978,T2934,T1113,T3914,T12...   \n",
       "M1473482940         454  T30874,T2113,T8656,T21,T523,T8,T116,T5727,T68,...   \n",
       "M578477092          588  T946,T7323,T297,T2660,T36067,T53107,T2654,T507...   \n",
       "M1088794709         361  T582,T558,T28776,T5186,T9081,T2419,T2693,T2299...   \n",
       "\n",
       "                                               interest_topics  \\\n",
       "user_id                                                          \n",
       "M1934753188  T21107:1.7915097,T405:1.6123838,T4436:1.518003...   \n",
       "M595924114   T18016:2.0650618,T2384:1.2503042,T1142:1.13569...   \n",
       "M1473482940  T46:1.330939,T2159:1.1296458,T379:1.1241927,T1...   \n",
       "M578477092   T15918:1.9479566,T8106:1.8578106,T4787:1.58486...   \n",
       "M1088794709  T65:1.5992582,T867:1.3179373,T93:1.2095009,T31...   \n",
       "\n",
       "                                     follow_topics_maxpool_vec  \\\n",
       "user_id                                                          \n",
       "M1934753188  [6.125305, -1.4180568, -1.3143845, -2.9268239,...   \n",
       "M595924114   [3.8494484, 3.977306, 5.7516003, 4.9546337, 4....   \n",
       "M1473482940  [3.4723787, 4.6616564, 3.5893476, 5.427303, 5....   \n",
       "M578477092   [8.753078, 7.646762, 7.8675485, 5.283248, 6.17...   \n",
       "M1088794709  [9.542506, 4.7182026, 4.145554, 2.87201, 7.516...   \n",
       "\n",
       "                                    follow_topics_meanpool_vec  \\\n",
       "user_id                                                          \n",
       "M1934753188  [6.125305, -1.4180568, -1.3143845, -2.9268239,...   \n",
       "M595924114   [0.30575216599999994, -0.9980522930666669, 0.0...   \n",
       "M1473482940  [0.1508028030833333, 0.7434654864583335, -0.25...   \n",
       "M578477092   [1.4605925141999998, -0.33966116570100013, 0.3...   \n",
       "M1088794709  [0.9643650885294115, 0.31516375361764704, 0.82...   \n",
       "\n",
       "                                     follow_topics_minpool_vec  \n",
       "user_id                                                         \n",
       "M1934753188  [6.125305, -1.4180568, -1.3143845, -2.9268239,...  \n",
       "M595924114   [-4.714479, -5.0564847, -6.1172757, -3.2384923...  \n",
       "M1473482940  [-5.314164, -4.025875, -3.3724556, -3.7077088,...  \n",
       "M578477092   [-4.448856, -7.467456, -7.378821, -8.584922, -...  \n",
       "M1088794709  [-5.225668, -5.5874524, -4.6888633, -8.055199,...  "
      ]
     },
     "execution_count": 48,
     "metadata": {},
     "output_type": "execute_result"
    }
   ],
   "source": [
    "user_df.head()"
   ]
  },
  {
   "cell_type": "code",
   "execution_count": null,
   "metadata": {},
   "outputs": [],
   "source": []
  }
 ],
 "metadata": {
  "kernelspec": {
   "display_name": "Python 3",
   "language": "python",
   "name": "python3"
  },
  "language_info": {
   "codemirror_mode": {
    "name": "ipython",
    "version": 3
   },
   "file_extension": ".py",
   "mimetype": "text/x-python",
   "name": "python",
   "nbconvert_exporter": "python",
   "pygments_lexer": "ipython3",
   "version": "3.6.7"
  }
 },
 "nbformat": 4,
 "nbformat_minor": 2
}
