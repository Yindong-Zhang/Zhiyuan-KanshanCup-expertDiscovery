{
 "cells": [
  {
   "cell_type": "code",
   "execution_count": 1,
   "metadata": {},
   "outputs": [],
   "source": [
    "import pandas as pd\n",
    "import numpy as np\n",
    "import os"
   ]
  },
  {
   "cell_type": "code",
   "execution_count": 2,
   "metadata": {},
   "outputs": [],
   "source": [
    "from sklearn.preprocessing import MinMaxScaler"
   ]
  },
  {
   "cell_type": "code",
   "execution_count": 3,
   "metadata": {},
   "outputs": [],
   "source": [
    "dataDir = '../data'"
   ]
  },
  {
   "cell_type": "code",
   "execution_count": 4,
   "metadata": {},
   "outputs": [],
   "source": [
    "invite_df = pd.read_csv(os.path.join(dataDir, 'invite_info_1020.csv'))"
   ]
  },
  {
   "cell_type": "code",
   "execution_count": 5,
   "metadata": {},
   "outputs": [],
   "source": [
    "answer_df = pd.read_csv(os.path.join(dataDir, 'answer_info_0926_clear.csv'),\n",
    "                                #names = ['answer_id', 'question_id', 'user_id', 'create_time',\n",
    "                                #         'ans_SW', 'ans_W', 'is_good', 'has_picture', 'has_video',\n",
    "                                #         'word_count', 'num_zan', 'num_cancel', 'num_comment', 'num_collect',\n",
    "                                #         'num_thanks', 'num_report', 'num_useless', 'num_oppos'],\n",
    "                                index_col= 'answer_id')"
   ]
  },
  {
   "cell_type": "code",
   "execution_count": 6,
   "metadata": {},
   "outputs": [
    {
     "data": {
      "text/html": [
       "<div>\n",
       "<style scoped>\n",
       "    .dataframe tbody tr th:only-of-type {\n",
       "        vertical-align: middle;\n",
       "    }\n",
       "\n",
       "    .dataframe tbody tr th {\n",
       "        vertical-align: top;\n",
       "    }\n",
       "\n",
       "    .dataframe thead th {\n",
       "        text-align: right;\n",
       "    }\n",
       "</style>\n",
       "<table border=\"1\" class=\"dataframe\">\n",
       "  <thead>\n",
       "    <tr style=\"text-align: right;\">\n",
       "      <th></th>\n",
       "      <th>question_id</th>\n",
       "      <th>user_id</th>\n",
       "      <th>create_day</th>\n",
       "      <th>create_hour</th>\n",
       "      <th>answer_SW</th>\n",
       "      <th>answer_W</th>\n",
       "      <th>is_good</th>\n",
       "      <th>has_picture</th>\n",
       "      <th>has_video</th>\n",
       "      <th>word_count</th>\n",
       "      <th>num_zan</th>\n",
       "      <th>num_cancel_zan</th>\n",
       "      <th>num_comment</th>\n",
       "      <th>num_collect</th>\n",
       "      <th>num_thanks</th>\n",
       "      <th>num_report</th>\n",
       "      <th>num_useless</th>\n",
       "      <th>num_oppose</th>\n",
       "    </tr>\n",
       "    <tr>\n",
       "      <th>answer_id</th>\n",
       "      <th></th>\n",
       "      <th></th>\n",
       "      <th></th>\n",
       "      <th></th>\n",
       "      <th></th>\n",
       "      <th></th>\n",
       "      <th></th>\n",
       "      <th></th>\n",
       "      <th></th>\n",
       "      <th></th>\n",
       "      <th></th>\n",
       "      <th></th>\n",
       "      <th></th>\n",
       "      <th></th>\n",
       "      <th></th>\n",
       "      <th></th>\n",
       "      <th></th>\n",
       "      <th></th>\n",
       "    </tr>\n",
       "  </thead>\n",
       "  <tbody>\n",
       "    <tr>\n",
       "      <th>A2502060945</th>\n",
       "      <td>Q1867533817</td>\n",
       "      <td>M625498202</td>\n",
       "      <td>3808</td>\n",
       "      <td>7</td>\n",
       "      <td>SW13,SW19,SW44,SW150,SW23,SW594,SW1254,SW91,SW...</td>\n",
       "      <td>W239,W10528,W142,W20372,W6473,W10,W24,W4527,W2...</td>\n",
       "      <td>0</td>\n",
       "      <td>0</td>\n",
       "      <td>0</td>\n",
       "      <td>41</td>\n",
       "      <td>1</td>\n",
       "      <td>0</td>\n",
       "      <td>1</td>\n",
       "      <td>0</td>\n",
       "      <td>1</td>\n",
       "      <td>0</td>\n",
       "      <td>0</td>\n",
       "      <td>0</td>\n",
       "    </tr>\n",
       "    <tr>\n",
       "      <th>A2847829478</th>\n",
       "      <td>Q3366788616</td>\n",
       "      <td>M142330444</td>\n",
       "      <td>3810</td>\n",
       "      <td>17</td>\n",
       "      <td>SW898,SW3656,SW2,SW413,SW601,SW2,SW2541,SW681,...</td>\n",
       "      <td>W4628,W66060,W1607,W2647,W53385,W109029,W319,W...</td>\n",
       "      <td>0</td>\n",
       "      <td>0</td>\n",
       "      <td>0</td>\n",
       "      <td>204</td>\n",
       "      <td>1</td>\n",
       "      <td>0</td>\n",
       "      <td>0</td>\n",
       "      <td>3</td>\n",
       "      <td>1</td>\n",
       "      <td>0</td>\n",
       "      <td>0</td>\n",
       "      <td>0</td>\n",
       "    </tr>\n",
       "    <tr>\n",
       "      <th>A2005999231</th>\n",
       "      <td>Q4264694221</td>\n",
       "      <td>M771499642</td>\n",
       "      <td>3853</td>\n",
       "      <td>13</td>\n",
       "      <td>SW9,SW510,SW573,SW1348,SW1304,SW326,SW509,SW22...</td>\n",
       "      <td>W3532,W69108,W12395,W81311,W498,W850,W107789,W...</td>\n",
       "      <td>0</td>\n",
       "      <td>0</td>\n",
       "      <td>0</td>\n",
       "      <td>54</td>\n",
       "      <td>2</td>\n",
       "      <td>0</td>\n",
       "      <td>1</td>\n",
       "      <td>0</td>\n",
       "      <td>0</td>\n",
       "      <td>0</td>\n",
       "      <td>0</td>\n",
       "      <td>0</td>\n",
       "    </tr>\n",
       "    <tr>\n",
       "      <th>A14821523</th>\n",
       "      <td>Q1088851650</td>\n",
       "      <td>M2282072267</td>\n",
       "      <td>3859</td>\n",
       "      <td>18</td>\n",
       "      <td>SW7,SW16,SW5,SW144,SW302,SW20,SW1752,SW60,SW75...</td>\n",
       "      <td>W1425,W1676,W3700,W325,W6485,W1090,W8342,W9689...</td>\n",
       "      <td>0</td>\n",
       "      <td>0</td>\n",
       "      <td>0</td>\n",
       "      <td>42</td>\n",
       "      <td>1</td>\n",
       "      <td>0</td>\n",
       "      <td>1</td>\n",
       "      <td>0</td>\n",
       "      <td>1</td>\n",
       "      <td>0</td>\n",
       "      <td>0</td>\n",
       "      <td>0</td>\n",
       "    </tr>\n",
       "    <tr>\n",
       "      <th>A731550034</th>\n",
       "      <td>Q1023877868</td>\n",
       "      <td>M2282072267</td>\n",
       "      <td>3855</td>\n",
       "      <td>22</td>\n",
       "      <td>SW7,SW15,SW596,SW407,SW1698,SW68,SW2,SW56,SW59...</td>\n",
       "      <td>W23420,W2610,W5506,W1489,W8749,W504,W1718,W252...</td>\n",
       "      <td>0</td>\n",
       "      <td>0</td>\n",
       "      <td>0</td>\n",
       "      <td>44</td>\n",
       "      <td>0</td>\n",
       "      <td>0</td>\n",
       "      <td>0</td>\n",
       "      <td>0</td>\n",
       "      <td>0</td>\n",
       "      <td>0</td>\n",
       "      <td>0</td>\n",
       "      <td>0</td>\n",
       "    </tr>\n",
       "  </tbody>\n",
       "</table>\n",
       "</div>"
      ],
      "text/plain": [
       "             question_id      user_id  create_day  create_hour  \\\n",
       "answer_id                                                        \n",
       "A2502060945  Q1867533817   M625498202        3808            7   \n",
       "A2847829478  Q3366788616   M142330444        3810           17   \n",
       "A2005999231  Q4264694221   M771499642        3853           13   \n",
       "A14821523    Q1088851650  M2282072267        3859           18   \n",
       "A731550034   Q1023877868  M2282072267        3855           22   \n",
       "\n",
       "                                                     answer_SW  \\\n",
       "answer_id                                                        \n",
       "A2502060945  SW13,SW19,SW44,SW150,SW23,SW594,SW1254,SW91,SW...   \n",
       "A2847829478  SW898,SW3656,SW2,SW413,SW601,SW2,SW2541,SW681,...   \n",
       "A2005999231  SW9,SW510,SW573,SW1348,SW1304,SW326,SW509,SW22...   \n",
       "A14821523    SW7,SW16,SW5,SW144,SW302,SW20,SW1752,SW60,SW75...   \n",
       "A731550034   SW7,SW15,SW596,SW407,SW1698,SW68,SW2,SW56,SW59...   \n",
       "\n",
       "                                                      answer_W  is_good  \\\n",
       "answer_id                                                                 \n",
       "A2502060945  W239,W10528,W142,W20372,W6473,W10,W24,W4527,W2...        0   \n",
       "A2847829478  W4628,W66060,W1607,W2647,W53385,W109029,W319,W...        0   \n",
       "A2005999231  W3532,W69108,W12395,W81311,W498,W850,W107789,W...        0   \n",
       "A14821523    W1425,W1676,W3700,W325,W6485,W1090,W8342,W9689...        0   \n",
       "A731550034   W23420,W2610,W5506,W1489,W8749,W504,W1718,W252...        0   \n",
       "\n",
       "             has_picture  has_video  word_count  num_zan  num_cancel_zan  \\\n",
       "answer_id                                                                  \n",
       "A2502060945            0          0          41        1               0   \n",
       "A2847829478            0          0         204        1               0   \n",
       "A2005999231            0          0          54        2               0   \n",
       "A14821523              0          0          42        1               0   \n",
       "A731550034             0          0          44        0               0   \n",
       "\n",
       "             num_comment  num_collect  num_thanks  num_report  num_useless  \\\n",
       "answer_id                                                                    \n",
       "A2502060945            1            0           1           0            0   \n",
       "A2847829478            0            3           1           0            0   \n",
       "A2005999231            1            0           0           0            0   \n",
       "A14821523              1            0           1           0            0   \n",
       "A731550034             0            0           0           0            0   \n",
       "\n",
       "             num_oppose  \n",
       "answer_id                \n",
       "A2502060945           0  \n",
       "A2847829478           0  \n",
       "A2005999231           0  \n",
       "A14821523             0  \n",
       "A731550034            0  "
      ]
     },
     "execution_count": 6,
     "metadata": {},
     "output_type": "execute_result"
    }
   ],
   "source": [
    "answer_df.head()"
   ]
  },
  {
   "cell_type": "markdown",
   "metadata": {},
   "source": [
    "#### 添加 answer_ind 索引列"
   ]
  },
  {
   "cell_type": "code",
   "execution_count": 7,
   "metadata": {},
   "outputs": [],
   "source": [
    "answer_df['answer_index'] = np.arange(len(answer_df))"
   ]
  },
  {
   "cell_type": "markdown",
   "metadata": {},
   "source": [
    "#### 读取quest_info"
   ]
  },
  {
   "cell_type": "code",
   "execution_count": 60,
   "metadata": {},
   "outputs": [],
   "source": [
    "quest_df = pd.read_csv(os.path.join(dataDir, 'question_info_1106.csv'),\n",
    "#                        usecols = ['question_id', 'title_SW', 'title_W', 'question_topics', 'create_day'],\n",
    "                                    index_col= 'question_id',\n",
    "#                        index_col= 0\n",
    "                       sep= '\\t'\n",
    "                      )"
   ]
  },
  {
   "cell_type": "code",
   "execution_count": 61,
   "metadata": {
    "scrolled": true
   },
   "outputs": [
    {
     "data": {
      "text/html": [
       "<div>\n",
       "<style scoped>\n",
       "    .dataframe tbody tr th:only-of-type {\n",
       "        vertical-align: middle;\n",
       "    }\n",
       "\n",
       "    .dataframe tbody tr th {\n",
       "        vertical-align: top;\n",
       "    }\n",
       "\n",
       "    .dataframe thead th {\n",
       "        text-align: right;\n",
       "    }\n",
       "</style>\n",
       "<table border=\"1\" class=\"dataframe\">\n",
       "  <thead>\n",
       "    <tr style=\"text-align: right;\">\n",
       "      <th></th>\n",
       "      <th>create_time</th>\n",
       "      <th>title_SW</th>\n",
       "      <th>title_W</th>\n",
       "      <th>describe_SW</th>\n",
       "      <th>describe_W</th>\n",
       "      <th>question_topics</th>\n",
       "      <th>create_day</th>\n",
       "      <th>create_hour</th>\n",
       "      <th>question_topics_length</th>\n",
       "      <th>question_index</th>\n",
       "      <th>question_topics_mp</th>\n",
       "      <th>title_W_length</th>\n",
       "      <th>has_describe</th>\n",
       "      <th>describe_W_length</th>\n",
       "    </tr>\n",
       "    <tr>\n",
       "      <th>question_id</th>\n",
       "      <th></th>\n",
       "      <th></th>\n",
       "      <th></th>\n",
       "      <th></th>\n",
       "      <th></th>\n",
       "      <th></th>\n",
       "      <th></th>\n",
       "      <th></th>\n",
       "      <th></th>\n",
       "      <th></th>\n",
       "      <th></th>\n",
       "      <th></th>\n",
       "      <th></th>\n",
       "      <th></th>\n",
       "    </tr>\n",
       "  </thead>\n",
       "  <tbody>\n",
       "    <tr>\n",
       "      <th>Q2234111670</th>\n",
       "      <td>D1018-H5</td>\n",
       "      <td>SW211,SW204,SW1715,SW69,SW2033,SW138,SW57,SW13...</td>\n",
       "      <td>W22414,W963,W10458</td>\n",
       "      <td>-1</td>\n",
       "      <td>-1</td>\n",
       "      <td>T321,T730,T5784,T4389</td>\n",
       "      <td>1018</td>\n",
       "      <td>5</td>\n",
       "      <td>4</td>\n",
       "      <td>0</td>\n",
       "      <td>0</td>\n",
       "      <td>0.108108</td>\n",
       "      <td>0</td>\n",
       "      <td>0.000000</td>\n",
       "    </tr>\n",
       "    <tr>\n",
       "      <th>Q760329790</th>\n",
       "      <td>D1745-H20</td>\n",
       "      <td>SW69,SW2033,SW138,SW2616,SW2668,SW36,SW2594,SW...</td>\n",
       "      <td>W12677,W16829,W15201,W6419,W101839</td>\n",
       "      <td>SW146,SW982,SW401,SW297,SW17,SW2616,SW2668,SW3...</td>\n",
       "      <td>W1296,W2118,W12677,W16829,W15201,W6419,W101839...</td>\n",
       "      <td>T278,T12673,T4677</td>\n",
       "      <td>1745</td>\n",
       "      <td>20</td>\n",
       "      <td>3</td>\n",
       "      <td>1</td>\n",
       "      <td>1</td>\n",
       "      <td>0.216216</td>\n",
       "      <td>1</td>\n",
       "      <td>0.062863</td>\n",
       "    </tr>\n",
       "    <tr>\n",
       "      <th>Q741313548</th>\n",
       "      <td>D2032-H21</td>\n",
       "      <td>SW153,SW662,SW1218,SW853,SW325,SW1056,SW467,SW...</td>\n",
       "      <td>W700,W2781,W3280,W81215</td>\n",
       "      <td>SW1956,SW3583,SW153,SW34,SW35,SW1016,SW586,SW5...</td>\n",
       "      <td>W732,W24400,W48321,W39608,W20788,W219486,W1183...</td>\n",
       "      <td>T226</td>\n",
       "      <td>2032</td>\n",
       "      <td>21</td>\n",
       "      <td>1</td>\n",
       "      <td>2</td>\n",
       "      <td>2</td>\n",
       "      <td>0.162162</td>\n",
       "      <td>1</td>\n",
       "      <td>0.048356</td>\n",
       "    </tr>\n",
       "    <tr>\n",
       "      <th>Q3481466230</th>\n",
       "      <td>D2185-H15</td>\n",
       "      <td>SW22,SW179,SW57,SW451,SW594,SW118,SW882,SW655,...</td>\n",
       "      <td>W3312,W1823,W1505,W638,W166,W461</td>\n",
       "      <td>SW323,SW37,SW1,SW606,SW1227,SW29,SW22,SW179,SW...</td>\n",
       "      <td>W6642,W4214,W3312,W1505,W2205,W232,W294,W7177,...</td>\n",
       "      <td>T51,T4468</td>\n",
       "      <td>2185</td>\n",
       "      <td>15</td>\n",
       "      <td>2</td>\n",
       "      <td>3</td>\n",
       "      <td>3</td>\n",
       "      <td>0.270270</td>\n",
       "      <td>1</td>\n",
       "      <td>0.116054</td>\n",
       "    </tr>\n",
       "    <tr>\n",
       "      <th>Q3966197028</th>\n",
       "      <td>D2269-H17</td>\n",
       "      <td>SW1622,SW223,SW1218,SW853,SW390,SW220,SW753,SW...</td>\n",
       "      <td>W700,W895,W2253</td>\n",
       "      <td>-1</td>\n",
       "      <td>-1</td>\n",
       "      <td>T54700,T81,T57,T17670,T43574</td>\n",
       "      <td>2269</td>\n",
       "      <td>17</td>\n",
       "      <td>5</td>\n",
       "      <td>4</td>\n",
       "      <td>4</td>\n",
       "      <td>0.108108</td>\n",
       "      <td>0</td>\n",
       "      <td>0.000000</td>\n",
       "    </tr>\n",
       "  </tbody>\n",
       "</table>\n",
       "</div>"
      ],
      "text/plain": [
       "            create_time                                           title_SW  \\\n",
       "question_id                                                                  \n",
       "Q2234111670    D1018-H5  SW211,SW204,SW1715,SW69,SW2033,SW138,SW57,SW13...   \n",
       "Q760329790    D1745-H20  SW69,SW2033,SW138,SW2616,SW2668,SW36,SW2594,SW...   \n",
       "Q741313548    D2032-H21  SW153,SW662,SW1218,SW853,SW325,SW1056,SW467,SW...   \n",
       "Q3481466230   D2185-H15  SW22,SW179,SW57,SW451,SW594,SW118,SW882,SW655,...   \n",
       "Q3966197028   D2269-H17  SW1622,SW223,SW1218,SW853,SW390,SW220,SW753,SW...   \n",
       "\n",
       "                                        title_W  \\\n",
       "question_id                                       \n",
       "Q2234111670                  W22414,W963,W10458   \n",
       "Q760329790   W12677,W16829,W15201,W6419,W101839   \n",
       "Q741313548              W700,W2781,W3280,W81215   \n",
       "Q3481466230    W3312,W1823,W1505,W638,W166,W461   \n",
       "Q3966197028                     W700,W895,W2253   \n",
       "\n",
       "                                                   describe_SW  \\\n",
       "question_id                                                      \n",
       "Q2234111670                                                 -1   \n",
       "Q760329790   SW146,SW982,SW401,SW297,SW17,SW2616,SW2668,SW3...   \n",
       "Q741313548   SW1956,SW3583,SW153,SW34,SW35,SW1016,SW586,SW5...   \n",
       "Q3481466230  SW323,SW37,SW1,SW606,SW1227,SW29,SW22,SW179,SW...   \n",
       "Q3966197028                                                 -1   \n",
       "\n",
       "                                                    describe_W  \\\n",
       "question_id                                                      \n",
       "Q2234111670                                                 -1   \n",
       "Q760329790   W1296,W2118,W12677,W16829,W15201,W6419,W101839...   \n",
       "Q741313548   W732,W24400,W48321,W39608,W20788,W219486,W1183...   \n",
       "Q3481466230  W6642,W4214,W3312,W1505,W2205,W232,W294,W7177,...   \n",
       "Q3966197028                                                 -1   \n",
       "\n",
       "                          question_topics  create_day  create_hour  \\\n",
       "question_id                                                          \n",
       "Q2234111670         T321,T730,T5784,T4389        1018            5   \n",
       "Q760329790              T278,T12673,T4677        1745           20   \n",
       "Q741313548                           T226        2032           21   \n",
       "Q3481466230                     T51,T4468        2185           15   \n",
       "Q3966197028  T54700,T81,T57,T17670,T43574        2269           17   \n",
       "\n",
       "             question_topics_length  question_index  question_topics_mp  \\\n",
       "question_id                                                               \n",
       "Q2234111670                       4               0                   0   \n",
       "Q760329790                        3               1                   1   \n",
       "Q741313548                        1               2                   2   \n",
       "Q3481466230                       2               3                   3   \n",
       "Q3966197028                       5               4                   4   \n",
       "\n",
       "             title_W_length  has_describe  describe_W_length  \n",
       "question_id                                                   \n",
       "Q2234111670        0.108108             0           0.000000  \n",
       "Q760329790         0.216216             1           0.062863  \n",
       "Q741313548         0.162162             1           0.048356  \n",
       "Q3481466230        0.270270             1           0.116054  \n",
       "Q3966197028        0.108108             0           0.000000  "
      ]
     },
     "execution_count": 61,
     "metadata": {},
     "output_type": "execute_result"
    }
   ],
   "source": [
    "quest_df.head()"
   ]
  },
  {
   "cell_type": "code",
   "execution_count": 11,
   "metadata": {
    "scrolled": true
   },
   "outputs": [
    {
     "data": {
      "text/plain": [
       "1829900"
      ]
     },
     "execution_count": 11,
     "metadata": {},
     "output_type": "execute_result"
    }
   ],
   "source": [
    "len(quest_df)"
   ]
  },
  {
   "cell_type": "markdown",
   "metadata": {},
   "source": [
    "#### 添加question_ind 索引列"
   ]
  },
  {
   "cell_type": "code",
   "execution_count": 12,
   "metadata": {},
   "outputs": [],
   "source": [
    "quest_df['question_index'] = np.arange(len(quest_df))"
   ]
  },
  {
   "cell_type": "markdown",
   "metadata": {},
   "source": [
    "## 处理　invite info"
   ]
  },
  {
   "cell_type": "code",
   "execution_count": 13,
   "metadata": {
    "scrolled": true
   },
   "outputs": [
    {
     "data": {
      "text/plain": [
       "9489162"
      ]
     },
     "execution_count": 13,
     "metadata": {},
     "output_type": "execute_result"
    }
   ],
   "source": [
    "len(invite_df)"
   ]
  },
  {
   "cell_type": "code",
   "execution_count": 14,
   "metadata": {},
   "outputs": [
    {
     "data": {
      "text/html": [
       "<div>\n",
       "<style scoped>\n",
       "    .dataframe tbody tr th:only-of-type {\n",
       "        vertical-align: middle;\n",
       "    }\n",
       "\n",
       "    .dataframe tbody tr th {\n",
       "        vertical-align: top;\n",
       "    }\n",
       "\n",
       "    .dataframe thead th {\n",
       "        text-align: right;\n",
       "    }\n",
       "</style>\n",
       "<table border=\"1\" class=\"dataframe\">\n",
       "  <thead>\n",
       "    <tr style=\"text-align: right;\">\n",
       "      <th></th>\n",
       "      <th>question_id</th>\n",
       "      <th>user_id</th>\n",
       "      <th>create_time</th>\n",
       "      <th>is_answer</th>\n",
       "    </tr>\n",
       "  </thead>\n",
       "  <tbody>\n",
       "    <tr>\n",
       "      <th>0</th>\n",
       "      <td>Q2166419046</td>\n",
       "      <td>M401693808</td>\n",
       "      <td>D3865-H22</td>\n",
       "      <td>0</td>\n",
       "    </tr>\n",
       "    <tr>\n",
       "      <th>1</th>\n",
       "      <td>Q1550017551</td>\n",
       "      <td>M3392373099</td>\n",
       "      <td>D3844-H11</td>\n",
       "      <td>0</td>\n",
       "    </tr>\n",
       "    <tr>\n",
       "      <th>2</th>\n",
       "      <td>Q604029601</td>\n",
       "      <td>M2317670257</td>\n",
       "      <td>D3862-H15</td>\n",
       "      <td>0</td>\n",
       "    </tr>\n",
       "    <tr>\n",
       "      <th>3</th>\n",
       "      <td>Q2350061229</td>\n",
       "      <td>M1618461867</td>\n",
       "      <td>D3849-H11</td>\n",
       "      <td>0</td>\n",
       "    </tr>\n",
       "    <tr>\n",
       "      <th>4</th>\n",
       "      <td>Q2443223942</td>\n",
       "      <td>M3544409350</td>\n",
       "      <td>D3867-H4</td>\n",
       "      <td>0</td>\n",
       "    </tr>\n",
       "  </tbody>\n",
       "</table>\n",
       "</div>"
      ],
      "text/plain": [
       "   question_id      user_id create_time  is_answer\n",
       "0  Q2166419046   M401693808   D3865-H22          0\n",
       "1  Q1550017551  M3392373099   D3844-H11          0\n",
       "2   Q604029601  M2317670257   D3862-H15          0\n",
       "3  Q2350061229  M1618461867   D3849-H11          0\n",
       "4  Q2443223942  M3544409350    D3867-H4          0"
      ]
     },
     "execution_count": 14,
     "metadata": {},
     "output_type": "execute_result"
    }
   ],
   "source": [
    "invite_df.head()"
   ]
  },
  {
   "cell_type": "code",
   "execution_count": 15,
   "metadata": {},
   "outputs": [],
   "source": [
    "invite_df['create_day'] = invite_df['create_time'].apply(lambda x: int(x.split('-')[0].lstrip('D')))"
   ]
  },
  {
   "cell_type": "code",
   "execution_count": 16,
   "metadata": {},
   "outputs": [],
   "source": [
    "invite_df['create_hour'] = invite_df['create_time'].apply(lambda x: int(x.split('-')[1].lstrip('H')))"
   ]
  },
  {
   "cell_type": "code",
   "execution_count": 17,
   "metadata": {},
   "outputs": [],
   "source": [
    "invite_df = invite_df.sort_values(by= ['user_id', 'create_day', 'create_hour'])"
   ]
  },
  {
   "cell_type": "code",
   "execution_count": 18,
   "metadata": {},
   "outputs": [],
   "source": [
    "accepted_df = invite_df.loc[invite_df['is_answer'] == 1]"
   ]
  },
  {
   "cell_type": "code",
   "execution_count": 19,
   "metadata": {},
   "outputs": [
    {
     "data": {
      "text/html": [
       "<div>\n",
       "<style scoped>\n",
       "    .dataframe tbody tr th:only-of-type {\n",
       "        vertical-align: middle;\n",
       "    }\n",
       "\n",
       "    .dataframe tbody tr th {\n",
       "        vertical-align: top;\n",
       "    }\n",
       "\n",
       "    .dataframe thead th {\n",
       "        text-align: right;\n",
       "    }\n",
       "</style>\n",
       "<table border=\"1\" class=\"dataframe\">\n",
       "  <thead>\n",
       "    <tr style=\"text-align: right;\">\n",
       "      <th></th>\n",
       "      <th>question_id</th>\n",
       "      <th>user_id</th>\n",
       "      <th>create_time</th>\n",
       "      <th>is_answer</th>\n",
       "      <th>create_day</th>\n",
       "      <th>create_hour</th>\n",
       "    </tr>\n",
       "  </thead>\n",
       "  <tbody>\n",
       "    <tr>\n",
       "      <th>8239342</th>\n",
       "      <td>Q2574396618</td>\n",
       "      <td>M1000000382</td>\n",
       "      <td>D3842-H16</td>\n",
       "      <td>1</td>\n",
       "      <td>3842</td>\n",
       "      <td>16</td>\n",
       "    </tr>\n",
       "    <tr>\n",
       "      <th>6296086</th>\n",
       "      <td>Q2611259517</td>\n",
       "      <td>M1000000983</td>\n",
       "      <td>D3847-H20</td>\n",
       "      <td>1</td>\n",
       "      <td>3847</td>\n",
       "      <td>20</td>\n",
       "    </tr>\n",
       "    <tr>\n",
       "      <th>7909920</th>\n",
       "      <td>Q1425436837</td>\n",
       "      <td>M1000000983</td>\n",
       "      <td>D3848-H19</td>\n",
       "      <td>1</td>\n",
       "      <td>3848</td>\n",
       "      <td>19</td>\n",
       "    </tr>\n",
       "    <tr>\n",
       "      <th>5630711</th>\n",
       "      <td>Q2079515575</td>\n",
       "      <td>M1000000983</td>\n",
       "      <td>D3857-H20</td>\n",
       "      <td>1</td>\n",
       "      <td>3857</td>\n",
       "      <td>20</td>\n",
       "    </tr>\n",
       "    <tr>\n",
       "      <th>5592281</th>\n",
       "      <td>Q634759810</td>\n",
       "      <td>M1000008978</td>\n",
       "      <td>D3855-H17</td>\n",
       "      <td>1</td>\n",
       "      <td>3855</td>\n",
       "      <td>17</td>\n",
       "    </tr>\n",
       "  </tbody>\n",
       "</table>\n",
       "</div>"
      ],
      "text/plain": [
       "         question_id      user_id create_time  is_answer  create_day  \\\n",
       "8239342  Q2574396618  M1000000382   D3842-H16          1        3842   \n",
       "6296086  Q2611259517  M1000000983   D3847-H20          1        3847   \n",
       "7909920  Q1425436837  M1000000983   D3848-H19          1        3848   \n",
       "5630711  Q2079515575  M1000000983   D3857-H20          1        3857   \n",
       "5592281   Q634759810  M1000008978   D3855-H17          1        3855   \n",
       "\n",
       "         create_hour  \n",
       "8239342           16  \n",
       "6296086           20  \n",
       "7909920           19  \n",
       "5630711           20  \n",
       "5592281           17  "
      ]
     },
     "execution_count": 19,
     "metadata": {},
     "output_type": "execute_result"
    }
   ],
   "source": [
    "accepted_df.head()"
   ]
  },
  {
   "cell_type": "markdown",
   "metadata": {},
   "source": [
    "#### 问题邀请计数"
   ]
  },
  {
   "cell_type": "code",
   "execution_count": 55,
   "metadata": {},
   "outputs": [],
   "source": [
    "question_invite_count = invite_df.groupby('question_id')['is_answer'].count()"
   ]
  },
  {
   "cell_type": "code",
   "execution_count": 62,
   "metadata": {},
   "outputs": [],
   "source": [
    "quest_df['invite_count'] = question_invite_count[quest_df.index]"
   ]
  },
  {
   "cell_type": "code",
   "execution_count": 63,
   "metadata": {},
   "outputs": [
    {
     "data": {
      "text/html": [
       "<div>\n",
       "<style scoped>\n",
       "    .dataframe tbody tr th:only-of-type {\n",
       "        vertical-align: middle;\n",
       "    }\n",
       "\n",
       "    .dataframe tbody tr th {\n",
       "        vertical-align: top;\n",
       "    }\n",
       "\n",
       "    .dataframe thead th {\n",
       "        text-align: right;\n",
       "    }\n",
       "</style>\n",
       "<table border=\"1\" class=\"dataframe\">\n",
       "  <thead>\n",
       "    <tr style=\"text-align: right;\">\n",
       "      <th></th>\n",
       "      <th>create_time</th>\n",
       "      <th>title_SW</th>\n",
       "      <th>title_W</th>\n",
       "      <th>describe_SW</th>\n",
       "      <th>describe_W</th>\n",
       "      <th>question_topics</th>\n",
       "      <th>create_day</th>\n",
       "      <th>create_hour</th>\n",
       "      <th>question_topics_length</th>\n",
       "      <th>question_index</th>\n",
       "      <th>question_topics_mp</th>\n",
       "      <th>title_W_length</th>\n",
       "      <th>has_describe</th>\n",
       "      <th>describe_W_length</th>\n",
       "      <th>invite_count</th>\n",
       "    </tr>\n",
       "    <tr>\n",
       "      <th>question_id</th>\n",
       "      <th></th>\n",
       "      <th></th>\n",
       "      <th></th>\n",
       "      <th></th>\n",
       "      <th></th>\n",
       "      <th></th>\n",
       "      <th></th>\n",
       "      <th></th>\n",
       "      <th></th>\n",
       "      <th></th>\n",
       "      <th></th>\n",
       "      <th></th>\n",
       "      <th></th>\n",
       "      <th></th>\n",
       "      <th></th>\n",
       "    </tr>\n",
       "  </thead>\n",
       "  <tbody>\n",
       "    <tr>\n",
       "      <th>Q2234111670</th>\n",
       "      <td>D1018-H5</td>\n",
       "      <td>SW211,SW204,SW1715,SW69,SW2033,SW138,SW57,SW13...</td>\n",
       "      <td>W22414,W963,W10458</td>\n",
       "      <td>-1</td>\n",
       "      <td>-1</td>\n",
       "      <td>T321,T730,T5784,T4389</td>\n",
       "      <td>1018</td>\n",
       "      <td>5</td>\n",
       "      <td>4</td>\n",
       "      <td>0</td>\n",
       "      <td>0</td>\n",
       "      <td>0.108108</td>\n",
       "      <td>0</td>\n",
       "      <td>0.000000</td>\n",
       "      <td>15.0</td>\n",
       "    </tr>\n",
       "    <tr>\n",
       "      <th>Q760329790</th>\n",
       "      <td>D1745-H20</td>\n",
       "      <td>SW69,SW2033,SW138,SW2616,SW2668,SW36,SW2594,SW...</td>\n",
       "      <td>W12677,W16829,W15201,W6419,W101839</td>\n",
       "      <td>SW146,SW982,SW401,SW297,SW17,SW2616,SW2668,SW3...</td>\n",
       "      <td>W1296,W2118,W12677,W16829,W15201,W6419,W101839...</td>\n",
       "      <td>T278,T12673,T4677</td>\n",
       "      <td>1745</td>\n",
       "      <td>20</td>\n",
       "      <td>3</td>\n",
       "      <td>1</td>\n",
       "      <td>1</td>\n",
       "      <td>0.216216</td>\n",
       "      <td>1</td>\n",
       "      <td>0.062863</td>\n",
       "      <td>NaN</td>\n",
       "    </tr>\n",
       "    <tr>\n",
       "      <th>Q741313548</th>\n",
       "      <td>D2032-H21</td>\n",
       "      <td>SW153,SW662,SW1218,SW853,SW325,SW1056,SW467,SW...</td>\n",
       "      <td>W700,W2781,W3280,W81215</td>\n",
       "      <td>SW1956,SW3583,SW153,SW34,SW35,SW1016,SW586,SW5...</td>\n",
       "      <td>W732,W24400,W48321,W39608,W20788,W219486,W1183...</td>\n",
       "      <td>T226</td>\n",
       "      <td>2032</td>\n",
       "      <td>21</td>\n",
       "      <td>1</td>\n",
       "      <td>2</td>\n",
       "      <td>2</td>\n",
       "      <td>0.162162</td>\n",
       "      <td>1</td>\n",
       "      <td>0.048356</td>\n",
       "      <td>NaN</td>\n",
       "    </tr>\n",
       "    <tr>\n",
       "      <th>Q3481466230</th>\n",
       "      <td>D2185-H15</td>\n",
       "      <td>SW22,SW179,SW57,SW451,SW594,SW118,SW882,SW655,...</td>\n",
       "      <td>W3312,W1823,W1505,W638,W166,W461</td>\n",
       "      <td>SW323,SW37,SW1,SW606,SW1227,SW29,SW22,SW179,SW...</td>\n",
       "      <td>W6642,W4214,W3312,W1505,W2205,W232,W294,W7177,...</td>\n",
       "      <td>T51,T4468</td>\n",
       "      <td>2185</td>\n",
       "      <td>15</td>\n",
       "      <td>2</td>\n",
       "      <td>3</td>\n",
       "      <td>3</td>\n",
       "      <td>0.270270</td>\n",
       "      <td>1</td>\n",
       "      <td>0.116054</td>\n",
       "      <td>1.0</td>\n",
       "    </tr>\n",
       "    <tr>\n",
       "      <th>Q3966197028</th>\n",
       "      <td>D2269-H17</td>\n",
       "      <td>SW1622,SW223,SW1218,SW853,SW390,SW220,SW753,SW...</td>\n",
       "      <td>W700,W895,W2253</td>\n",
       "      <td>-1</td>\n",
       "      <td>-1</td>\n",
       "      <td>T54700,T81,T57,T17670,T43574</td>\n",
       "      <td>2269</td>\n",
       "      <td>17</td>\n",
       "      <td>5</td>\n",
       "      <td>4</td>\n",
       "      <td>4</td>\n",
       "      <td>0.108108</td>\n",
       "      <td>0</td>\n",
       "      <td>0.000000</td>\n",
       "      <td>NaN</td>\n",
       "    </tr>\n",
       "  </tbody>\n",
       "</table>\n",
       "</div>"
      ],
      "text/plain": [
       "            create_time                                           title_SW  \\\n",
       "question_id                                                                  \n",
       "Q2234111670    D1018-H5  SW211,SW204,SW1715,SW69,SW2033,SW138,SW57,SW13...   \n",
       "Q760329790    D1745-H20  SW69,SW2033,SW138,SW2616,SW2668,SW36,SW2594,SW...   \n",
       "Q741313548    D2032-H21  SW153,SW662,SW1218,SW853,SW325,SW1056,SW467,SW...   \n",
       "Q3481466230   D2185-H15  SW22,SW179,SW57,SW451,SW594,SW118,SW882,SW655,...   \n",
       "Q3966197028   D2269-H17  SW1622,SW223,SW1218,SW853,SW390,SW220,SW753,SW...   \n",
       "\n",
       "                                        title_W  \\\n",
       "question_id                                       \n",
       "Q2234111670                  W22414,W963,W10458   \n",
       "Q760329790   W12677,W16829,W15201,W6419,W101839   \n",
       "Q741313548              W700,W2781,W3280,W81215   \n",
       "Q3481466230    W3312,W1823,W1505,W638,W166,W461   \n",
       "Q3966197028                     W700,W895,W2253   \n",
       "\n",
       "                                                   describe_SW  \\\n",
       "question_id                                                      \n",
       "Q2234111670                                                 -1   \n",
       "Q760329790   SW146,SW982,SW401,SW297,SW17,SW2616,SW2668,SW3...   \n",
       "Q741313548   SW1956,SW3583,SW153,SW34,SW35,SW1016,SW586,SW5...   \n",
       "Q3481466230  SW323,SW37,SW1,SW606,SW1227,SW29,SW22,SW179,SW...   \n",
       "Q3966197028                                                 -1   \n",
       "\n",
       "                                                    describe_W  \\\n",
       "question_id                                                      \n",
       "Q2234111670                                                 -1   \n",
       "Q760329790   W1296,W2118,W12677,W16829,W15201,W6419,W101839...   \n",
       "Q741313548   W732,W24400,W48321,W39608,W20788,W219486,W1183...   \n",
       "Q3481466230  W6642,W4214,W3312,W1505,W2205,W232,W294,W7177,...   \n",
       "Q3966197028                                                 -1   \n",
       "\n",
       "                          question_topics  create_day  create_hour  \\\n",
       "question_id                                                          \n",
       "Q2234111670         T321,T730,T5784,T4389        1018            5   \n",
       "Q760329790              T278,T12673,T4677        1745           20   \n",
       "Q741313548                           T226        2032           21   \n",
       "Q3481466230                     T51,T4468        2185           15   \n",
       "Q3966197028  T54700,T81,T57,T17670,T43574        2269           17   \n",
       "\n",
       "             question_topics_length  question_index  question_topics_mp  \\\n",
       "question_id                                                               \n",
       "Q2234111670                       4               0                   0   \n",
       "Q760329790                        3               1                   1   \n",
       "Q741313548                        1               2                   2   \n",
       "Q3481466230                       2               3                   3   \n",
       "Q3966197028                       5               4                   4   \n",
       "\n",
       "             title_W_length  has_describe  describe_W_length  invite_count  \n",
       "question_id                                                                 \n",
       "Q2234111670        0.108108             0           0.000000          15.0  \n",
       "Q760329790         0.216216             1           0.062863           NaN  \n",
       "Q741313548         0.162162             1           0.048356           NaN  \n",
       "Q3481466230        0.270270             1           0.116054           1.0  \n",
       "Q3966197028        0.108108             0           0.000000           NaN  "
      ]
     },
     "execution_count": 63,
     "metadata": {},
     "output_type": "execute_result"
    }
   ],
   "source": [
    "quest_df.head()"
   ]
  },
  {
   "cell_type": "code",
   "execution_count": null,
   "metadata": {},
   "outputs": [],
   "source": [
    "quest_df"
   ]
  },
  {
   "cell_type": "markdown",
   "metadata": {},
   "source": [
    "#### 用户回答计数"
   ]
  },
  {
   "cell_type": "code",
   "execution_count": 20,
   "metadata": {},
   "outputs": [],
   "source": [
    "user_ans_count = accepted_df.groupby('user_id')['is_answer'].count()"
   ]
  },
  {
   "cell_type": "code",
   "execution_count": 21,
   "metadata": {},
   "outputs": [
    {
     "data": {
      "text/plain": [
       "user_id\n",
       "M1000000382    1\n",
       "M1000000983    3\n",
       "M1000008978    1\n",
       "M1000009571    1\n",
       "M1000009786    1\n",
       "Name: is_answer, dtype: int64"
      ]
     },
     "execution_count": 21,
     "metadata": {},
     "output_type": "execute_result"
    }
   ],
   "source": [
    "user_ans_count.head()"
   ]
  },
  {
   "cell_type": "markdown",
   "metadata": {},
   "source": [
    "#### 用户邀请计数"
   ]
  },
  {
   "cell_type": "code",
   "execution_count": 22,
   "metadata": {},
   "outputs": [],
   "source": [
    "user_invite_count = invite_df.groupby('user_id')['is_answer'].count()"
   ]
  },
  {
   "cell_type": "code",
   "execution_count": 23,
   "metadata": {},
   "outputs": [
    {
     "data": {
      "text/plain": [
       "user_id\n",
       "M1000000382     8\n",
       "M1000000983    14\n",
       "M1000003304     1\n",
       "M1000008978     9\n",
       "M1000009571     1\n",
       "Name: is_answer, dtype: int64"
      ]
     },
     "execution_count": 23,
     "metadata": {},
     "output_type": "execute_result"
    }
   ],
   "source": [
    "user_invite_count.head()"
   ]
  },
  {
   "cell_type": "markdown",
   "metadata": {},
   "source": [
    "#### 用户 since_last_ans, hist_ans_id_0, hist_ans_id_1"
   ]
  },
  {
   "cell_type": "markdown",
   "metadata": {},
   "source": [
    "## 处理question 属性"
   ]
  },
  {
   "cell_type": "markdown",
   "metadata": {},
   "source": [
    "### question topics max pooling"
   ]
  },
  {
   "cell_type": "code",
   "execution_count": 72,
   "metadata": {},
   "outputs": [
    {
     "data": {
      "text/plain": [
       "3874"
      ]
     },
     "execution_count": 72,
     "metadata": {},
     "output_type": "execute_result"
    }
   ],
   "source": [
    "np.sum(quest_df['question_topics'] == '-1')"
   ]
  },
  {
   "cell_type": "code",
   "execution_count": 56,
   "metadata": {},
   "outputs": [],
   "source": [
    "topics_mean = np.mean(topic_vec, axis= 0)"
   ]
  },
  {
   "cell_type": "code",
   "execution_count": 161,
   "metadata": {},
   "outputs": [
    {
     "data": {
      "text/plain": [
       "(64,)"
      ]
     },
     "execution_count": 161,
     "metadata": {},
     "output_type": "execute_result"
    }
   ],
   "source": [
    "topics_mean.shape"
   ]
  },
  {
   "cell_type": "code",
   "execution_count": 68,
   "metadata": {},
   "outputs": [],
   "source": [
    "def maxpool_quest_topics(s):\n",
    "    try:\n",
    "        if s != '-1':\n",
    "            id_list = s.split(',')\n",
    "            ind_list = topic_idmap[id_list].tolist()\n",
    "            topic_array = topic_vec[ind_list]\n",
    "            topic_mp = np.max(topic_array, axis= 0)\n",
    "        else:\n",
    "            topic_mp = topics_mean\n",
    "    except:\n",
    "        print(ind_list)\n",
    "    return topic_mp"
   ]
  },
  {
   "cell_type": "code",
   "execution_count": 165,
   "metadata": {},
   "outputs": [],
   "source": [
    "quest_topics_mp = quest_df['question_topics'].map(maxpool_quest_topics)"
   ]
  },
  {
   "cell_type": "code",
   "execution_count": 166,
   "metadata": {},
   "outputs": [
    {
     "data": {
      "text/plain": [
       "question_id\n",
       "Q2234111670    [2.028344, 4.240323, 1.5969335, -1.7983502, 3....\n",
       "Q760329790     [-1.8734853, -4.4524074, -1.4084837, -0.096429...\n",
       "Q741313548     [1.1679975, -0.9902606, 2.8614578, 2.517082, -...\n",
       "Q3481466230    [-0.8644146, -0.91238177, 1.4963309, 4.5643163...\n",
       "Q3966197028    [5.1905546, 4.887342, 0.9944194, 6.2047296, 1....\n",
       "Name: question_topics, dtype: object"
      ]
     },
     "execution_count": 166,
     "metadata": {},
     "output_type": "execute_result"
    }
   ],
   "source": [
    "quest_topics_mp.head()"
   ]
  },
  {
   "cell_type": "markdown",
   "metadata": {},
   "source": [
    "#### 保存最大池化 topic vector"
   ]
  },
  {
   "cell_type": "code",
   "execution_count": null,
   "metadata": {},
   "outputs": [],
   "source": [
    "quest_topics_mp_array = np.array(quest_topics_mp.tolist())"
   ]
  },
  {
   "cell_type": "code",
   "execution_count": 172,
   "metadata": {},
   "outputs": [],
   "source": [
    "np.save(os.path.join(dataDir, 'question_topics_mp.npy'), quest_topics_mp_array)"
   ]
  },
  {
   "cell_type": "markdown",
   "metadata": {},
   "source": [
    "#### 添加question topic 索引列"
   ]
  },
  {
   "cell_type": "code",
   "execution_count": 94,
   "metadata": {},
   "outputs": [],
   "source": [
    "quest_df['question_topics_mp'] = np.arange(len(quest_df))"
   ]
  },
  {
   "cell_type": "markdown",
   "metadata": {},
   "source": [
    "#### 标题长度"
   ]
  },
  {
   "cell_type": "code",
   "execution_count": 95,
   "metadata": {},
   "outputs": [],
   "source": [
    "title_W_length = quest_df['title_W'].apply(lambda x: x.count(',') + 1)"
   ]
  },
  {
   "cell_type": "code",
   "execution_count": 96,
   "metadata": {},
   "outputs": [
    {
     "data": {
      "text/plain": [
       "count    1.829900e+06\n",
       "mean     6.665204e+00\n",
       "std      3.528144e+00\n",
       "min      1.000000e+00\n",
       "25%      4.000000e+00\n",
       "50%      6.000000e+00\n",
       "75%      8.000000e+00\n",
       "max      3.800000e+01\n",
       "Name: title_W, dtype: float64"
      ]
     },
     "execution_count": 96,
     "metadata": {},
     "output_type": "execute_result"
    }
   ],
   "source": [
    "title_W_length.describe()"
   ]
  },
  {
   "cell_type": "markdown",
   "metadata": {},
   "source": [
    "#### 缩放"
   ]
  },
  {
   "cell_type": "code",
   "execution_count": 97,
   "metadata": {},
   "outputs": [],
   "source": [
    "from sklearn.preprocessing import MinMaxScaler"
   ]
  },
  {
   "cell_type": "code",
   "execution_count": 98,
   "metadata": {},
   "outputs": [
    {
     "name": "stderr",
     "output_type": "stream",
     "text": [
      "/home/sc3/miniconda2/envs/ydzhang/lib/python3.6/site-packages/sklearn/utils/validation.py:595: DataConversionWarning: Data with input dtype int64 was converted to float64 by MinMaxScaler.\n",
      "  warnings.warn(msg, DataConversionWarning)\n"
     ]
    }
   ],
   "source": [
    "quest_df['title_W_length'] = MinMaxScaler((0, 2)).fit_transform(title_W_length.values.reshape(-1, 1))"
   ]
  },
  {
   "cell_type": "markdown",
   "metadata": {},
   "source": [
    "### 描述长度"
   ]
  },
  {
   "cell_type": "code",
   "execution_count": 99,
   "metadata": {},
   "outputs": [],
   "source": [
    "describe_W_length = quest_df['describe_W'].apply(lambda x: x.count(',') + 1 if x != '-1' else 0)"
   ]
  },
  {
   "cell_type": "code",
   "execution_count": 100,
   "metadata": {},
   "outputs": [],
   "source": [
    "quest_df['has_describe'] = (describe_W_length > 0).astype(int)"
   ]
  },
  {
   "cell_type": "code",
   "execution_count": 101,
   "metadata": {},
   "outputs": [
    {
     "data": {
      "text/html": [
       "<div>\n",
       "<style scoped>\n",
       "    .dataframe tbody tr th:only-of-type {\n",
       "        vertical-align: middle;\n",
       "    }\n",
       "\n",
       "    .dataframe tbody tr th {\n",
       "        vertical-align: top;\n",
       "    }\n",
       "\n",
       "    .dataframe thead th {\n",
       "        text-align: right;\n",
       "    }\n",
       "</style>\n",
       "<table border=\"1\" class=\"dataframe\">\n",
       "  <thead>\n",
       "    <tr style=\"text-align: right;\">\n",
       "      <th></th>\n",
       "      <th>describe_W</th>\n",
       "      <th>has_describe</th>\n",
       "    </tr>\n",
       "    <tr>\n",
       "      <th>question_id</th>\n",
       "      <th></th>\n",
       "      <th></th>\n",
       "    </tr>\n",
       "  </thead>\n",
       "  <tbody>\n",
       "    <tr>\n",
       "      <th>Q2234111670</th>\n",
       "      <td>-1</td>\n",
       "      <td>0</td>\n",
       "    </tr>\n",
       "    <tr>\n",
       "      <th>Q760329790</th>\n",
       "      <td>W1296,W2118,W12677,W16829,W15201,W6419,W101839...</td>\n",
       "      <td>1</td>\n",
       "    </tr>\n",
       "    <tr>\n",
       "      <th>Q741313548</th>\n",
       "      <td>W732,W24400,W48321,W39608,W20788,W219486,W1183...</td>\n",
       "      <td>1</td>\n",
       "    </tr>\n",
       "    <tr>\n",
       "      <th>Q3481466230</th>\n",
       "      <td>W6642,W4214,W3312,W1505,W2205,W232,W294,W7177,...</td>\n",
       "      <td>1</td>\n",
       "    </tr>\n",
       "    <tr>\n",
       "      <th>Q3966197028</th>\n",
       "      <td>-1</td>\n",
       "      <td>0</td>\n",
       "    </tr>\n",
       "  </tbody>\n",
       "</table>\n",
       "</div>"
      ],
      "text/plain": [
       "                                                    describe_W  has_describe\n",
       "question_id                                                                 \n",
       "Q2234111670                                                 -1             0\n",
       "Q760329790   W1296,W2118,W12677,W16829,W15201,W6419,W101839...             1\n",
       "Q741313548   W732,W24400,W48321,W39608,W20788,W219486,W1183...             1\n",
       "Q3481466230  W6642,W4214,W3312,W1505,W2205,W232,W294,W7177,...             1\n",
       "Q3966197028                                                 -1             0"
      ]
     },
     "execution_count": 101,
     "metadata": {},
     "output_type": "execute_result"
    }
   ],
   "source": [
    "quest_df[['describe_W', 'has_describe']].head()"
   ]
  },
  {
   "cell_type": "code",
   "execution_count": 102,
   "metadata": {},
   "outputs": [
    {
     "data": {
      "text/plain": [
       "count    1.829900e+06\n",
       "mean     1.507478e+01\n",
       "std      3.745192e+01\n",
       "min      0.000000e+00\n",
       "25%      0.000000e+00\n",
       "50%      0.000000e+00\n",
       "75%      1.600000e+01\n",
       "max      1.034000e+03\n",
       "Name: describe_W, dtype: float64"
      ]
     },
     "execution_count": 102,
     "metadata": {},
     "output_type": "execute_result"
    }
   ],
   "source": [
    "describe_W_length.describe()"
   ]
  },
  {
   "cell_type": "markdown",
   "metadata": {},
   "source": [
    "#### 缩放"
   ]
  },
  {
   "cell_type": "code",
   "execution_count": 103,
   "metadata": {},
   "outputs": [
    {
     "name": "stderr",
     "output_type": "stream",
     "text": [
      "/home/sc3/miniconda2/envs/ydzhang/lib/python3.6/site-packages/sklearn/utils/validation.py:595: DataConversionWarning: Data with input dtype int64 was converted to float64 by MinMaxScaler.\n",
      "  warnings.warn(msg, DataConversionWarning)\n"
     ]
    }
   ],
   "source": [
    "quest_df['describe_W_length'] = MinMaxScaler((0, 5)).fit_transform(describe_W_length.values.reshape(-1, 1))"
   ]
  },
  {
   "cell_type": "markdown",
   "metadata": {},
   "source": [
    "#### 添加topic_maxpool topics meanpool 索引列"
   ]
  },
  {
   "cell_type": "markdown",
   "metadata": {},
   "source": [
    "#### question 属性 总结"
   ]
  },
  {
   "cell_type": "code",
   "execution_count": 92,
   "metadata": {},
   "outputs": [
    {
     "data": {
      "text/html": [
       "<div>\n",
       "<style scoped>\n",
       "    .dataframe tbody tr th:only-of-type {\n",
       "        vertical-align: middle;\n",
       "    }\n",
       "\n",
       "    .dataframe tbody tr th {\n",
       "        vertical-align: top;\n",
       "    }\n",
       "\n",
       "    .dataframe thead th {\n",
       "        text-align: right;\n",
       "    }\n",
       "</style>\n",
       "<table border=\"1\" class=\"dataframe\">\n",
       "  <thead>\n",
       "    <tr style=\"text-align: right;\">\n",
       "      <th></th>\n",
       "      <th>create_time</th>\n",
       "      <th>title_SW</th>\n",
       "      <th>title_W</th>\n",
       "      <th>describe_SW</th>\n",
       "      <th>describe_W</th>\n",
       "      <th>question_topics</th>\n",
       "      <th>create_day</th>\n",
       "      <th>create_hour</th>\n",
       "      <th>question_topics_length</th>\n",
       "      <th>question_index</th>\n",
       "      <th>title_W_length</th>\n",
       "      <th>has_describe</th>\n",
       "      <th>describe_W_length</th>\n",
       "      <th>invite_count</th>\n",
       "      <th>invite_count_scaled</th>\n",
       "      <th>question_topics_mp</th>\n",
       "    </tr>\n",
       "    <tr>\n",
       "      <th>question_id</th>\n",
       "      <th></th>\n",
       "      <th></th>\n",
       "      <th></th>\n",
       "      <th></th>\n",
       "      <th></th>\n",
       "      <th></th>\n",
       "      <th></th>\n",
       "      <th></th>\n",
       "      <th></th>\n",
       "      <th></th>\n",
       "      <th></th>\n",
       "      <th></th>\n",
       "      <th></th>\n",
       "      <th></th>\n",
       "      <th></th>\n",
       "      <th></th>\n",
       "    </tr>\n",
       "  </thead>\n",
       "  <tbody>\n",
       "    <tr>\n",
       "      <th>Q2234111670</th>\n",
       "      <td>D1018-H5</td>\n",
       "      <td>SW211,SW204,SW1715,SW69,SW2033,SW138,SW57,SW13...</td>\n",
       "      <td>W22414,W963,W10458</td>\n",
       "      <td>-1</td>\n",
       "      <td>-1</td>\n",
       "      <td>T321,T730,T5784,T4389</td>\n",
       "      <td>1018</td>\n",
       "      <td>5</td>\n",
       "      <td>4</td>\n",
       "      <td>0</td>\n",
       "      <td>0.108108</td>\n",
       "      <td>0</td>\n",
       "      <td>0.000000</td>\n",
       "      <td>15.0</td>\n",
       "      <td>0.002680</td>\n",
       "      <td>0</td>\n",
       "    </tr>\n",
       "    <tr>\n",
       "      <th>Q760329790</th>\n",
       "      <td>D1745-H20</td>\n",
       "      <td>SW69,SW2033,SW138,SW2616,SW2668,SW36,SW2594,SW...</td>\n",
       "      <td>W12677,W16829,W15201,W6419,W101839</td>\n",
       "      <td>SW146,SW982,SW401,SW297,SW17,SW2616,SW2668,SW3...</td>\n",
       "      <td>W1296,W2118,W12677,W16829,W15201,W6419,W101839...</td>\n",
       "      <td>T278,T12673,T4677</td>\n",
       "      <td>1745</td>\n",
       "      <td>20</td>\n",
       "      <td>3</td>\n",
       "      <td>1</td>\n",
       "      <td>0.216216</td>\n",
       "      <td>1</td>\n",
       "      <td>0.062863</td>\n",
       "      <td>0.0</td>\n",
       "      <td>0.000000</td>\n",
       "      <td>1</td>\n",
       "    </tr>\n",
       "    <tr>\n",
       "      <th>Q741313548</th>\n",
       "      <td>D2032-H21</td>\n",
       "      <td>SW153,SW662,SW1218,SW853,SW325,SW1056,SW467,SW...</td>\n",
       "      <td>W700,W2781,W3280,W81215</td>\n",
       "      <td>SW1956,SW3583,SW153,SW34,SW35,SW1016,SW586,SW5...</td>\n",
       "      <td>W732,W24400,W48321,W39608,W20788,W219486,W1183...</td>\n",
       "      <td>T226</td>\n",
       "      <td>2032</td>\n",
       "      <td>21</td>\n",
       "      <td>1</td>\n",
       "      <td>2</td>\n",
       "      <td>0.162162</td>\n",
       "      <td>1</td>\n",
       "      <td>0.048356</td>\n",
       "      <td>0.0</td>\n",
       "      <td>0.000000</td>\n",
       "      <td>2</td>\n",
       "    </tr>\n",
       "    <tr>\n",
       "      <th>Q3481466230</th>\n",
       "      <td>D2185-H15</td>\n",
       "      <td>SW22,SW179,SW57,SW451,SW594,SW118,SW882,SW655,...</td>\n",
       "      <td>W3312,W1823,W1505,W638,W166,W461</td>\n",
       "      <td>SW323,SW37,SW1,SW606,SW1227,SW29,SW22,SW179,SW...</td>\n",
       "      <td>W6642,W4214,W3312,W1505,W2205,W232,W294,W7177,...</td>\n",
       "      <td>T51,T4468</td>\n",
       "      <td>2185</td>\n",
       "      <td>15</td>\n",
       "      <td>2</td>\n",
       "      <td>3</td>\n",
       "      <td>0.270270</td>\n",
       "      <td>1</td>\n",
       "      <td>0.116054</td>\n",
       "      <td>1.0</td>\n",
       "      <td>0.000179</td>\n",
       "      <td>3</td>\n",
       "    </tr>\n",
       "    <tr>\n",
       "      <th>Q3966197028</th>\n",
       "      <td>D2269-H17</td>\n",
       "      <td>SW1622,SW223,SW1218,SW853,SW390,SW220,SW753,SW...</td>\n",
       "      <td>W700,W895,W2253</td>\n",
       "      <td>-1</td>\n",
       "      <td>-1</td>\n",
       "      <td>T54700,T81,T57,T17670,T43574</td>\n",
       "      <td>2269</td>\n",
       "      <td>17</td>\n",
       "      <td>5</td>\n",
       "      <td>4</td>\n",
       "      <td>0.108108</td>\n",
       "      <td>0</td>\n",
       "      <td>0.000000</td>\n",
       "      <td>0.0</td>\n",
       "      <td>0.000000</td>\n",
       "      <td>4</td>\n",
       "    </tr>\n",
       "  </tbody>\n",
       "</table>\n",
       "</div>"
      ],
      "text/plain": [
       "            create_time                                           title_SW  \\\n",
       "question_id                                                                  \n",
       "Q2234111670    D1018-H5  SW211,SW204,SW1715,SW69,SW2033,SW138,SW57,SW13...   \n",
       "Q760329790    D1745-H20  SW69,SW2033,SW138,SW2616,SW2668,SW36,SW2594,SW...   \n",
       "Q741313548    D2032-H21  SW153,SW662,SW1218,SW853,SW325,SW1056,SW467,SW...   \n",
       "Q3481466230   D2185-H15  SW22,SW179,SW57,SW451,SW594,SW118,SW882,SW655,...   \n",
       "Q3966197028   D2269-H17  SW1622,SW223,SW1218,SW853,SW390,SW220,SW753,SW...   \n",
       "\n",
       "                                        title_W  \\\n",
       "question_id                                       \n",
       "Q2234111670                  W22414,W963,W10458   \n",
       "Q760329790   W12677,W16829,W15201,W6419,W101839   \n",
       "Q741313548              W700,W2781,W3280,W81215   \n",
       "Q3481466230    W3312,W1823,W1505,W638,W166,W461   \n",
       "Q3966197028                     W700,W895,W2253   \n",
       "\n",
       "                                                   describe_SW  \\\n",
       "question_id                                                      \n",
       "Q2234111670                                                 -1   \n",
       "Q760329790   SW146,SW982,SW401,SW297,SW17,SW2616,SW2668,SW3...   \n",
       "Q741313548   SW1956,SW3583,SW153,SW34,SW35,SW1016,SW586,SW5...   \n",
       "Q3481466230  SW323,SW37,SW1,SW606,SW1227,SW29,SW22,SW179,SW...   \n",
       "Q3966197028                                                 -1   \n",
       "\n",
       "                                                    describe_W  \\\n",
       "question_id                                                      \n",
       "Q2234111670                                                 -1   \n",
       "Q760329790   W1296,W2118,W12677,W16829,W15201,W6419,W101839...   \n",
       "Q741313548   W732,W24400,W48321,W39608,W20788,W219486,W1183...   \n",
       "Q3481466230  W6642,W4214,W3312,W1505,W2205,W232,W294,W7177,...   \n",
       "Q3966197028                                                 -1   \n",
       "\n",
       "                          question_topics  create_day  create_hour  \\\n",
       "question_id                                                          \n",
       "Q2234111670         T321,T730,T5784,T4389        1018            5   \n",
       "Q760329790              T278,T12673,T4677        1745           20   \n",
       "Q741313548                           T226        2032           21   \n",
       "Q3481466230                     T51,T4468        2185           15   \n",
       "Q3966197028  T54700,T81,T57,T17670,T43574        2269           17   \n",
       "\n",
       "             question_topics_length  question_index  title_W_length  \\\n",
       "question_id                                                           \n",
       "Q2234111670                       4               0        0.108108   \n",
       "Q760329790                        3               1        0.216216   \n",
       "Q741313548                        1               2        0.162162   \n",
       "Q3481466230                       2               3        0.270270   \n",
       "Q3966197028                       5               4        0.108108   \n",
       "\n",
       "             has_describe  describe_W_length  invite_count  \\\n",
       "question_id                                                  \n",
       "Q2234111670             0           0.000000          15.0   \n",
       "Q760329790              1           0.062863           0.0   \n",
       "Q741313548              1           0.048356           0.0   \n",
       "Q3481466230             1           0.116054           1.0   \n",
       "Q3966197028             0           0.000000           0.0   \n",
       "\n",
       "             invite_count_scaled  question_topics_mp  \n",
       "question_id                                           \n",
       "Q2234111670             0.002680                   0  \n",
       "Q760329790              0.000000                   1  \n",
       "Q741313548              0.000000                   2  \n",
       "Q3481466230             0.000179                   3  \n",
       "Q3966197028             0.000000                   4  "
      ]
     },
     "execution_count": 92,
     "metadata": {},
     "output_type": "execute_result"
    }
   ],
   "source": [
    "quest_df.head()"
   ]
  },
  {
   "cell_type": "markdown",
   "metadata": {},
   "source": [
    "#### 输出 question dataframe"
   ]
  },
  {
   "cell_type": "code",
   "execution_count": 66,
   "metadata": {
    "scrolled": true
   },
   "outputs": [],
   "source": [
    "quest_df.to_csv(os.path.join(dataDir, 'question_info_1111.csv'),\n",
    "#                columns = ['question_id', 'title_SW', 'title_W', 'question_topics_mp', 'create_day']\n",
    "                sep= '\\t'\n",
    "               )"
   ]
  },
  {
   "cell_type": "markdown",
   "metadata": {},
   "source": [
    "### answer topics 处理："
   ]
  },
  {
   "cell_type": "code",
   "execution_count": 107,
   "metadata": {},
   "outputs": [],
   "source": [
    "answer_df['question_topics_mp'] = quest_df.loc[answer_df['question_id'], 'question_topics_mp'].values"
   ]
  },
  {
   "cell_type": "code",
   "execution_count": 108,
   "metadata": {},
   "outputs": [
    {
     "data": {
      "text/html": [
       "<div>\n",
       "<style scoped>\n",
       "    .dataframe tbody tr th:only-of-type {\n",
       "        vertical-align: middle;\n",
       "    }\n",
       "\n",
       "    .dataframe tbody tr th {\n",
       "        vertical-align: top;\n",
       "    }\n",
       "\n",
       "    .dataframe thead th {\n",
       "        text-align: right;\n",
       "    }\n",
       "</style>\n",
       "<table border=\"1\" class=\"dataframe\">\n",
       "  <thead>\n",
       "    <tr style=\"text-align: right;\">\n",
       "      <th></th>\n",
       "      <th>question_id</th>\n",
       "      <th>user_id</th>\n",
       "      <th>create_day</th>\n",
       "      <th>create_hour</th>\n",
       "      <th>answer_SW</th>\n",
       "      <th>answer_W</th>\n",
       "      <th>is_good</th>\n",
       "      <th>has_picture</th>\n",
       "      <th>has_video</th>\n",
       "      <th>word_count</th>\n",
       "      <th>num_zan</th>\n",
       "      <th>num_cancel_zan</th>\n",
       "      <th>num_comment</th>\n",
       "      <th>num_collect</th>\n",
       "      <th>num_thanks</th>\n",
       "      <th>num_report</th>\n",
       "      <th>num_useless</th>\n",
       "      <th>num_oppose</th>\n",
       "      <th>answer_index</th>\n",
       "      <th>question_topics_mp</th>\n",
       "    </tr>\n",
       "    <tr>\n",
       "      <th>answer_id</th>\n",
       "      <th></th>\n",
       "      <th></th>\n",
       "      <th></th>\n",
       "      <th></th>\n",
       "      <th></th>\n",
       "      <th></th>\n",
       "      <th></th>\n",
       "      <th></th>\n",
       "      <th></th>\n",
       "      <th></th>\n",
       "      <th></th>\n",
       "      <th></th>\n",
       "      <th></th>\n",
       "      <th></th>\n",
       "      <th></th>\n",
       "      <th></th>\n",
       "      <th></th>\n",
       "      <th></th>\n",
       "      <th></th>\n",
       "      <th></th>\n",
       "    </tr>\n",
       "  </thead>\n",
       "  <tbody>\n",
       "    <tr>\n",
       "      <th>A2502060945</th>\n",
       "      <td>Q1867533817</td>\n",
       "      <td>M625498202</td>\n",
       "      <td>3808</td>\n",
       "      <td>7</td>\n",
       "      <td>SW13,SW19,SW44,SW150,SW23,SW594,SW1254,SW91,SW...</td>\n",
       "      <td>W239,W10528,W142,W20372,W6473,W10,W24,W4527,W2...</td>\n",
       "      <td>0</td>\n",
       "      <td>0</td>\n",
       "      <td>0</td>\n",
       "      <td>41</td>\n",
       "      <td>1</td>\n",
       "      <td>0</td>\n",
       "      <td>1</td>\n",
       "      <td>0</td>\n",
       "      <td>1</td>\n",
       "      <td>0</td>\n",
       "      <td>0</td>\n",
       "      <td>0</td>\n",
       "      <td>0</td>\n",
       "      <td>350889</td>\n",
       "    </tr>\n",
       "    <tr>\n",
       "      <th>A2847829478</th>\n",
       "      <td>Q3366788616</td>\n",
       "      <td>M142330444</td>\n",
       "      <td>3810</td>\n",
       "      <td>17</td>\n",
       "      <td>SW898,SW3656,SW2,SW413,SW601,SW2,SW2541,SW681,...</td>\n",
       "      <td>W4628,W66060,W1607,W2647,W53385,W109029,W319,W...</td>\n",
       "      <td>0</td>\n",
       "      <td>0</td>\n",
       "      <td>0</td>\n",
       "      <td>204</td>\n",
       "      <td>1</td>\n",
       "      <td>0</td>\n",
       "      <td>0</td>\n",
       "      <td>3</td>\n",
       "      <td>1</td>\n",
       "      <td>0</td>\n",
       "      <td>0</td>\n",
       "      <td>0</td>\n",
       "      <td>1</td>\n",
       "      <td>1691739</td>\n",
       "    </tr>\n",
       "    <tr>\n",
       "      <th>A2005999231</th>\n",
       "      <td>Q4264694221</td>\n",
       "      <td>M771499642</td>\n",
       "      <td>3853</td>\n",
       "      <td>13</td>\n",
       "      <td>SW9,SW510,SW573,SW1348,SW1304,SW326,SW509,SW22...</td>\n",
       "      <td>W3532,W69108,W12395,W81311,W498,W850,W107789,W...</td>\n",
       "      <td>0</td>\n",
       "      <td>0</td>\n",
       "      <td>0</td>\n",
       "      <td>54</td>\n",
       "      <td>2</td>\n",
       "      <td>0</td>\n",
       "      <td>1</td>\n",
       "      <td>0</td>\n",
       "      <td>0</td>\n",
       "      <td>0</td>\n",
       "      <td>0</td>\n",
       "      <td>0</td>\n",
       "      <td>2</td>\n",
       "      <td>525674</td>\n",
       "    </tr>\n",
       "    <tr>\n",
       "      <th>A14821523</th>\n",
       "      <td>Q1088851650</td>\n",
       "      <td>M2282072267</td>\n",
       "      <td>3859</td>\n",
       "      <td>18</td>\n",
       "      <td>SW7,SW16,SW5,SW144,SW302,SW20,SW1752,SW60,SW75...</td>\n",
       "      <td>W1425,W1676,W3700,W325,W6485,W1090,W8342,W9689...</td>\n",
       "      <td>0</td>\n",
       "      <td>0</td>\n",
       "      <td>0</td>\n",
       "      <td>42</td>\n",
       "      <td>1</td>\n",
       "      <td>0</td>\n",
       "      <td>1</td>\n",
       "      <td>0</td>\n",
       "      <td>1</td>\n",
       "      <td>0</td>\n",
       "      <td>0</td>\n",
       "      <td>0</td>\n",
       "      <td>3</td>\n",
       "      <td>304256</td>\n",
       "    </tr>\n",
       "    <tr>\n",
       "      <th>A731550034</th>\n",
       "      <td>Q1023877868</td>\n",
       "      <td>M2282072267</td>\n",
       "      <td>3855</td>\n",
       "      <td>22</td>\n",
       "      <td>SW7,SW15,SW596,SW407,SW1698,SW68,SW2,SW56,SW59...</td>\n",
       "      <td>W23420,W2610,W5506,W1489,W8749,W504,W1718,W252...</td>\n",
       "      <td>0</td>\n",
       "      <td>0</td>\n",
       "      <td>0</td>\n",
       "      <td>44</td>\n",
       "      <td>0</td>\n",
       "      <td>0</td>\n",
       "      <td>0</td>\n",
       "      <td>0</td>\n",
       "      <td>0</td>\n",
       "      <td>0</td>\n",
       "      <td>0</td>\n",
       "      <td>0</td>\n",
       "      <td>4</td>\n",
       "      <td>1725733</td>\n",
       "    </tr>\n",
       "  </tbody>\n",
       "</table>\n",
       "</div>"
      ],
      "text/plain": [
       "             question_id      user_id  create_day  create_hour  \\\n",
       "answer_id                                                        \n",
       "A2502060945  Q1867533817   M625498202        3808            7   \n",
       "A2847829478  Q3366788616   M142330444        3810           17   \n",
       "A2005999231  Q4264694221   M771499642        3853           13   \n",
       "A14821523    Q1088851650  M2282072267        3859           18   \n",
       "A731550034   Q1023877868  M2282072267        3855           22   \n",
       "\n",
       "                                                     answer_SW  \\\n",
       "answer_id                                                        \n",
       "A2502060945  SW13,SW19,SW44,SW150,SW23,SW594,SW1254,SW91,SW...   \n",
       "A2847829478  SW898,SW3656,SW2,SW413,SW601,SW2,SW2541,SW681,...   \n",
       "A2005999231  SW9,SW510,SW573,SW1348,SW1304,SW326,SW509,SW22...   \n",
       "A14821523    SW7,SW16,SW5,SW144,SW302,SW20,SW1752,SW60,SW75...   \n",
       "A731550034   SW7,SW15,SW596,SW407,SW1698,SW68,SW2,SW56,SW59...   \n",
       "\n",
       "                                                      answer_W  is_good  \\\n",
       "answer_id                                                                 \n",
       "A2502060945  W239,W10528,W142,W20372,W6473,W10,W24,W4527,W2...        0   \n",
       "A2847829478  W4628,W66060,W1607,W2647,W53385,W109029,W319,W...        0   \n",
       "A2005999231  W3532,W69108,W12395,W81311,W498,W850,W107789,W...        0   \n",
       "A14821523    W1425,W1676,W3700,W325,W6485,W1090,W8342,W9689...        0   \n",
       "A731550034   W23420,W2610,W5506,W1489,W8749,W504,W1718,W252...        0   \n",
       "\n",
       "             has_picture  has_video  word_count  num_zan  num_cancel_zan  \\\n",
       "answer_id                                                                  \n",
       "A2502060945            0          0          41        1               0   \n",
       "A2847829478            0          0         204        1               0   \n",
       "A2005999231            0          0          54        2               0   \n",
       "A14821523              0          0          42        1               0   \n",
       "A731550034             0          0          44        0               0   \n",
       "\n",
       "             num_comment  num_collect  num_thanks  num_report  num_useless  \\\n",
       "answer_id                                                                    \n",
       "A2502060945            1            0           1           0            0   \n",
       "A2847829478            0            3           1           0            0   \n",
       "A2005999231            1            0           0           0            0   \n",
       "A14821523              1            0           1           0            0   \n",
       "A731550034             0            0           0           0            0   \n",
       "\n",
       "             num_oppose  answer_index  question_topics_mp  \n",
       "answer_id                                                  \n",
       "A2502060945           0             0              350889  \n",
       "A2847829478           0             1             1691739  \n",
       "A2005999231           0             2              525674  \n",
       "A14821523             0             3              304256  \n",
       "A731550034            0             4             1725733  "
      ]
     },
     "execution_count": 108,
     "metadata": {},
     "output_type": "execute_result"
    }
   ],
   "source": [
    "answer_df.head()"
   ]
  },
  {
   "cell_type": "code",
   "execution_count": 110,
   "metadata": {},
   "outputs": [],
   "source": [
    "answer_df.to_csv(os.path.join(dataDir, 'answer_info_1106.csv'), sep= '\\t')"
   ]
  },
  {
   "cell_type": "markdown",
   "metadata": {},
   "source": [
    "#### 修改话题池化index"
   ]
  },
  {
   "cell_type": "code",
   "execution_count": 75,
   "metadata": {},
   "outputs": [],
   "source": [
    "quest_df = pd.read_csv(os.path.join(dataDir, 'question_info_1111.csv'),\n",
    "#                        usecols = ['question_id', 'title_SW', 'title_W', 'question_topics', 'create_day'],\n",
    "                                    index_col= 'question_id',\n",
    "#                        index_col= 0\n",
    "                       sep= '\\t'\n",
    "                      )"
   ]
  },
  {
   "cell_type": "code",
   "execution_count": 93,
   "metadata": {},
   "outputs": [
    {
     "data": {
      "text/html": [
       "<div>\n",
       "<style scoped>\n",
       "    .dataframe tbody tr th:only-of-type {\n",
       "        vertical-align: middle;\n",
       "    }\n",
       "\n",
       "    .dataframe tbody tr th {\n",
       "        vertical-align: top;\n",
       "    }\n",
       "\n",
       "    .dataframe thead th {\n",
       "        text-align: right;\n",
       "    }\n",
       "</style>\n",
       "<table border=\"1\" class=\"dataframe\">\n",
       "  <thead>\n",
       "    <tr style=\"text-align: right;\">\n",
       "      <th></th>\n",
       "      <th>create_time</th>\n",
       "      <th>title_SW</th>\n",
       "      <th>title_W</th>\n",
       "      <th>describe_SW</th>\n",
       "      <th>describe_W</th>\n",
       "      <th>question_topics</th>\n",
       "      <th>create_day</th>\n",
       "      <th>create_hour</th>\n",
       "      <th>question_topics_length</th>\n",
       "      <th>question_index</th>\n",
       "      <th>title_W_length</th>\n",
       "      <th>has_describe</th>\n",
       "      <th>describe_W_length</th>\n",
       "      <th>invite_count</th>\n",
       "      <th>invite_count_scaled</th>\n",
       "      <th>question_topics_mp</th>\n",
       "    </tr>\n",
       "    <tr>\n",
       "      <th>question_id</th>\n",
       "      <th></th>\n",
       "      <th></th>\n",
       "      <th></th>\n",
       "      <th></th>\n",
       "      <th></th>\n",
       "      <th></th>\n",
       "      <th></th>\n",
       "      <th></th>\n",
       "      <th></th>\n",
       "      <th></th>\n",
       "      <th></th>\n",
       "      <th></th>\n",
       "      <th></th>\n",
       "      <th></th>\n",
       "      <th></th>\n",
       "      <th></th>\n",
       "    </tr>\n",
       "  </thead>\n",
       "  <tbody>\n",
       "    <tr>\n",
       "      <th>Q2234111670</th>\n",
       "      <td>D1018-H5</td>\n",
       "      <td>SW211,SW204,SW1715,SW69,SW2033,SW138,SW57,SW13...</td>\n",
       "      <td>W22414,W963,W10458</td>\n",
       "      <td>-1</td>\n",
       "      <td>-1</td>\n",
       "      <td>T321,T730,T5784,T4389</td>\n",
       "      <td>1018</td>\n",
       "      <td>5</td>\n",
       "      <td>4</td>\n",
       "      <td>0</td>\n",
       "      <td>0.108108</td>\n",
       "      <td>0</td>\n",
       "      <td>0.000000</td>\n",
       "      <td>15.0</td>\n",
       "      <td>0.002680</td>\n",
       "      <td>0</td>\n",
       "    </tr>\n",
       "    <tr>\n",
       "      <th>Q760329790</th>\n",
       "      <td>D1745-H20</td>\n",
       "      <td>SW69,SW2033,SW138,SW2616,SW2668,SW36,SW2594,SW...</td>\n",
       "      <td>W12677,W16829,W15201,W6419,W101839</td>\n",
       "      <td>SW146,SW982,SW401,SW297,SW17,SW2616,SW2668,SW3...</td>\n",
       "      <td>W1296,W2118,W12677,W16829,W15201,W6419,W101839...</td>\n",
       "      <td>T278,T12673,T4677</td>\n",
       "      <td>1745</td>\n",
       "      <td>20</td>\n",
       "      <td>3</td>\n",
       "      <td>1</td>\n",
       "      <td>0.216216</td>\n",
       "      <td>1</td>\n",
       "      <td>0.062863</td>\n",
       "      <td>0.0</td>\n",
       "      <td>0.000000</td>\n",
       "      <td>1</td>\n",
       "    </tr>\n",
       "    <tr>\n",
       "      <th>Q741313548</th>\n",
       "      <td>D2032-H21</td>\n",
       "      <td>SW153,SW662,SW1218,SW853,SW325,SW1056,SW467,SW...</td>\n",
       "      <td>W700,W2781,W3280,W81215</td>\n",
       "      <td>SW1956,SW3583,SW153,SW34,SW35,SW1016,SW586,SW5...</td>\n",
       "      <td>W732,W24400,W48321,W39608,W20788,W219486,W1183...</td>\n",
       "      <td>T226</td>\n",
       "      <td>2032</td>\n",
       "      <td>21</td>\n",
       "      <td>1</td>\n",
       "      <td>2</td>\n",
       "      <td>0.162162</td>\n",
       "      <td>1</td>\n",
       "      <td>0.048356</td>\n",
       "      <td>0.0</td>\n",
       "      <td>0.000000</td>\n",
       "      <td>2</td>\n",
       "    </tr>\n",
       "    <tr>\n",
       "      <th>Q3481466230</th>\n",
       "      <td>D2185-H15</td>\n",
       "      <td>SW22,SW179,SW57,SW451,SW594,SW118,SW882,SW655,...</td>\n",
       "      <td>W3312,W1823,W1505,W638,W166,W461</td>\n",
       "      <td>SW323,SW37,SW1,SW606,SW1227,SW29,SW22,SW179,SW...</td>\n",
       "      <td>W6642,W4214,W3312,W1505,W2205,W232,W294,W7177,...</td>\n",
       "      <td>T51,T4468</td>\n",
       "      <td>2185</td>\n",
       "      <td>15</td>\n",
       "      <td>2</td>\n",
       "      <td>3</td>\n",
       "      <td>0.270270</td>\n",
       "      <td>1</td>\n",
       "      <td>0.116054</td>\n",
       "      <td>1.0</td>\n",
       "      <td>0.000179</td>\n",
       "      <td>3</td>\n",
       "    </tr>\n",
       "    <tr>\n",
       "      <th>Q3966197028</th>\n",
       "      <td>D2269-H17</td>\n",
       "      <td>SW1622,SW223,SW1218,SW853,SW390,SW220,SW753,SW...</td>\n",
       "      <td>W700,W895,W2253</td>\n",
       "      <td>-1</td>\n",
       "      <td>-1</td>\n",
       "      <td>T54700,T81,T57,T17670,T43574</td>\n",
       "      <td>2269</td>\n",
       "      <td>17</td>\n",
       "      <td>5</td>\n",
       "      <td>4</td>\n",
       "      <td>0.108108</td>\n",
       "      <td>0</td>\n",
       "      <td>0.000000</td>\n",
       "      <td>0.0</td>\n",
       "      <td>0.000000</td>\n",
       "      <td>4</td>\n",
       "    </tr>\n",
       "  </tbody>\n",
       "</table>\n",
       "</div>"
      ],
      "text/plain": [
       "            create_time                                           title_SW  \\\n",
       "question_id                                                                  \n",
       "Q2234111670    D1018-H5  SW211,SW204,SW1715,SW69,SW2033,SW138,SW57,SW13...   \n",
       "Q760329790    D1745-H20  SW69,SW2033,SW138,SW2616,SW2668,SW36,SW2594,SW...   \n",
       "Q741313548    D2032-H21  SW153,SW662,SW1218,SW853,SW325,SW1056,SW467,SW...   \n",
       "Q3481466230   D2185-H15  SW22,SW179,SW57,SW451,SW594,SW118,SW882,SW655,...   \n",
       "Q3966197028   D2269-H17  SW1622,SW223,SW1218,SW853,SW390,SW220,SW753,SW...   \n",
       "\n",
       "                                        title_W  \\\n",
       "question_id                                       \n",
       "Q2234111670                  W22414,W963,W10458   \n",
       "Q760329790   W12677,W16829,W15201,W6419,W101839   \n",
       "Q741313548              W700,W2781,W3280,W81215   \n",
       "Q3481466230    W3312,W1823,W1505,W638,W166,W461   \n",
       "Q3966197028                     W700,W895,W2253   \n",
       "\n",
       "                                                   describe_SW  \\\n",
       "question_id                                                      \n",
       "Q2234111670                                                 -1   \n",
       "Q760329790   SW146,SW982,SW401,SW297,SW17,SW2616,SW2668,SW3...   \n",
       "Q741313548   SW1956,SW3583,SW153,SW34,SW35,SW1016,SW586,SW5...   \n",
       "Q3481466230  SW323,SW37,SW1,SW606,SW1227,SW29,SW22,SW179,SW...   \n",
       "Q3966197028                                                 -1   \n",
       "\n",
       "                                                    describe_W  \\\n",
       "question_id                                                      \n",
       "Q2234111670                                                 -1   \n",
       "Q760329790   W1296,W2118,W12677,W16829,W15201,W6419,W101839...   \n",
       "Q741313548   W732,W24400,W48321,W39608,W20788,W219486,W1183...   \n",
       "Q3481466230  W6642,W4214,W3312,W1505,W2205,W232,W294,W7177,...   \n",
       "Q3966197028                                                 -1   \n",
       "\n",
       "                          question_topics  create_day  create_hour  \\\n",
       "question_id                                                          \n",
       "Q2234111670         T321,T730,T5784,T4389        1018            5   \n",
       "Q760329790              T278,T12673,T4677        1745           20   \n",
       "Q741313548                           T226        2032           21   \n",
       "Q3481466230                     T51,T4468        2185           15   \n",
       "Q3966197028  T54700,T81,T57,T17670,T43574        2269           17   \n",
       "\n",
       "             question_topics_length  question_index  title_W_length  \\\n",
       "question_id                                                           \n",
       "Q2234111670                       4               0        0.108108   \n",
       "Q760329790                        3               1        0.216216   \n",
       "Q741313548                        1               2        0.162162   \n",
       "Q3481466230                       2               3        0.270270   \n",
       "Q3966197028                       5               4        0.108108   \n",
       "\n",
       "             has_describe  describe_W_length  invite_count  \\\n",
       "question_id                                                  \n",
       "Q2234111670             0           0.000000          15.0   \n",
       "Q760329790              1           0.062863           0.0   \n",
       "Q741313548              1           0.048356           0.0   \n",
       "Q3481466230             1           0.116054           1.0   \n",
       "Q3966197028             0           0.000000           0.0   \n",
       "\n",
       "             invite_count_scaled  question_topics_mp  \n",
       "question_id                                           \n",
       "Q2234111670             0.002680                   0  \n",
       "Q760329790              0.000000                   1  \n",
       "Q741313548              0.000000                   2  \n",
       "Q3481466230             0.000179                   3  \n",
       "Q3966197028             0.000000                   4  "
      ]
     },
     "execution_count": 93,
     "metadata": {},
     "output_type": "execute_result"
    }
   ],
   "source": [
    "quest_df.head()"
   ]
  },
  {
   "cell_type": "code",
   "execution_count": 77,
   "metadata": {},
   "outputs": [],
   "source": [
    "quest_df.drop(columns = ['question_topics_maxpool', 'question_topics_meanpool'], inplace= True)"
   ]
  },
  {
   "cell_type": "code",
   "execution_count": 78,
   "metadata": {},
   "outputs": [],
   "source": [
    "quest_df['question_topics_mp'] = np.arange(len(quest_df))"
   ]
  },
  {
   "cell_type": "code",
   "execution_count": 80,
   "metadata": {
    "scrolled": true
   },
   "outputs": [
    {
     "data": {
      "text/plain": [
       "True"
      ]
     },
     "execution_count": 80,
     "metadata": {},
     "output_type": "execute_result"
    }
   ],
   "source": [
    "np.all(quest_df['question_index'] == quest_df['question_topics_mp'])"
   ]
  },
  {
   "cell_type": "code",
   "execution_count": 94,
   "metadata": {},
   "outputs": [],
   "source": [
    "quest_df.to_csv(os.path.join(dataDir, 'question_info_1111.csv'),\n",
    "#                columns = ['question_id', 'title_SW', 'title_W', 'question_topics_mp', 'create_day']\n",
    "                sep= '\\t'\n",
    "               )"
   ]
  },
  {
   "cell_type": "markdown",
   "metadata": {},
   "source": [
    "#### 最小池化话题嵌入"
   ]
  },
  {
   "cell_type": "code",
   "execution_count": 81,
   "metadata": {},
   "outputs": [],
   "source": [
    "topics_mean = np.mean(topic_vec, axis= 0)"
   ]
  },
  {
   "cell_type": "code",
   "execution_count": 82,
   "metadata": {},
   "outputs": [
    {
     "data": {
      "text/plain": [
       "(64,)"
      ]
     },
     "execution_count": 82,
     "metadata": {},
     "output_type": "execute_result"
    }
   ],
   "source": [
    "topics_mean.shape"
   ]
  },
  {
   "cell_type": "code",
   "execution_count": 83,
   "metadata": {},
   "outputs": [],
   "source": [
    "def minpool_quest_topics(s):\n",
    "    try:\n",
    "        if s != '-1':\n",
    "            id_list = s.split(',')\n",
    "            ind_list = topic_idmap[id_list].tolist()\n",
    "            topic_array = topic_vec[ind_list]\n",
    "            topic_mp = np.min(topic_array, axis= 0)\n",
    "        else:\n",
    "            topic_mp = topics_mean\n",
    "    except:\n",
    "        print(ind_list)\n",
    "    return topic_mp"
   ]
  },
  {
   "cell_type": "code",
   "execution_count": 84,
   "metadata": {},
   "outputs": [],
   "source": [
    "quest_topics_minpool = quest_df['question_topics'].map(minpool_quest_topics)"
   ]
  },
  {
   "cell_type": "code",
   "execution_count": 85,
   "metadata": {},
   "outputs": [
    {
     "data": {
      "text/plain": [
       "question_id\n",
       "Q2234111670    [-4.504862, 1.9874872, -2.0136561, -3.2888541,...\n",
       "Q760329790     [-4.0197744, -7.449603, -6.7452507, -2.753407,...\n",
       "Q741313548     [1.1679975, -0.9902606, 2.8614578, 2.517082, -...\n",
       "Q3481466230    [-2.0267296, -1.8910531, 0.78674245, 2.4407268...\n",
       "Q3966197028    [-2.8291023, -2.5419934, -6.9592156, -1.159492...\n",
       "Name: question_topics, dtype: object"
      ]
     },
     "execution_count": 85,
     "metadata": {},
     "output_type": "execute_result"
    }
   ],
   "source": [
    "quest_topics_minpool.head()"
   ]
  },
  {
   "cell_type": "markdown",
   "metadata": {},
   "source": [
    "#### 保存最小池化 topic vector"
   ]
  },
  {
   "cell_type": "code",
   "execution_count": 86,
   "metadata": {},
   "outputs": [],
   "source": [
    "quest_topics_minpool_array = np.array(quest_topics_minpool.tolist())"
   ]
  },
  {
   "cell_type": "code",
   "execution_count": 87,
   "metadata": {},
   "outputs": [],
   "source": [
    "np.save(os.path.join(dataDir, 'question_topics_minpool.npy'), quest_topics_minpool_array)"
   ]
  },
  {
   "cell_type": "code",
   "execution_count": null,
   "metadata": {},
   "outputs": [],
   "source": []
  },
  {
   "cell_type": "markdown",
   "metadata": {},
   "source": [
    "### 合并 最大池化和均值池化"
   ]
  },
  {
   "cell_type": "code",
   "execution_count": 88,
   "metadata": {},
   "outputs": [],
   "source": [
    "quest_topics_maxpool = np.load(os.path.join(dataDir, 'question_topics_maxpool.npy'))\n",
    "quest_topics_meanpool= np.load(os.path.join(dataDir, 'question_topics_meanpool.npy'))\n",
    "quest_topics_minpool = np.load(os.path.join(dataDir, 'question_topics_minpool.npy'))"
   ]
  },
  {
   "cell_type": "code",
   "execution_count": 89,
   "metadata": {},
   "outputs": [],
   "source": [
    "quest_topics_mp = np.concatenate([quest_topics_maxpool, quest_topics_meanpool, quest_topics_minpool], axis= -1)"
   ]
  },
  {
   "cell_type": "code",
   "execution_count": 90,
   "metadata": {},
   "outputs": [
    {
     "data": {
      "text/plain": [
       "(1829900, 192)"
      ]
     },
     "execution_count": 90,
     "metadata": {},
     "output_type": "execute_result"
    }
   ],
   "source": [
    "quest_topics_mp.shape"
   ]
  },
  {
   "cell_type": "code",
   "execution_count": 91,
   "metadata": {},
   "outputs": [],
   "source": [
    "np.save(os.path.join(dataDir, 'question_topics_mp.npy'), quest_topics_mp)"
   ]
  },
  {
   "cell_type": "code",
   "execution_count": null,
   "metadata": {},
   "outputs": [],
   "source": []
  }
 ],
 "metadata": {
  "kernelspec": {
   "display_name": "Python 3",
   "language": "python",
   "name": "python3"
  },
  "language_info": {
   "codemirror_mode": {
    "name": "ipython",
    "version": 3
   },
   "file_extension": ".py",
   "mimetype": "text/x-python",
   "name": "python",
   "nbconvert_exporter": "python",
   "pygments_lexer": "ipython3",
   "version": "3.6.7"
  }
 },
 "nbformat": 4,
 "nbformat_minor": 4
}
