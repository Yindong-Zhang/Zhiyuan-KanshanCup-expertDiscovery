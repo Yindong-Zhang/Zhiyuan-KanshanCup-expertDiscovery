{
 "cells": [
  {
   "cell_type": "code",
   "execution_count": 2,
   "metadata": {},
   "outputs": [],
   "source": [
    "import os\n",
    "import pandas as pd\n",
    "import numpy as np\n",
    "import random\n",
    "from math import ceil\n",
    "from time import time\n",
    "import torch\n",
    "from lightgbm import LGBMClassifier, Dataset"
   ]
  },
  {
   "cell_type": "code",
   "execution_count": 3,
   "metadata": {},
   "outputs": [],
   "source": [
    "import matplotlib.pyplot as plt"
   ]
  },
  {
   "cell_type": "code",
   "execution_count": 4,
   "metadata": {},
   "outputs": [],
   "source": [
    "%matplotlib notebook"
   ]
  },
  {
   "cell_type": "code",
   "execution_count": 7,
   "metadata": {},
   "outputs": [],
   "source": [
    "dataDir= '../data'\n",
    "max_hist_len = 12"
   ]
  },
  {
   "cell_type": "markdown",
   "metadata": {},
   "source": [
    "#### 填充缺失值"
   ]
  },
  {
   "cell_type": "code",
   "execution_count": 29,
   "metadata": {},
   "outputs": [],
   "source": [
    "file_ls = [\n",
    "#     ['invite_info_[3840, 3860]-[3861, 3867]_quest_hist_meanpool_dist',\n",
    "#             'invite_info_test-[3847, 3867]-[3868, 3874]_quest_hist_meanpool_dist'\n",
    "#             ],\n",
    "#            ['invite_info_[3840, 3860]-[3861, 3867]_quest_hist_minpool_dist',\n",
    "#             'invite_info_test-[3847, 3867]-[3868, 3874]_quest_hist_minpool_dist',\n",
    "#            ],\n",
    "#            [ 'invite_info_[3840, 3860]-[3861, 3867]_quest_hist_maxpool_dist',\n",
    "#             'invite_info_test-[3847, 3867]-[3868, 3874]_quest_hist_maxpool_dist',\n",
    "#            ],\n",
    "#            ['invite_info_[3840, 3860]-[3861, 3867]_quest_hist_maxpool_dist_describe',\n",
    "#            'invite_info_test-[3847, 3867]-[3868, 3874]_quest_hist_maxpool_dist_describe',\n",
    "#            ],\n",
    "#            [\n",
    "#                'invite_info_[3840, 3860]-[3861, 3867]_quest_hist_meanpool_dist_describe',\n",
    "#             'invite_info_test-[3847, 3867]-[3868, 3874]_quest_hist_meanpool_dist_describe',\n",
    "#            ],\n",
    "#            [\n",
    "#                 'invite_info_[3840, 3860]-[3861, 3867]_quest_hist_minpool_dist_describe',\n",
    "#                'invite_info_test-[3847, 3867]-[3868, 3874]_quest_hist_minpool_dist_describe',\n",
    "#            ] \n",
    "            [\n",
    "                'invite_info_[3840, 3860]-[3861, 3867]_quest-hist_topics_quest-user_follow_topics_quest-inn_topics_dist',\n",
    "                'invite_info_test-[3847, 3867]-[3868, 3874]_quest-hist_topics_quest-user_follow_topics_quest-inn_topics_dist',\n",
    "            ]\n",
    "          ]"
   ]
  },
  {
   "cell_type": "code",
   "execution_count": 30,
   "metadata": {
    "scrolled": false
   },
   "outputs": [
    {
     "name": "stdout",
     "output_type": "stream",
     "text": [
      "quest_user_follow_topics_euclid_dist_min     0.002076\n",
      "quest_user_follow_topics_euclid_dist_max     0.002076\n",
      "quest_user_follow_topics_euclid_dist_mean    0.002076\n",
      "quest_user_follow_topics_euclid_dist_std     0.002076\n",
      "quest_topics_inn_euclid_dist_max             0.002076\n",
      "quest_topics_inn_euclid_dist_mean            0.002076\n",
      "quest_topics_inn_euclid_dist_std             0.002076\n",
      "quest_hist_topics_euclid_dist_min            0.417815\n",
      "quest_hist_topics_euclid_dist_max            0.417815\n",
      "quest_hist_topics_euclid_dist_std            0.417815\n",
      "quest_hist_topics_euclid_dist_mean           0.417815\n",
      "dtype: float64\n"
     ]
    }
   ],
   "source": [
    "#for file in file_ls:\n",
    "#    df = pd.read_csv(os.path.join(dataDir,'%s.csv' %(file, )), sep= '\\t', index_col = 0, na_values= '-1',\n",
    "#                    nrows= 500\n",
    "#                    )\n",
    "#    print(df.head().index)\n",
    "\n",
    "\n",
    "#for file in file_ls:\n",
    "#    df = pd.read_csv(os.path.join(dataDir,'%s.csv' %(file, )), sep= '\\t', index_col = 0, na_values= '-1',\n",
    "#                     nrows= 500\n",
    "#                    )\n",
    "#    print(df.columns)\n",
    "\n",
    "for train_fileStr, test_fileStr in file_ls:\n",
    "    df = pd.read_csv(os.path.join(dataDir, '%s.csv' %(train_fileStr, )), sep= '\\t', index_col= 0, na_values = '-1')\n",
    "\n",
    "    print(df.isna().sum() / len(df))\n",
    "    df_mean = df.mean()\n",
    "    df_filled= df.fillna(df_mean)\n",
    "\n",
    "    df_filled.to_csv(os.path.join(dataDir, '%s_na_filled_with_mean.csv' %(train_fileStr,)), sep= '\\t')\n",
    "\n",
    "    test_df = pd.read_csv(os.path.join(dataDir, '%s.csv' %(test_fileStr, )), sep= '\\t', index_col= 0, na_values = '-1')\n",
    "    test_df_filled= test_df.fillna(df_mean)\n",
    "\n",
    "    test_df_filled.to_csv(os.path.join(dataDir, '%s_na_filled_with_mean.csv' %(test_fileStr,)), sep= '\\t')"
   ]
  },
  {
   "cell_type": "code",
   "execution_count": 25,
   "metadata": {},
   "outputs": [
    {
     "name": "stdout",
     "output_type": "stream",
     "text": [
      "quest_user_interest_topics_cosine_weight_min_dist              0.157584\n",
      "quest_user_interest_topics_cosine_weight_max_dist              0.157584\n",
      "quest_user_interest_topics_cosine_weight_mean_dist             0.157584\n",
      "quest_user_interest_topics_cosine_min_dist_top3_weight_sum     0.157536\n",
      "quest_user_interest_topics_cosine_min_dist_tail3_weight_sum    0.157536\n",
      "quest_user_interest_topics_cosine_min_dist_top_weight          0.157536\n",
      "quest_user_interest_topics_cosine_min_dist_tail_weight         0.157536\n",
      "dtype: float64\n"
     ]
    }
   ],
   "source": [
    "train_fileStr = 'invite_info_[3840, 3860]-[3861, 3867]_quest_user_interest_topics_cosine_dist_describe'\n",
    "test_fileStr= 'invite_info_test-[3847, 3867]-[3868, 3874]_quest_user_interest_topics_cosine_dist_describe'\n",
    "\n",
    "df = pd.read_csv(os.path.join(dataDir, '%s.csv' %(train_fileStr, )), sep= '\\t', index_col= 0, na_values = '-1')\n",
    "\n",
    "print(df.isna().sum() / len(df))\n",
    "df_mean = df.mean()\n",
    "df_filled= df.fillna(df_mean)\n",
    "\n",
    "df_filled.to_csv(os.path.join(dataDir, '%s_na_filled_with_mean.csv' %(train_fileStr,)), sep= '\\t')\n",
    "\n",
    "test_df = pd.read_csv(os.path.join(dataDir, '%s.csv' %(test_fileStr, )), sep= '\\t', index_col= 0, na_values = '-1')\n",
    "test_df_filled= test_df.fillna(df_mean)\n",
    "\n",
    "test_df_filled.to_csv(os.path.join(dataDir, '%s_na_filled_with_mean.csv' %(test_fileStr,)), sep= '\\t')"
   ]
  },
  {
   "cell_type": "code",
   "execution_count": 24,
   "metadata": {},
   "outputs": [
    {
     "name": "stdout",
     "output_type": "stream",
     "text": [
      "quest_user_follow_topics_cosine_dist_min          0.133236\n",
      "quest_user_follow_topics_cosine_dist_max          0.133236\n",
      "quest_user_follow_topics_cosine_dist_mean         0.133236\n",
      "quest_user_follow_topics_cosine_dist_std          0.133236\n",
      "quest_user_follow_topics_cosine_dist_top3_mean    0.133236\n",
      "dtype: float64\n"
     ]
    }
   ],
   "source": [
    "train_fileStr = 'invite_info_[3840, 3860]-[3861, 3867]_quest_user_follow_topics_cosine_dist_describe'\n",
    "test_fileStr= 'invite_info_test-[3847, 3867]-[3868, 3874]_quest_user_follow_topics_cosine_dist_describe'\n",
    "\n",
    "df = pd.read_csv(os.path.join(dataDir, '%s.csv' %(train_fileStr, )), sep= '\\t', index_col= 0, na_values = '-1')\n",
    "\n",
    "print(df.isna().sum() / len(df))\n",
    "df_mean = df.mean()\n",
    "df_filled= df.fillna(df_mean)\n",
    "\n",
    "df_filled.to_csv(os.path.join(dataDir, '%s_na_filled_with_mean.csv' %(train_fileStr,)), sep= '\\t')\n",
    "\n",
    "test_df = pd.read_csv(os.path.join(dataDir, '%s.csv' %(test_fileStr, )), sep= '\\t', index_col= 0, na_values = '-1')\n",
    "test_df_filled= test_df.fillna(df_mean)\n",
    "\n",
    "test_df_filled.to_csv(os.path.join(dataDir, '%s_na_filled_with_mean.csv' %(test_fileStr,)), sep= '\\t')"
   ]
  },
  {
   "cell_type": "code",
   "execution_count": 23,
   "metadata": {},
   "outputs": [
    {
     "name": "stdout",
     "output_type": "stream",
     "text": [
      "quest_topics_inn_euclid_dist_max     0.002076\n",
      "quest_topics_inn_euclid_dist_mean    0.002076\n",
      "quest_topics_inn_euclid_dist_std     0.002076\n",
      "dtype: float64\n"
     ]
    }
   ],
   "source": [
    "train_fileStr = 'invite_info_[3840, 3860]-[3861, 3867]_quest_topics_inn_euclid_dist_describe'\n",
    "test_fileStr= 'invite_info_test-[3847, 3867]-[3868, 3874]_quest_topics_inn_euclid_dist_describe'\n",
    "\n",
    "df = pd.read_csv(os.path.join(dataDir, '%s.csv' %(train_fileStr, )), sep= '\\t', index_col= 0, na_values = '-1')\n",
    "\n",
    "print(df.isna().sum() / len(df))\n",
    "df_mean = df.mean()\n",
    "df_filled= df.fillna(df_mean)\n",
    "\n",
    "df_filled.to_csv(os.path.join(dataDir, '%s_na_filled_with_mean.csv' %(train_fileStr,)), sep= '\\t')\n",
    "\n",
    "test_df = pd.read_csv(os.path.join(dataDir, '%s.csv' %(test_fileStr, )), sep= '\\t', index_col= 0, na_values = '-1')\n",
    "test_df_filled= test_df.fillna(df_mean)\n",
    "\n",
    "test_df_filled.to_csv(os.path.join(dataDir, '%s_na_filled_with_mean.csv' %(test_fileStr,)), sep= '\\t')"
   ]
  },
  {
   "cell_type": "code",
   "execution_count": null,
   "metadata": {},
   "outputs": [
    {
     "name": "stdout",
     "output_type": "stream",
     "text": [
      "quest_topics_inn_euclid_dist_max     0.002076\n",
      "quest_topics_inn_euclid_dist_mean    0.002076\n",
      "quest_topics_inn_euclid_dist_std     0.002076\n",
      "dtype: float64\n"
     ]
    }
   ],
   "source": [
    "train_fileStr = 'invite_info_test-[3847, 3867]-[3868, 3874]_quest_user_follow_topics_euclid_dist_describe'\n",
    "test_fileStr= 'invite_info_test-[3847, 3867]-[3868, 3874]_quest_topics_inn_euclid_dist_describe'\n",
    "\n",
    "df = pd.read_csv(os.path.join(dataDir, '%s.csv' %(train_fileStr, )), sep= '\\t', index_col= 0, na_values = '-1')\n",
    "\n",
    "print(df.isna().sum() / len(df))\n",
    "df_mean = df.mean()\n",
    "df_filled= df.fillna(df_mean)\n",
    "\n",
    "df_filled.to_csv(os.path.join(dataDir, '%s_na_filled_with_mean.csv' %(train_fileStr,)), sep= '\\t')\n",
    "\n",
    "test_df = pd.read_csv(os.path.join(dataDir, '%s.csv' %(test_fileStr, )), sep= '\\t', index_col= 0, na_values = '-1')\n",
    "test_df_filled= test_df.fillna(df_mean)\n",
    "\n",
    "test_df_filled.to_csv(os.path.join(dataDir, '%s_na_filled_with_mean.csv' %(test_fileStr,)), sep= '\\t')"
   ]
  },
  {
   "cell_type": "code",
   "execution_count": null,
   "metadata": {},
   "outputs": [],
   "source": []
  }
 ],
 "metadata": {
  "kernelspec": {
   "display_name": "Python 3",
   "language": "python",
   "name": "python3"
  },
  "language_info": {
   "codemirror_mode": {
    "name": "ipython",
    "version": 3
   },
   "file_extension": ".py",
   "mimetype": "text/x-python",
   "name": "python",
   "nbconvert_exporter": "python",
   "pygments_lexer": "ipython3",
   "version": "3.6.7"
  }
 },
 "nbformat": 4,
 "nbformat_minor": 2
}
