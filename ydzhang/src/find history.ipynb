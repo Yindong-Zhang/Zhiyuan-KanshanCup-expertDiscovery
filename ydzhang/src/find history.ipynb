{
 "cells": [
  {
   "cell_type": "code",
   "execution_count": null,
   "outputs": [],
   "source": [
    "# 本文件以流计算的思路，依次处理每一条日志记录，查找确切的用户历史行为日志"
   ],
   "metadata": {
    "collapsed": false,
    "pycharm": {
     "name": "#%%\n"
    }
   }
  },
  {
   "cell_type": "code",
   "execution_count": 3,
   "metadata": {},
   "outputs": [],
   "source": [
    "import pandas as pd\n",
    "import numpy as np\n",
    "import os"
   ]
  },
  {
   "cell_type": "code",
   "execution_count": 4,
   "metadata": {},
   "outputs": [],
   "source": [
    "dataDir = '../data'"
   ]
  },
  {
   "cell_type": "markdown",
   "metadata": {},
   "source": [
    "### 查找历史问题和回答"
   ]
  },
  {
   "cell_type": "code",
   "execution_count": 30,
   "metadata": {},
   "outputs": [
    {
     "name": "stderr",
     "output_type": "stream",
     "text": [
      "/home/sc3/miniconda2/envs/ydzhang/lib/python3.6/site-packages/numpy/lib/arraysetops.py:472: FutureWarning: elementwise comparison failed; returning scalar instead, but in the future will perform elementwise comparison\n",
      "  mask |= (ar1 == a)\n"
     ]
    }
   ],
   "source": [
    "invite_df= pd.read_csv(os.path.join(dataDir, 'invite_info_1021.csv'),\n",
    "                # columns = ['question_id', 'user_id', 'create_time', 'create_day', 'create_hour', 'isAnswer']\n",
    "                      sep= '\\t',\n",
    "                       index_col= 0,\n",
    "                     )"
   ]
  },
  {
   "cell_type": "code",
   "execution_count": 31,
   "metadata": {
    "scrolled": true
   },
   "outputs": [
    {
     "data": {
      "text/plain": [
       "Index(['question_id', 'user_id', 'create_time', 'create_day', 'create_hour',\n",
       "       'is_answer'],\n",
       "      dtype='object')"
      ]
     },
     "execution_count": 31,
     "metadata": {},
     "output_type": "execute_result"
    }
   ],
   "source": [
    "invite_df.columns"
   ]
  },
  {
   "cell_type": "code",
   "execution_count": 21,
   "metadata": {},
   "outputs": [],
   "source": [
    "test_df = pd.read_csv(os.path.join(dataDir, 'invite_info_evaluate_1_0926.txt'), \n",
    "                     names = ['question_id', 'user_id', 'create_time'],\n",
    "                     sep= '\\t')"
   ]
  },
  {
   "cell_type": "code",
   "execution_count": 24,
   "metadata": {},
   "outputs": [
    {
     "data": {
      "text/html": [
       "<div>\n",
       "<style scoped>\n",
       "    .dataframe tbody tr th:only-of-type {\n",
       "        vertical-align: middle;\n",
       "    }\n",
       "\n",
       "    .dataframe tbody tr th {\n",
       "        vertical-align: top;\n",
       "    }\n",
       "\n",
       "    .dataframe thead th {\n",
       "        text-align: right;\n",
       "    }\n",
       "</style>\n",
       "<table border=\"1\" class=\"dataframe\">\n",
       "  <thead>\n",
       "    <tr style=\"text-align: right;\">\n",
       "      <th></th>\n",
       "      <th>question_id</th>\n",
       "      <th>user_id</th>\n",
       "      <th>create_time</th>\n",
       "    </tr>\n",
       "  </thead>\n",
       "  <tbody>\n",
       "    <tr>\n",
       "      <th>0</th>\n",
       "      <td>Q1493039281</td>\n",
       "      <td>M64135255</td>\n",
       "      <td>D3870-H9</td>\n",
       "    </tr>\n",
       "    <tr>\n",
       "      <th>1</th>\n",
       "      <td>Q2023398782</td>\n",
       "      <td>M2536956560</td>\n",
       "      <td>D3872-H22</td>\n",
       "    </tr>\n",
       "    <tr>\n",
       "      <th>2</th>\n",
       "      <td>Q4151338694</td>\n",
       "      <td>M3294926344</td>\n",
       "      <td>D3874-H15</td>\n",
       "    </tr>\n",
       "    <tr>\n",
       "      <th>3</th>\n",
       "      <td>Q3271436624</td>\n",
       "      <td>M3744310794</td>\n",
       "      <td>D3873-H4</td>\n",
       "    </tr>\n",
       "    <tr>\n",
       "      <th>4</th>\n",
       "      <td>Q3314287018</td>\n",
       "      <td>M1349051752</td>\n",
       "      <td>D3872-H19</td>\n",
       "    </tr>\n",
       "  </tbody>\n",
       "</table>\n",
       "</div>"
      ],
      "text/plain": [
       "   question_id      user_id create_time\n",
       "0  Q1493039281    M64135255    D3870-H9\n",
       "1  Q2023398782  M2536956560   D3872-H22\n",
       "2  Q4151338694  M3294926344   D3874-H15\n",
       "3  Q3271436624  M3744310794    D3873-H4\n",
       "4  Q3314287018  M1349051752   D3872-H19"
      ]
     },
     "execution_count": 24,
     "metadata": {},
     "output_type": "execute_result"
    }
   ],
   "source": [
    "test_df.head()"
   ]
  },
  {
   "cell_type": "code",
   "execution_count": 25,
   "metadata": {},
   "outputs": [],
   "source": [
    "test_df['create_day'] = test_df['create_time'].apply(lambda x: int(x.split('-')[0].lstrip('D')))"
   ]
  },
  {
   "cell_type": "code",
   "execution_count": 26,
   "metadata": {},
   "outputs": [],
   "source": [
    "test_df['create_hour'] = test_df['create_time'].apply(lambda x: int(x.split('-')[1].lstrip('H')))"
   ]
  },
  {
   "cell_type": "code",
   "execution_count": null,
   "metadata": {},
   "outputs": [],
   "source": [
    "test_df['test_order']"
   ]
  },
  {
   "cell_type": "code",
   "execution_count": 27,
   "metadata": {},
   "outputs": [
    {
     "data": {
      "text/html": [
       "<div>\n",
       "<style scoped>\n",
       "    .dataframe tbody tr th:only-of-type {\n",
       "        vertical-align: middle;\n",
       "    }\n",
       "\n",
       "    .dataframe tbody tr th {\n",
       "        vertical-align: top;\n",
       "    }\n",
       "\n",
       "    .dataframe thead th {\n",
       "        text-align: right;\n",
       "    }\n",
       "</style>\n",
       "<table border=\"1\" class=\"dataframe\">\n",
       "  <thead>\n",
       "    <tr style=\"text-align: right;\">\n",
       "      <th></th>\n",
       "      <th>question_id</th>\n",
       "      <th>user_id</th>\n",
       "      <th>create_time</th>\n",
       "      <th>create_day</th>\n",
       "      <th>create_hour</th>\n",
       "    </tr>\n",
       "  </thead>\n",
       "  <tbody>\n",
       "    <tr>\n",
       "      <th>0</th>\n",
       "      <td>Q1493039281</td>\n",
       "      <td>M64135255</td>\n",
       "      <td>D3870-H9</td>\n",
       "      <td>3870</td>\n",
       "      <td>9</td>\n",
       "    </tr>\n",
       "    <tr>\n",
       "      <th>1</th>\n",
       "      <td>Q2023398782</td>\n",
       "      <td>M2536956560</td>\n",
       "      <td>D3872-H22</td>\n",
       "      <td>3872</td>\n",
       "      <td>22</td>\n",
       "    </tr>\n",
       "    <tr>\n",
       "      <th>2</th>\n",
       "      <td>Q4151338694</td>\n",
       "      <td>M3294926344</td>\n",
       "      <td>D3874-H15</td>\n",
       "      <td>3874</td>\n",
       "      <td>15</td>\n",
       "    </tr>\n",
       "    <tr>\n",
       "      <th>3</th>\n",
       "      <td>Q3271436624</td>\n",
       "      <td>M3744310794</td>\n",
       "      <td>D3873-H4</td>\n",
       "      <td>3873</td>\n",
       "      <td>4</td>\n",
       "    </tr>\n",
       "    <tr>\n",
       "      <th>4</th>\n",
       "      <td>Q3314287018</td>\n",
       "      <td>M1349051752</td>\n",
       "      <td>D3872-H19</td>\n",
       "      <td>3872</td>\n",
       "      <td>19</td>\n",
       "    </tr>\n",
       "  </tbody>\n",
       "</table>\n",
       "</div>"
      ],
      "text/plain": [
       "   question_id      user_id create_time  create_day  create_hour\n",
       "0  Q1493039281    M64135255    D3870-H9        3870            9\n",
       "1  Q2023398782  M2536956560   D3872-H22        3872           22\n",
       "2  Q4151338694  M3294926344   D3874-H15        3874           15\n",
       "3  Q3271436624  M3744310794    D3873-H4        3873            4\n",
       "4  Q3314287018  M1349051752   D3872-H19        3872           19"
      ]
     },
     "execution_count": 27,
     "metadata": {},
     "output_type": "execute_result"
    }
   ],
   "source": [
    "test_df.head()"
   ]
  },
  {
   "cell_type": "code",
   "execution_count": 28,
   "metadata": {},
   "outputs": [],
   "source": [
    "test_df.to_csv(os.path.join(dataDir, 'invite_info_evaluate_1021.csv'), sep= '\\t')"
   ]
  },
  {
   "cell_type": "code",
   "execution_count": 32,
   "metadata": {},
   "outputs": [],
   "source": [
    "test_df['is_test'] = 1"
   ]
  },
  {
   "cell_type": "code",
   "execution_count": 33,
   "metadata": {},
   "outputs": [],
   "source": [
    "test_df['is_answer']= 0"
   ]
  },
  {
   "cell_type": "code",
   "execution_count": 34,
   "metadata": {},
   "outputs": [
    {
     "data": {
      "text/html": [
       "<div>\n",
       "<style scoped>\n",
       "    .dataframe tbody tr th:only-of-type {\n",
       "        vertical-align: middle;\n",
       "    }\n",
       "\n",
       "    .dataframe tbody tr th {\n",
       "        vertical-align: top;\n",
       "    }\n",
       "\n",
       "    .dataframe thead th {\n",
       "        text-align: right;\n",
       "    }\n",
       "</style>\n",
       "<table border=\"1\" class=\"dataframe\">\n",
       "  <thead>\n",
       "    <tr style=\"text-align: right;\">\n",
       "      <th></th>\n",
       "      <th>question_id</th>\n",
       "      <th>user_id</th>\n",
       "      <th>create_time</th>\n",
       "      <th>create_day</th>\n",
       "      <th>create_hour</th>\n",
       "      <th>is_test</th>\n",
       "      <th>is_answer</th>\n",
       "    </tr>\n",
       "  </thead>\n",
       "  <tbody>\n",
       "    <tr>\n",
       "      <th>0</th>\n",
       "      <td>Q1493039281</td>\n",
       "      <td>M64135255</td>\n",
       "      <td>D3870-H9</td>\n",
       "      <td>3870</td>\n",
       "      <td>9</td>\n",
       "      <td>1</td>\n",
       "      <td>0</td>\n",
       "    </tr>\n",
       "    <tr>\n",
       "      <th>1</th>\n",
       "      <td>Q2023398782</td>\n",
       "      <td>M2536956560</td>\n",
       "      <td>D3872-H22</td>\n",
       "      <td>3872</td>\n",
       "      <td>22</td>\n",
       "      <td>1</td>\n",
       "      <td>0</td>\n",
       "    </tr>\n",
       "    <tr>\n",
       "      <th>2</th>\n",
       "      <td>Q4151338694</td>\n",
       "      <td>M3294926344</td>\n",
       "      <td>D3874-H15</td>\n",
       "      <td>3874</td>\n",
       "      <td>15</td>\n",
       "      <td>1</td>\n",
       "      <td>0</td>\n",
       "    </tr>\n",
       "    <tr>\n",
       "      <th>3</th>\n",
       "      <td>Q3271436624</td>\n",
       "      <td>M3744310794</td>\n",
       "      <td>D3873-H4</td>\n",
       "      <td>3873</td>\n",
       "      <td>4</td>\n",
       "      <td>1</td>\n",
       "      <td>0</td>\n",
       "    </tr>\n",
       "    <tr>\n",
       "      <th>4</th>\n",
       "      <td>Q3314287018</td>\n",
       "      <td>M1349051752</td>\n",
       "      <td>D3872-H19</td>\n",
       "      <td>3872</td>\n",
       "      <td>19</td>\n",
       "      <td>1</td>\n",
       "      <td>0</td>\n",
       "    </tr>\n",
       "  </tbody>\n",
       "</table>\n",
       "</div>"
      ],
      "text/plain": [
       "   question_id      user_id create_time  create_day  create_hour  is_test  \\\n",
       "0  Q1493039281    M64135255    D3870-H9        3870            9        1   \n",
       "1  Q2023398782  M2536956560   D3872-H22        3872           22        1   \n",
       "2  Q4151338694  M3294926344   D3874-H15        3874           15        1   \n",
       "3  Q3271436624  M3744310794    D3873-H4        3873            4        1   \n",
       "4  Q3314287018  M1349051752   D3872-H19        3872           19        1   \n",
       "\n",
       "   is_answer  \n",
       "0          0  \n",
       "1          0  \n",
       "2          0  \n",
       "3          0  \n",
       "4          0  "
      ]
     },
     "execution_count": 34,
     "metadata": {},
     "output_type": "execute_result"
    }
   ],
   "source": [
    "test_df.head()"
   ]
  },
  {
   "cell_type": "code",
   "execution_count": 35,
   "metadata": {},
   "outputs": [],
   "source": [
    "invite_df['is_test']= 0"
   ]
  },
  {
   "cell_type": "code",
   "execution_count": 36,
   "metadata": {},
   "outputs": [
    {
     "name": "stderr",
     "output_type": "stream",
     "text": [
      "/home/sc3/miniconda2/envs/ydzhang/lib/python3.6/site-packages/ipykernel_launcher.py:1: FutureWarning: Sorting because non-concatenation axis is not aligned. A future version\n",
      "of pandas will change to not sort by default.\n",
      "\n",
      "To accept the future behavior, pass 'sort=False'.\n",
      "\n",
      "To retain the current behavior and silence the warning, pass 'sort=True'.\n",
      "\n",
      "  \"\"\"Entry point for launching an IPython kernel.\n"
     ]
    }
   ],
   "source": [
    "full_invite_df= pd.concat([invite_df, test_df], axis= 0)"
   ]
  },
  {
   "cell_type": "code",
   "execution_count": 37,
   "metadata": {},
   "outputs": [
    {
     "data": {
      "text/html": [
       "<div>\n",
       "<style scoped>\n",
       "    .dataframe tbody tr th:only-of-type {\n",
       "        vertical-align: middle;\n",
       "    }\n",
       "\n",
       "    .dataframe tbody tr th {\n",
       "        vertical-align: top;\n",
       "    }\n",
       "\n",
       "    .dataframe thead th {\n",
       "        text-align: right;\n",
       "    }\n",
       "</style>\n",
       "<table border=\"1\" class=\"dataframe\">\n",
       "  <thead>\n",
       "    <tr style=\"text-align: right;\">\n",
       "      <th></th>\n",
       "      <th>create_day</th>\n",
       "      <th>create_hour</th>\n",
       "      <th>create_time</th>\n",
       "      <th>is_answer</th>\n",
       "      <th>is_test</th>\n",
       "      <th>question_id</th>\n",
       "      <th>user_id</th>\n",
       "    </tr>\n",
       "  </thead>\n",
       "  <tbody>\n",
       "    <tr>\n",
       "      <th>0</th>\n",
       "      <td>3865</td>\n",
       "      <td>22</td>\n",
       "      <td>D3865-H22</td>\n",
       "      <td>0</td>\n",
       "      <td>0</td>\n",
       "      <td>Q2166419046</td>\n",
       "      <td>M401693808</td>\n",
       "    </tr>\n",
       "    <tr>\n",
       "      <th>1</th>\n",
       "      <td>3844</td>\n",
       "      <td>11</td>\n",
       "      <td>D3844-H11</td>\n",
       "      <td>0</td>\n",
       "      <td>0</td>\n",
       "      <td>Q1550017551</td>\n",
       "      <td>M3392373099</td>\n",
       "    </tr>\n",
       "    <tr>\n",
       "      <th>2</th>\n",
       "      <td>3862</td>\n",
       "      <td>15</td>\n",
       "      <td>D3862-H15</td>\n",
       "      <td>0</td>\n",
       "      <td>0</td>\n",
       "      <td>Q604029601</td>\n",
       "      <td>M2317670257</td>\n",
       "    </tr>\n",
       "    <tr>\n",
       "      <th>3</th>\n",
       "      <td>3849</td>\n",
       "      <td>11</td>\n",
       "      <td>D3849-H11</td>\n",
       "      <td>0</td>\n",
       "      <td>0</td>\n",
       "      <td>Q2350061229</td>\n",
       "      <td>M1618461867</td>\n",
       "    </tr>\n",
       "    <tr>\n",
       "      <th>4</th>\n",
       "      <td>3867</td>\n",
       "      <td>4</td>\n",
       "      <td>D3867-H4</td>\n",
       "      <td>0</td>\n",
       "      <td>0</td>\n",
       "      <td>Q2443223942</td>\n",
       "      <td>M3544409350</td>\n",
       "    </tr>\n",
       "  </tbody>\n",
       "</table>\n",
       "</div>"
      ],
      "text/plain": [
       "   create_day  create_hour create_time  is_answer  is_test  question_id  \\\n",
       "0        3865           22   D3865-H22          0        0  Q2166419046   \n",
       "1        3844           11   D3844-H11          0        0  Q1550017551   \n",
       "2        3862           15   D3862-H15          0        0   Q604029601   \n",
       "3        3849           11   D3849-H11          0        0  Q2350061229   \n",
       "4        3867            4    D3867-H4          0        0  Q2443223942   \n",
       "\n",
       "       user_id  \n",
       "0   M401693808  \n",
       "1  M3392373099  \n",
       "2  M2317670257  \n",
       "3  M1618461867  \n",
       "4  M3544409350  "
      ]
     },
     "execution_count": 37,
     "metadata": {},
     "output_type": "execute_result"
    }
   ],
   "source": [
    "full_invite_df.head()"
   ]
  },
  {
   "cell_type": "code",
   "execution_count": 46,
   "metadata": {},
   "outputs": [],
   "source": [
    "ans_df = pd.read_csv(os.path.join(dataDir, 'answer_info_1106.csv'), sep= '\\t', usecols = ['answer_id', 'question_id', 'user_id'], \n",
    "                     # index_col= 'answer_id',\n",
    "                    nrows= None)"
   ]
  },
  {
   "cell_type": "code",
   "execution_count": 47,
   "metadata": {},
   "outputs": [
    {
     "data": {
      "text/html": [
       "<div>\n",
       "<style scoped>\n",
       "    .dataframe tbody tr th:only-of-type {\n",
       "        vertical-align: middle;\n",
       "    }\n",
       "\n",
       "    .dataframe tbody tr th {\n",
       "        vertical-align: top;\n",
       "    }\n",
       "\n",
       "    .dataframe thead th {\n",
       "        text-align: right;\n",
       "    }\n",
       "</style>\n",
       "<table border=\"1\" class=\"dataframe\">\n",
       "  <thead>\n",
       "    <tr style=\"text-align: right;\">\n",
       "      <th></th>\n",
       "      <th>answer_id</th>\n",
       "      <th>question_id</th>\n",
       "      <th>user_id</th>\n",
       "    </tr>\n",
       "  </thead>\n",
       "  <tbody>\n",
       "    <tr>\n",
       "      <th>0</th>\n",
       "      <td>A2502060945</td>\n",
       "      <td>Q1867533817</td>\n",
       "      <td>M625498202</td>\n",
       "    </tr>\n",
       "    <tr>\n",
       "      <th>1</th>\n",
       "      <td>A2847829478</td>\n",
       "      <td>Q3366788616</td>\n",
       "      <td>M142330444</td>\n",
       "    </tr>\n",
       "    <tr>\n",
       "      <th>2</th>\n",
       "      <td>A2005999231</td>\n",
       "      <td>Q4264694221</td>\n",
       "      <td>M771499642</td>\n",
       "    </tr>\n",
       "    <tr>\n",
       "      <th>3</th>\n",
       "      <td>A14821523</td>\n",
       "      <td>Q1088851650</td>\n",
       "      <td>M2282072267</td>\n",
       "    </tr>\n",
       "    <tr>\n",
       "      <th>4</th>\n",
       "      <td>A731550034</td>\n",
       "      <td>Q1023877868</td>\n",
       "      <td>M2282072267</td>\n",
       "    </tr>\n",
       "  </tbody>\n",
       "</table>\n",
       "</div>"
      ],
      "text/plain": [
       "     answer_id  question_id      user_id\n",
       "0  A2502060945  Q1867533817   M625498202\n",
       "1  A2847829478  Q3366788616   M142330444\n",
       "2  A2005999231  Q4264694221   M771499642\n",
       "3    A14821523  Q1088851650  M2282072267\n",
       "4   A731550034  Q1023877868  M2282072267"
      ]
     },
     "execution_count": 47,
     "metadata": {},
     "output_type": "execute_result"
    }
   ],
   "source": [
    "ans_df.head()"
   ]
  },
  {
   "cell_type": "code",
   "execution_count": 48,
   "metadata": {},
   "outputs": [],
   "source": [
    "test_invite_df = pd.merge(full_invite_df, ans_df, on = ['question_id', 'user_id'], how= 'left')"
   ]
  },
  {
   "cell_type": "code",
   "execution_count": 49,
   "metadata": {},
   "outputs": [],
   "source": [
    "ans_found = np.logical_xor(test_invite_df['is_answer'] == 1, test_invite_df['answer_id'].isna())"
   ]
  },
  {
   "cell_type": "code",
   "execution_count": 50,
   "metadata": {},
   "outputs": [],
   "source": [
    "test_invite_df = test_invite_df.loc[ans_found]"
   ]
  },
  {
   "cell_type": "code",
   "execution_count": 52,
   "metadata": {},
   "outputs": [
    {
     "data": {
      "text/plain": [
       "(10630845, 10448262)"
      ]
     },
     "execution_count": 52,
     "metadata": {},
     "output_type": "execute_result"
    }
   ],
   "source": [
    "len(ans_found), np.sum(ans_found)"
   ]
  },
  {
   "cell_type": "markdown",
   "metadata": {},
   "source": [
    "#### 大约有十几万个邀请记录得到回答，却没有回答信息"
   ]
  },
  {
   "cell_type": "markdown",
   "metadata": {},
   "source": [
    "#### 寻找历史 question index , answer index"
   ]
  },
  {
   "cell_type": "code",
   "execution_count": 53,
   "metadata": {},
   "outputs": [],
   "source": [
    "max_hist_len = 32"
   ]
  },
  {
   "cell_type": "code",
   "execution_count": 54,
   "metadata": {},
   "outputs": [
    {
     "data": {
      "text/html": [
       "<div>\n",
       "<style scoped>\n",
       "    .dataframe tbody tr th:only-of-type {\n",
       "        vertical-align: middle;\n",
       "    }\n",
       "\n",
       "    .dataframe tbody tr th {\n",
       "        vertical-align: top;\n",
       "    }\n",
       "\n",
       "    .dataframe thead th {\n",
       "        text-align: right;\n",
       "    }\n",
       "</style>\n",
       "<table border=\"1\" class=\"dataframe\">\n",
       "  <thead>\n",
       "    <tr style=\"text-align: right;\">\n",
       "      <th></th>\n",
       "      <th>create_day</th>\n",
       "      <th>create_hour</th>\n",
       "      <th>create_time</th>\n",
       "      <th>is_answer</th>\n",
       "      <th>is_test</th>\n",
       "      <th>question_id</th>\n",
       "      <th>user_id</th>\n",
       "      <th>answer_id</th>\n",
       "    </tr>\n",
       "  </thead>\n",
       "  <tbody>\n",
       "    <tr>\n",
       "      <th>0</th>\n",
       "      <td>3865</td>\n",
       "      <td>22</td>\n",
       "      <td>D3865-H22</td>\n",
       "      <td>0</td>\n",
       "      <td>0</td>\n",
       "      <td>Q2166419046</td>\n",
       "      <td>M401693808</td>\n",
       "      <td>NaN</td>\n",
       "    </tr>\n",
       "    <tr>\n",
       "      <th>1</th>\n",
       "      <td>3844</td>\n",
       "      <td>11</td>\n",
       "      <td>D3844-H11</td>\n",
       "      <td>0</td>\n",
       "      <td>0</td>\n",
       "      <td>Q1550017551</td>\n",
       "      <td>M3392373099</td>\n",
       "      <td>NaN</td>\n",
       "    </tr>\n",
       "    <tr>\n",
       "      <th>2</th>\n",
       "      <td>3862</td>\n",
       "      <td>15</td>\n",
       "      <td>D3862-H15</td>\n",
       "      <td>0</td>\n",
       "      <td>0</td>\n",
       "      <td>Q604029601</td>\n",
       "      <td>M2317670257</td>\n",
       "      <td>NaN</td>\n",
       "    </tr>\n",
       "    <tr>\n",
       "      <th>3</th>\n",
       "      <td>3849</td>\n",
       "      <td>11</td>\n",
       "      <td>D3849-H11</td>\n",
       "      <td>0</td>\n",
       "      <td>0</td>\n",
       "      <td>Q2350061229</td>\n",
       "      <td>M1618461867</td>\n",
       "      <td>NaN</td>\n",
       "    </tr>\n",
       "    <tr>\n",
       "      <th>4</th>\n",
       "      <td>3867</td>\n",
       "      <td>4</td>\n",
       "      <td>D3867-H4</td>\n",
       "      <td>0</td>\n",
       "      <td>0</td>\n",
       "      <td>Q2443223942</td>\n",
       "      <td>M3544409350</td>\n",
       "      <td>NaN</td>\n",
       "    </tr>\n",
       "  </tbody>\n",
       "</table>\n",
       "</div>"
      ],
      "text/plain": [
       "   create_day  create_hour create_time  is_answer  is_test  question_id  \\\n",
       "0        3865           22   D3865-H22          0        0  Q2166419046   \n",
       "1        3844           11   D3844-H11          0        0  Q1550017551   \n",
       "2        3862           15   D3862-H15          0        0   Q604029601   \n",
       "3        3849           11   D3849-H11          0        0  Q2350061229   \n",
       "4        3867            4    D3867-H4          0        0  Q2443223942   \n",
       "\n",
       "       user_id answer_id  \n",
       "0   M401693808       NaN  \n",
       "1  M3392373099       NaN  \n",
       "2  M2317670257       NaN  \n",
       "3  M1618461867       NaN  \n",
       "4  M3544409350       NaN  "
      ]
     },
     "execution_count": 54,
     "metadata": {},
     "output_type": "execute_result"
    }
   ],
   "source": [
    "test_invite_df.head()"
   ]
  },
  {
   "cell_type": "code",
   "execution_count": 55,
   "metadata": {},
   "outputs": [],
   "source": [
    "test_invite_df = test_invite_df.sort_values(by= ['user_id', 'create_day', 'create_hour'])"
   ]
  },
  {
   "cell_type": "code",
   "execution_count": 56,
   "metadata": {},
   "outputs": [
    {
     "data": {
      "text/html": [
       "<div>\n",
       "<style scoped>\n",
       "    .dataframe tbody tr th:only-of-type {\n",
       "        vertical-align: middle;\n",
       "    }\n",
       "\n",
       "    .dataframe tbody tr th {\n",
       "        vertical-align: top;\n",
       "    }\n",
       "\n",
       "    .dataframe thead th {\n",
       "        text-align: right;\n",
       "    }\n",
       "</style>\n",
       "<table border=\"1\" class=\"dataframe\">\n",
       "  <thead>\n",
       "    <tr style=\"text-align: right;\">\n",
       "      <th></th>\n",
       "      <th>create_day</th>\n",
       "      <th>create_hour</th>\n",
       "      <th>create_time</th>\n",
       "      <th>is_answer</th>\n",
       "      <th>is_test</th>\n",
       "      <th>question_id</th>\n",
       "      <th>user_id</th>\n",
       "      <th>answer_id</th>\n",
       "    </tr>\n",
       "  </thead>\n",
       "  <tbody>\n",
       "    <tr>\n",
       "      <th>8239342</th>\n",
       "      <td>3842</td>\n",
       "      <td>16</td>\n",
       "      <td>D3842-H16</td>\n",
       "      <td>1</td>\n",
       "      <td>0</td>\n",
       "      <td>Q2574396618</td>\n",
       "      <td>M1000000382</td>\n",
       "      <td>A1260717197</td>\n",
       "    </tr>\n",
       "    <tr>\n",
       "      <th>5345128</th>\n",
       "      <td>3844</td>\n",
       "      <td>15</td>\n",
       "      <td>D3844-H15</td>\n",
       "      <td>0</td>\n",
       "      <td>0</td>\n",
       "      <td>Q2557202265</td>\n",
       "      <td>M1000000382</td>\n",
       "      <td>NaN</td>\n",
       "    </tr>\n",
       "    <tr>\n",
       "      <th>9167807</th>\n",
       "      <td>3846</td>\n",
       "      <td>21</td>\n",
       "      <td>D3846-H21</td>\n",
       "      <td>0</td>\n",
       "      <td>0</td>\n",
       "      <td>Q3910864809</td>\n",
       "      <td>M1000000382</td>\n",
       "      <td>NaN</td>\n",
       "    </tr>\n",
       "    <tr>\n",
       "      <th>3507059</th>\n",
       "      <td>3860</td>\n",
       "      <td>21</td>\n",
       "      <td>D3860-H21</td>\n",
       "      <td>0</td>\n",
       "      <td>0</td>\n",
       "      <td>Q1282394327</td>\n",
       "      <td>M1000000382</td>\n",
       "      <td>NaN</td>\n",
       "    </tr>\n",
       "    <tr>\n",
       "      <th>736806</th>\n",
       "      <td>3861</td>\n",
       "      <td>17</td>\n",
       "      <td>D3861-H17</td>\n",
       "      <td>0</td>\n",
       "      <td>0</td>\n",
       "      <td>Q4251023727</td>\n",
       "      <td>M1000000382</td>\n",
       "      <td>NaN</td>\n",
       "    </tr>\n",
       "  </tbody>\n",
       "</table>\n",
       "</div>"
      ],
      "text/plain": [
       "         create_day  create_hour create_time  is_answer  is_test  question_id  \\\n",
       "8239342        3842           16   D3842-H16          1        0  Q2574396618   \n",
       "5345128        3844           15   D3844-H15          0        0  Q2557202265   \n",
       "9167807        3846           21   D3846-H21          0        0  Q3910864809   \n",
       "3507059        3860           21   D3860-H21          0        0  Q1282394327   \n",
       "736806         3861           17   D3861-H17          0        0  Q4251023727   \n",
       "\n",
       "             user_id    answer_id  \n",
       "8239342  M1000000382  A1260717197  \n",
       "5345128  M1000000382          NaN  \n",
       "9167807  M1000000382          NaN  \n",
       "3507059  M1000000382          NaN  \n",
       "736806   M1000000382          NaN  "
      ]
     },
     "execution_count": 56,
     "metadata": {},
     "output_type": "execute_result"
    }
   ],
   "source": [
    "test_invite_df.head()"
   ]
  },
  {
   "cell_type": "code",
   "execution_count": 58,
   "metadata": {
    "scrolled": true
   },
   "outputs": [
    {
     "name": "stdout",
     "output_type": "stream",
     "text": [
      "0 / 10448262\n",
      "100000 / 10448262\n",
      "200000 / 10448262\n",
      "300000 / 10448262\n",
      "400000 / 10448262\n",
      "500000 / 10448262\n",
      "600000 / 10448262\n",
      "700000 / 10448262\n",
      "800000 / 10448262\n",
      "900000 / 10448262\n",
      "1000000 / 10448262\n",
      "1100000 / 10448262\n",
      "1200000 / 10448262\n",
      "1300000 / 10448262\n",
      "1400000 / 10448262\n",
      "1500000 / 10448262\n",
      "1600000 / 10448262\n",
      "1700000 / 10448262\n",
      "1800000 / 10448262\n",
      "1900000 / 10448262\n",
      "2000000 / 10448262\n",
      "2100000 / 10448262\n",
      "2200000 / 10448262\n",
      "2300000 / 10448262\n",
      "2400000 / 10448262\n",
      "2500000 / 10448262\n",
      "2600000 / 10448262\n",
      "2700000 / 10448262\n",
      "2800000 / 10448262\n",
      "2900000 / 10448262\n",
      "3000000 / 10448262\n",
      "3100000 / 10448262\n",
      "3200000 / 10448262\n",
      "3300000 / 10448262\n",
      "3400000 / 10448262\n",
      "3500000 / 10448262\n",
      "3600000 / 10448262\n",
      "3700000 / 10448262\n",
      "3800000 / 10448262\n",
      "3900000 / 10448262\n",
      "4000000 / 10448262\n",
      "4100000 / 10448262\n",
      "4200000 / 10448262\n",
      "4300000 / 10448262\n",
      "4400000 / 10448262\n",
      "4500000 / 10448262\n",
      "4600000 / 10448262\n",
      "4700000 / 10448262\n",
      "4800000 / 10448262\n",
      "4900000 / 10448262\n",
      "5000000 / 10448262\n",
      "5100000 / 10448262\n",
      "5200000 / 10448262\n",
      "5300000 / 10448262\n",
      "5400000 / 10448262\n",
      "5500000 / 10448262\n",
      "5600000 / 10448262\n",
      "5700000 / 10448262\n",
      "5800000 / 10448262\n",
      "5900000 / 10448262\n",
      "6000000 / 10448262\n",
      "6100000 / 10448262\n",
      "6200000 / 10448262\n",
      "6300000 / 10448262\n",
      "6400000 / 10448262\n",
      "6500000 / 10448262\n",
      "6600000 / 10448262\n",
      "6700000 / 10448262\n",
      "6800000 / 10448262\n",
      "6900000 / 10448262\n",
      "7000000 / 10448262\n",
      "7100000 / 10448262\n",
      "7200000 / 10448262\n",
      "7300000 / 10448262\n",
      "7400000 / 10448262\n",
      "7500000 / 10448262\n",
      "7600000 / 10448262\n",
      "7700000 / 10448262\n",
      "7800000 / 10448262\n",
      "7900000 / 10448262\n",
      "8000000 / 10448262\n",
      "8100000 / 10448262\n",
      "8200000 / 10448262\n",
      "8300000 / 10448262\n",
      "8400000 / 10448262\n",
      "8500000 / 10448262\n",
      "8600000 / 10448262\n",
      "8700000 / 10448262\n",
      "8800000 / 10448262\n",
      "8900000 / 10448262\n",
      "9000000 / 10448262\n",
      "9100000 / 10448262\n",
      "9200000 / 10448262\n",
      "9300000 / 10448262\n",
      "9400000 / 10448262\n",
      "9500000 / 10448262\n",
      "9600000 / 10448262\n",
      "9700000 / 10448262\n",
      "9800000 / 10448262\n",
      "9900000 / 10448262\n",
      "10000000 / 10448262\n",
      "10100000 / 10448262\n",
      "10200000 / 10448262\n",
      "10300000 / 10448262\n",
      "10400000 / 10448262\n"
     ]
    }
   ],
   "source": [
    "days_since_last_ans = []\n",
    "hist_ans_ids = []\n",
    "hist_quest_ids = []\n",
    "user_hist_quest = []\n",
    "user_hist_ans = []\n",
    "cur_user_id = 'M1000000382'\n",
    "last_ans_day = 3830\n",
    "for i, row in enumerate(test_invite_df.itertuples()):\n",
    "    if row.user_id == cur_user_id:\n",
    "        days_since_last_ans.append(row.create_day - last_ans_day)\n",
    "        hist_ans_ids.append(user_hist_ans + ['-1'] * (max_hist_len - len(user_hist_ans)))\n",
    "        hist_quest_ids.append(user_hist_quest + ['-1'] * (max_hist_len - len(user_hist_quest)))\n",
    "        if row.is_answer == 1:\n",
    "            last_ans_day = row.create_day\n",
    "            if len(user_hist_ans) < max_hist_len:\n",
    "                user_hist_ans.append(row.answer_id)\n",
    "                user_hist_quest.append(row.question_id)\n",
    "    else:\n",
    "        last_ans_day = 3830\n",
    "        days_since_last_ans.append(row.create_day - last_ans_day)\n",
    "        user_hist_ans = []\n",
    "        user_hist_quest = []\n",
    "#         hist_quest_id_df.iloc[i, :len(user_hist_ans)] = user_hist_ans\n",
    "        hist_ans_ids.append(['-1'] * max_hist_len)\n",
    "        hist_quest_ids.append(['-1'] * max_hist_len)\n",
    "        cur_user_id = row.user_id\n",
    "    if i % 100000 == 0:\n",
    "        print('%d / %d' %(i, len(test_invite_df)))"
   ]
  },
  {
   "cell_type": "code",
   "execution_count": 59,
   "metadata": {},
   "outputs": [],
   "source": [
    "test_invite_df['days_since_last_ans'] = days_since_last_ans"
   ]
  },
  {
   "cell_type": "code",
   "execution_count": 60,
   "metadata": {},
   "outputs": [
    {
     "data": {
      "text/plain": [
       "count    1.044826e+07\n",
       "mean     1.581494e+01\n",
       "std      1.179044e+01\n",
       "min      0.000000e+00\n",
       "25%      6.000000e+00\n",
       "50%      1.400000e+01\n",
       "75%      2.400000e+01\n",
       "max      4.400000e+01\n",
       "Name: days_since_last_ans, dtype: float64"
      ]
     },
     "execution_count": 60,
     "metadata": {},
     "output_type": "execute_result"
    }
   ],
   "source": [
    "test_invite_df['days_since_last_ans'].describe()"
   ]
  },
  {
   "cell_type": "code",
   "execution_count": 63,
   "metadata": {},
   "outputs": [],
   "source": [
    "from sklearn.preprocessing import MinMaxScaler"
   ]
  },
  {
   "cell_type": "code",
   "execution_count": 64,
   "metadata": {
    "scrolled": true
   },
   "outputs": [],
   "source": [
    "days_since_las_scaler = MinMaxScaler((0, 2))"
   ]
  },
  {
   "cell_type": "code",
   "execution_count": 65,
   "metadata": {},
   "outputs": [
    {
     "name": "stderr",
     "output_type": "stream",
     "text": [
      "/home/sc3/miniconda2/envs/ydzhang/lib/python3.6/site-packages/sklearn/preprocessing/data.py:323: DataConversionWarning: Data with input dtype int64 were all converted to float64 by MinMaxScaler.\n",
      "  return self.partial_fit(X, y)\n"
     ]
    }
   ],
   "source": [
    "test_invite_df['days_since_last_ans_scaled'] = days_since_las_scaler.fit_transform(test_invite_df[['days_since_last_ans', ]])"
   ]
  },
  {
   "cell_type": "code",
   "execution_count": 104,
   "metadata": {},
   "outputs": [],
   "source": [
    "test_invite_df['create_weekday'] = test_invite_df['create_day'] % 7"
   ]
  },
  {
   "cell_type": "code",
   "execution_count": 105,
   "metadata": {
    "scrolled": true
   },
   "outputs": [
    {
     "data": {
      "text/html": [
       "<div>\n",
       "<style scoped>\n",
       "    .dataframe tbody tr th:only-of-type {\n",
       "        vertical-align: middle;\n",
       "    }\n",
       "\n",
       "    .dataframe tbody tr th {\n",
       "        vertical-align: top;\n",
       "    }\n",
       "\n",
       "    .dataframe thead th {\n",
       "        text-align: right;\n",
       "    }\n",
       "</style>\n",
       "<table border=\"1\" class=\"dataframe\">\n",
       "  <thead>\n",
       "    <tr style=\"text-align: right;\">\n",
       "      <th></th>\n",
       "      <th>create_day</th>\n",
       "      <th>create_hour</th>\n",
       "      <th>create_time</th>\n",
       "      <th>is_answer</th>\n",
       "      <th>is_test</th>\n",
       "      <th>question_id</th>\n",
       "      <th>user_id</th>\n",
       "      <th>answer_id</th>\n",
       "      <th>days_since_last_ans</th>\n",
       "      <th>days_since_last_ans_scaled</th>\n",
       "      <th>create_weekday</th>\n",
       "    </tr>\n",
       "  </thead>\n",
       "  <tbody>\n",
       "    <tr>\n",
       "      <th>8239342</th>\n",
       "      <td>3842</td>\n",
       "      <td>16</td>\n",
       "      <td>D3842-H16</td>\n",
       "      <td>1</td>\n",
       "      <td>0</td>\n",
       "      <td>Q2574396618</td>\n",
       "      <td>M1000000382</td>\n",
       "      <td>A1260717197</td>\n",
       "      <td>12</td>\n",
       "      <td>0.545455</td>\n",
       "      <td>6</td>\n",
       "    </tr>\n",
       "    <tr>\n",
       "      <th>5345128</th>\n",
       "      <td>3844</td>\n",
       "      <td>15</td>\n",
       "      <td>D3844-H15</td>\n",
       "      <td>0</td>\n",
       "      <td>0</td>\n",
       "      <td>Q2557202265</td>\n",
       "      <td>M1000000382</td>\n",
       "      <td>NaN</td>\n",
       "      <td>2</td>\n",
       "      <td>0.090909</td>\n",
       "      <td>1</td>\n",
       "    </tr>\n",
       "    <tr>\n",
       "      <th>9167807</th>\n",
       "      <td>3846</td>\n",
       "      <td>21</td>\n",
       "      <td>D3846-H21</td>\n",
       "      <td>0</td>\n",
       "      <td>0</td>\n",
       "      <td>Q3910864809</td>\n",
       "      <td>M1000000382</td>\n",
       "      <td>NaN</td>\n",
       "      <td>4</td>\n",
       "      <td>0.181818</td>\n",
       "      <td>3</td>\n",
       "    </tr>\n",
       "    <tr>\n",
       "      <th>3507059</th>\n",
       "      <td>3860</td>\n",
       "      <td>21</td>\n",
       "      <td>D3860-H21</td>\n",
       "      <td>0</td>\n",
       "      <td>0</td>\n",
       "      <td>Q1282394327</td>\n",
       "      <td>M1000000382</td>\n",
       "      <td>NaN</td>\n",
       "      <td>18</td>\n",
       "      <td>0.818182</td>\n",
       "      <td>3</td>\n",
       "    </tr>\n",
       "    <tr>\n",
       "      <th>736806</th>\n",
       "      <td>3861</td>\n",
       "      <td>17</td>\n",
       "      <td>D3861-H17</td>\n",
       "      <td>0</td>\n",
       "      <td>0</td>\n",
       "      <td>Q4251023727</td>\n",
       "      <td>M1000000382</td>\n",
       "      <td>NaN</td>\n",
       "      <td>19</td>\n",
       "      <td>0.863636</td>\n",
       "      <td>4</td>\n",
       "    </tr>\n",
       "  </tbody>\n",
       "</table>\n",
       "</div>"
      ],
      "text/plain": [
       "         create_day  create_hour create_time  is_answer  is_test  question_id  \\\n",
       "8239342        3842           16   D3842-H16          1        0  Q2574396618   \n",
       "5345128        3844           15   D3844-H15          0        0  Q2557202265   \n",
       "9167807        3846           21   D3846-H21          0        0  Q3910864809   \n",
       "3507059        3860           21   D3860-H21          0        0  Q1282394327   \n",
       "736806         3861           17   D3861-H17          0        0  Q4251023727   \n",
       "\n",
       "             user_id    answer_id  days_since_last_ans  \\\n",
       "8239342  M1000000382  A1260717197                   12   \n",
       "5345128  M1000000382          NaN                    2   \n",
       "9167807  M1000000382          NaN                    4   \n",
       "3507059  M1000000382          NaN                   18   \n",
       "736806   M1000000382          NaN                   19   \n",
       "\n",
       "         days_since_last_ans_scaled  create_weekday  \n",
       "8239342                    0.545455               6  \n",
       "5345128                    0.090909               1  \n",
       "9167807                    0.181818               3  \n",
       "3507059                    0.818182               3  \n",
       "736806                     0.863636               4  "
      ]
     },
     "execution_count": 105,
     "metadata": {},
     "output_type": "execute_result"
    }
   ],
   "source": [
    "test_invite_df.head()"
   ]
  },
  {
   "cell_type": "code",
   "execution_count": 106,
   "metadata": {},
   "outputs": [],
   "source": [
    "train_invite_df = test_invite_df.loc[test_invite_df['is_test'] == 0]"
   ]
  },
  {
   "cell_type": "code",
   "execution_count": 107,
   "metadata": {},
   "outputs": [],
   "source": [
    "new_invite_df = test_invite_df.loc[test_invite_df['is_test'] == 1]"
   ]
  },
  {
   "cell_type": "code",
   "execution_count": 108,
   "metadata": {},
   "outputs": [],
   "source": [
    "train_invite_df.to_csv(os.path.join(dataDir, 'invite_info_1107.csv'), sep= '\\t')"
   ]
  },
  {
   "cell_type": "code",
   "execution_count": 109,
   "metadata": {},
   "outputs": [],
   "source": [
    "new_invite_df.to_csv(os.path.join(dataDir, 'test_invite_info_1107.csv'), sep= '\\t')"
   ]
  },
  {
   "cell_type": "code",
   "execution_count": 76,
   "metadata": {},
   "outputs": [],
   "source": [
    "quest_id2ind = pd.read_csv(os.path.join(dataDir, 'question_info_1106.csv'),\n",
    "                           usecols= ['question_id', 'question_index'],\n",
    "                           sep= '\\t',\n",
    "                          index_col= 'question_id',\n",
    "                          squeeze= True).to_dict()"
   ]
  },
  {
   "cell_type": "code",
   "execution_count": 77,
   "metadata": {},
   "outputs": [],
   "source": [
    "quest_id2ind['-1'] = -1"
   ]
  },
  {
   "cell_type": "code",
   "execution_count": 78,
   "metadata": {
    "scrolled": true
   },
   "outputs": [
    {
     "name": "stdout",
     "output_type": "stream",
     "text": [
      "0 / 10448262\n",
      "100000 / 10448262\n",
      "200000 / 10448262\n",
      "300000 / 10448262\n",
      "400000 / 10448262\n",
      "500000 / 10448262\n",
      "600000 / 10448262\n",
      "700000 / 10448262\n",
      "800000 / 10448262\n",
      "900000 / 10448262\n",
      "1000000 / 10448262\n",
      "1100000 / 10448262\n",
      "1200000 / 10448262\n",
      "1300000 / 10448262\n",
      "1400000 / 10448262\n",
      "1500000 / 10448262\n",
      "1600000 / 10448262\n",
      "1700000 / 10448262\n",
      "1800000 / 10448262\n",
      "1900000 / 10448262\n",
      "2000000 / 10448262\n",
      "2100000 / 10448262\n",
      "2200000 / 10448262\n",
      "2300000 / 10448262\n",
      "2400000 / 10448262\n",
      "2500000 / 10448262\n",
      "2600000 / 10448262\n",
      "2700000 / 10448262\n",
      "2800000 / 10448262\n",
      "2900000 / 10448262\n",
      "3000000 / 10448262\n",
      "3100000 / 10448262\n",
      "3200000 / 10448262\n",
      "3300000 / 10448262\n",
      "3400000 / 10448262\n",
      "3500000 / 10448262\n",
      "3600000 / 10448262\n",
      "3700000 / 10448262\n",
      "3800000 / 10448262\n",
      "3900000 / 10448262\n",
      "4000000 / 10448262\n",
      "4100000 / 10448262\n",
      "4200000 / 10448262\n",
      "4300000 / 10448262\n",
      "4400000 / 10448262\n",
      "4500000 / 10448262\n",
      "4600000 / 10448262\n",
      "4700000 / 10448262\n",
      "4800000 / 10448262\n",
      "4900000 / 10448262\n",
      "5000000 / 10448262\n",
      "5100000 / 10448262\n",
      "5200000 / 10448262\n",
      "5300000 / 10448262\n",
      "5400000 / 10448262\n",
      "5500000 / 10448262\n",
      "5600000 / 10448262\n",
      "5700000 / 10448262\n",
      "5800000 / 10448262\n",
      "5900000 / 10448262\n",
      "6000000 / 10448262\n",
      "6100000 / 10448262\n",
      "6200000 / 10448262\n",
      "6300000 / 10448262\n",
      "6400000 / 10448262\n",
      "6500000 / 10448262\n",
      "6600000 / 10448262\n",
      "6700000 / 10448262\n",
      "6800000 / 10448262\n",
      "6900000 / 10448262\n",
      "7000000 / 10448262\n",
      "7100000 / 10448262\n",
      "7200000 / 10448262\n",
      "7300000 / 10448262\n",
      "7400000 / 10448262\n",
      "7500000 / 10448262\n",
      "7600000 / 10448262\n",
      "7700000 / 10448262\n",
      "7800000 / 10448262\n",
      "7900000 / 10448262\n",
      "8000000 / 10448262\n",
      "8100000 / 10448262\n",
      "8200000 / 10448262\n",
      "8300000 / 10448262\n",
      "8400000 / 10448262\n",
      "8500000 / 10448262\n",
      "8600000 / 10448262\n",
      "8700000 / 10448262\n",
      "8800000 / 10448262\n",
      "8900000 / 10448262\n",
      "9000000 / 10448262\n",
      "9100000 / 10448262\n",
      "9200000 / 10448262\n",
      "9300000 / 10448262\n",
      "9400000 / 10448262\n",
      "9500000 / 10448262\n",
      "9600000 / 10448262\n",
      "9700000 / 10448262\n",
      "9800000 / 10448262\n",
      "9900000 / 10448262\n",
      "10000000 / 10448262\n",
      "10100000 / 10448262\n",
      "10200000 / 10448262\n",
      "10300000 / 10448262\n",
      "10400000 / 10448262\n"
     ]
    }
   ],
   "source": [
    "hist_quest_inds = []\n",
    "for i, ls in enumerate(hist_quest_ids):\n",
    "    hist_quest_inds.append([quest_id2ind[quest_id] for quest_id in ls])\n",
    "    if i % 100000 == 0:\n",
    "        print( '%d / %d' %(i, len(hist_quest_ids)))"
   ]
  },
  {
   "cell_type": "code",
   "execution_count": 79,
   "metadata": {},
   "outputs": [],
   "source": [
    "hist_quest_ind_array = np.array(hist_quest_inds)"
   ]
  },
  {
   "cell_type": "code",
   "execution_count": 80,
   "metadata": {},
   "outputs": [],
   "source": [
    "train_hist_quest_array = hist_quest_ind_array[test_invite_df['is_test'] == 0]"
   ]
  },
  {
   "cell_type": "code",
   "execution_count": 81,
   "metadata": {},
   "outputs": [],
   "source": [
    "test_hist_quest_array = hist_quest_ind_array[test_invite_df['is_test'] == 1]"
   ]
  },
  {
   "cell_type": "code",
   "execution_count": 82,
   "metadata": {},
   "outputs": [
    {
     "data": {
      "text/plain": [
       "(9306579, 32)"
      ]
     },
     "execution_count": 82,
     "metadata": {},
     "output_type": "execute_result"
    }
   ],
   "source": [
    "train_hist_quest_array.shape"
   ]
  },
  {
   "cell_type": "code",
   "execution_count": 83,
   "metadata": {},
   "outputs": [
    {
     "data": {
      "text/plain": [
       "(1141683, 32)"
      ]
     },
     "execution_count": 83,
     "metadata": {},
     "output_type": "execute_result"
    }
   ],
   "source": [
    "test_hist_quest_array.shape"
   ]
  },
  {
   "cell_type": "code",
   "execution_count": 85,
   "metadata": {},
   "outputs": [],
   "source": [
    "np.save(os.path.join(dataDir, 'train_hist_quest_array.npy'),  train_hist_quest_array)"
   ]
  },
  {
   "cell_type": "code",
   "execution_count": 93,
   "metadata": {},
   "outputs": [],
   "source": [
    "np.save(os.path.join(dataDir, 'test_hist_quest_array.npy'),  test_hist_quest_array)"
   ]
  },
  {
   "cell_type": "code",
   "execution_count": 87,
   "metadata": {},
   "outputs": [],
   "source": [
    "ans_id2ind = pd.read_csv(os.path.join(dataDir, 'answer_info_1106.csv'),\n",
    "                           usecols= ['answer_id', 'answer_index'],\n",
    "                           sep= '\\t',\n",
    "                          index_col= 'answer_id',\n",
    "                          squeeze= True).to_dict()"
   ]
  },
  {
   "cell_type": "code",
   "execution_count": 88,
   "metadata": {},
   "outputs": [],
   "source": [
    "ans_id2ind['-1'] = -1"
   ]
  },
  {
   "cell_type": "code",
   "execution_count": 89,
   "metadata": {
    "scrolled": true
   },
   "outputs": [
    {
     "name": "stdout",
     "output_type": "stream",
     "text": [
      "0 / 10448262\n",
      "100000 / 10448262\n",
      "200000 / 10448262\n",
      "300000 / 10448262\n",
      "400000 / 10448262\n",
      "500000 / 10448262\n",
      "600000 / 10448262\n",
      "700000 / 10448262\n",
      "800000 / 10448262\n",
      "900000 / 10448262\n",
      "1000000 / 10448262\n",
      "1100000 / 10448262\n",
      "1200000 / 10448262\n",
      "1300000 / 10448262\n",
      "1400000 / 10448262\n",
      "1500000 / 10448262\n",
      "1600000 / 10448262\n",
      "1700000 / 10448262\n",
      "1800000 / 10448262\n",
      "1900000 / 10448262\n",
      "2000000 / 10448262\n",
      "2100000 / 10448262\n",
      "2200000 / 10448262\n",
      "2300000 / 10448262\n",
      "2400000 / 10448262\n",
      "2500000 / 10448262\n",
      "2600000 / 10448262\n",
      "2700000 / 10448262\n",
      "2800000 / 10448262\n",
      "2900000 / 10448262\n",
      "3000000 / 10448262\n",
      "3100000 / 10448262\n",
      "3200000 / 10448262\n",
      "3300000 / 10448262\n",
      "3400000 / 10448262\n",
      "3500000 / 10448262\n",
      "3600000 / 10448262\n",
      "3700000 / 10448262\n",
      "3800000 / 10448262\n",
      "3900000 / 10448262\n",
      "4000000 / 10448262\n",
      "4100000 / 10448262\n",
      "4200000 / 10448262\n",
      "4300000 / 10448262\n",
      "4400000 / 10448262\n",
      "4500000 / 10448262\n",
      "4600000 / 10448262\n",
      "4700000 / 10448262\n",
      "4800000 / 10448262\n",
      "4900000 / 10448262\n",
      "5000000 / 10448262\n",
      "5100000 / 10448262\n",
      "5200000 / 10448262\n",
      "5300000 / 10448262\n",
      "5400000 / 10448262\n",
      "5500000 / 10448262\n",
      "5600000 / 10448262\n",
      "5700000 / 10448262\n",
      "5800000 / 10448262\n",
      "5900000 / 10448262\n",
      "6000000 / 10448262\n",
      "6100000 / 10448262\n",
      "6200000 / 10448262\n",
      "6300000 / 10448262\n",
      "6400000 / 10448262\n",
      "6500000 / 10448262\n",
      "6600000 / 10448262\n",
      "6700000 / 10448262\n",
      "6800000 / 10448262\n",
      "6900000 / 10448262\n",
      "7000000 / 10448262\n",
      "7100000 / 10448262\n",
      "7200000 / 10448262\n",
      "7300000 / 10448262\n",
      "7400000 / 10448262\n",
      "7500000 / 10448262\n",
      "7600000 / 10448262\n",
      "7700000 / 10448262\n",
      "7800000 / 10448262\n",
      "7900000 / 10448262\n",
      "8000000 / 10448262\n",
      "8100000 / 10448262\n",
      "8200000 / 10448262\n",
      "8300000 / 10448262\n",
      "8400000 / 10448262\n",
      "8500000 / 10448262\n",
      "8600000 / 10448262\n",
      "8700000 / 10448262\n",
      "8800000 / 10448262\n",
      "8900000 / 10448262\n",
      "9000000 / 10448262\n",
      "9100000 / 10448262\n",
      "9200000 / 10448262\n",
      "9300000 / 10448262\n",
      "9400000 / 10448262\n",
      "9500000 / 10448262\n",
      "9600000 / 10448262\n",
      "9700000 / 10448262\n",
      "9800000 / 10448262\n",
      "9900000 / 10448262\n",
      "10000000 / 10448262\n",
      "10100000 / 10448262\n",
      "10200000 / 10448262\n",
      "10300000 / 10448262\n",
      "10400000 / 10448262\n"
     ]
    }
   ],
   "source": [
    "hist_ans_inds = []\n",
    "for i, ls in enumerate(hist_ans_ids):\n",
    "    hist_ans_inds.append([ans_id2ind[ans_id] for ans_id in ls])\n",
    "    if i % 100000 == 0:\n",
    "        print( '%d / %d' %(i, len(hist_ans_ids)))"
   ]
  },
  {
   "cell_type": "code",
   "execution_count": 90,
   "metadata": {},
   "outputs": [],
   "source": [
    "hist_ans_ind_array = np.array(hist_ans_inds)"
   ]
  },
  {
   "cell_type": "code",
   "execution_count": 91,
   "metadata": {},
   "outputs": [],
   "source": [
    "train_hist_ans_array = hist_ans_ind_array[test_invite_df['is_test'] == 0]"
   ]
  },
  {
   "cell_type": "code",
   "execution_count": 92,
   "metadata": {},
   "outputs": [],
   "source": [
    "test_hist_ans_array = hist_ans_ind_array[test_invite_df['is_test'] == 1]"
   ]
  },
  {
   "cell_type": "code",
   "execution_count": 94,
   "metadata": {},
   "outputs": [
    {
     "data": {
      "text/plain": [
       "(9306579, 32)"
      ]
     },
     "execution_count": 94,
     "metadata": {},
     "output_type": "execute_result"
    }
   ],
   "source": [
    "train_hist_ans_array.shape"
   ]
  },
  {
   "cell_type": "code",
   "execution_count": 95,
   "metadata": {},
   "outputs": [
    {
     "data": {
      "text/plain": [
       "(1141683, 32)"
      ]
     },
     "execution_count": 95,
     "metadata": {},
     "output_type": "execute_result"
    }
   ],
   "source": [
    "test_hist_ans_array.shape"
   ]
  },
  {
   "cell_type": "code",
   "execution_count": 96,
   "metadata": {},
   "outputs": [],
   "source": [
    "np.save(os.path.join(dataDir, 'train_hist_ans_array.npy'),  train_hist_ans_array)"
   ]
  },
  {
   "cell_type": "code",
   "execution_count": 97,
   "metadata": {},
   "outputs": [],
   "source": [
    "np.save(os.path.join(dataDir, 'test_hist_ans_array.npy'),  test_hist_ans_array)"
   ]
  },
  {
   "cell_type": "code",
   "execution_count": 100,
   "metadata": {},
   "outputs": [
    {
     "data": {
      "text/plain": [
       "array([[    -1,     -1,     -1,     -1,     -1,     -1,     -1,     -1,\n",
       "            -1,     -1,     -1,     -1,     -1,     -1,     -1,     -1,\n",
       "            -1,     -1,     -1,     -1,     -1,     -1,     -1,     -1,\n",
       "            -1,     -1,     -1,     -1,     -1,     -1,     -1,     -1],\n",
       "       [860889,     -1,     -1,     -1,     -1,     -1,     -1,     -1,\n",
       "            -1,     -1,     -1,     -1,     -1,     -1,     -1,     -1,\n",
       "            -1,     -1,     -1,     -1,     -1,     -1,     -1,     -1,\n",
       "            -1,     -1,     -1,     -1,     -1,     -1,     -1,     -1],\n",
       "       [860889,     -1,     -1,     -1,     -1,     -1,     -1,     -1,\n",
       "            -1,     -1,     -1,     -1,     -1,     -1,     -1,     -1,\n",
       "            -1,     -1,     -1,     -1,     -1,     -1,     -1,     -1,\n",
       "            -1,     -1,     -1,     -1,     -1,     -1,     -1,     -1],\n",
       "       [860889,     -1,     -1,     -1,     -1,     -1,     -1,     -1,\n",
       "            -1,     -1,     -1,     -1,     -1,     -1,     -1,     -1,\n",
       "            -1,     -1,     -1,     -1,     -1,     -1,     -1,     -1,\n",
       "            -1,     -1,     -1,     -1,     -1,     -1,     -1,     -1],\n",
       "       [860889,     -1,     -1,     -1,     -1,     -1,     -1,     -1,\n",
       "            -1,     -1,     -1,     -1,     -1,     -1,     -1,     -1,\n",
       "            -1,     -1,     -1,     -1,     -1,     -1,     -1,     -1,\n",
       "            -1,     -1,     -1,     -1,     -1,     -1,     -1,     -1],\n",
       "       [860889,     -1,     -1,     -1,     -1,     -1,     -1,     -1,\n",
       "            -1,     -1,     -1,     -1,     -1,     -1,     -1,     -1,\n",
       "            -1,     -1,     -1,     -1,     -1,     -1,     -1,     -1,\n",
       "            -1,     -1,     -1,     -1,     -1,     -1,     -1,     -1],\n",
       "       [860889,     -1,     -1,     -1,     -1,     -1,     -1,     -1,\n",
       "            -1,     -1,     -1,     -1,     -1,     -1,     -1,     -1,\n",
       "            -1,     -1,     -1,     -1,     -1,     -1,     -1,     -1,\n",
       "            -1,     -1,     -1,     -1,     -1,     -1,     -1,     -1],\n",
       "       [860889,     -1,     -1,     -1,     -1,     -1,     -1,     -1,\n",
       "            -1,     -1,     -1,     -1,     -1,     -1,     -1,     -1,\n",
       "            -1,     -1,     -1,     -1,     -1,     -1,     -1,     -1,\n",
       "            -1,     -1,     -1,     -1,     -1,     -1,     -1,     -1],\n",
       "       [    -1,     -1,     -1,     -1,     -1,     -1,     -1,     -1,\n",
       "            -1,     -1,     -1,     -1,     -1,     -1,     -1,     -1,\n",
       "            -1,     -1,     -1,     -1,     -1,     -1,     -1,     -1,\n",
       "            -1,     -1,     -1,     -1,     -1,     -1,     -1,     -1],\n",
       "       [    -1,     -1,     -1,     -1,     -1,     -1,     -1,     -1,\n",
       "            -1,     -1,     -1,     -1,     -1,     -1,     -1,     -1,\n",
       "            -1,     -1,     -1,     -1,     -1,     -1,     -1,     -1,\n",
       "            -1,     -1,     -1,     -1,     -1,     -1,     -1,     -1]])"
      ]
     },
     "execution_count": 100,
     "metadata": {},
     "output_type": "execute_result"
    }
   ],
   "source": [
    "train_hist_ans_array[:10,]"
   ]
  },
  {
   "cell_type": "markdown",
   "metadata": {},
   "source": [
    "#### 邀请距问题创建的天数"
   ]
  },
  {
   "cell_type": "code",
   "execution_count": null,
   "metadata": {},
   "outputs": [],
   "source": []
  }
 ],
 "metadata": {
  "kernelspec": {
   "display_name": "Python 3",
   "language": "python",
   "name": "python3"
  },
  "language_info": {
   "codemirror_mode": {
    "name": "ipython",
    "version": 3
   },
   "file_extension": ".py",
   "mimetype": "text/x-python",
   "name": "python",
   "nbconvert_exporter": "python",
   "pygments_lexer": "ipython3",
   "version": "3.6.7"
  },
  "pycharm": {
   "stem_cell": {
    "cell_type": "raw",
    "source": [],
    "metadata": {
     "collapsed": false
    }
   }
  }
 },
 "nbformat": 4,
 "nbformat_minor": 2
}