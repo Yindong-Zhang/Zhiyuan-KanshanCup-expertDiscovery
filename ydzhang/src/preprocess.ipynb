{
 "cells": [
  {
   "cell_type": "code",
   "execution_count": 4,
   "metadata": {},
   "outputs": [],
   "source": [
    "import pandas as pd\n",
    "import numpy as np\n",
    "import os"
   ]
  },
  {
   "cell_type": "code",
   "execution_count": 5,
   "metadata": {},
   "outputs": [],
   "source": [
    "dataDir = '../data'"
   ]
  },
  {
   "cell_type": "code",
   "execution_count": 6,
   "metadata": {},
   "outputs": [],
   "source": [
    "user_df = pd.read_csv(os.path.join(dataDir, 'member_info_1020.csv'),\n",
    "                              #names= ['user_id', 'gender', 'visit_freq', 'binary_A',\n",
    "                               #      'binary_B', 'binary_C', 'binary_D', 'binary_E',\n",
    "                                #     'category_A' 'category_B', 'category_C',\n",
    "                                 #    'category_D', 'category_E', 'salt', 'follow_topics', 'interest_topics'],\n",
    "                              #sep= ',',\n",
    "                      index_col= 'user_id',\n",
    "                      # nrows= 5000\n",
    "                     )"
   ]
  },
  {
   "cell_type": "code",
   "execution_count": 7,
   "metadata": {
    "scrolled": true
   },
   "outputs": [
    {
     "data": {
      "text/html": [
       "<div>\n",
       "<style scoped>\n",
       "    .dataframe tbody tr th:only-of-type {\n",
       "        vertical-align: middle;\n",
       "    }\n",
       "\n",
       "    .dataframe tbody tr th {\n",
       "        vertical-align: top;\n",
       "    }\n",
       "\n",
       "    .dataframe thead th {\n",
       "        text-align: right;\n",
       "    }\n",
       "</style>\n",
       "<table border=\"1\" class=\"dataframe\">\n",
       "  <thead>\n",
       "    <tr style=\"text-align: right;\">\n",
       "      <th></th>\n",
       "      <th>gender</th>\n",
       "      <th>visit_freq</th>\n",
       "      <th>binary_A</th>\n",
       "      <th>binary_B</th>\n",
       "      <th>binary_C</th>\n",
       "      <th>binary_D</th>\n",
       "      <th>binary_E</th>\n",
       "      <th>category_A</th>\n",
       "      <th>category_B</th>\n",
       "      <th>category_C</th>\n",
       "      <th>category_D</th>\n",
       "      <th>category_E</th>\n",
       "      <th>salt_value</th>\n",
       "      <th>follow_topics</th>\n",
       "      <th>interest_topics</th>\n",
       "    </tr>\n",
       "    <tr>\n",
       "      <th>user_id</th>\n",
       "      <th></th>\n",
       "      <th></th>\n",
       "      <th></th>\n",
       "      <th></th>\n",
       "      <th></th>\n",
       "      <th></th>\n",
       "      <th></th>\n",
       "      <th></th>\n",
       "      <th></th>\n",
       "      <th></th>\n",
       "      <th></th>\n",
       "      <th></th>\n",
       "      <th></th>\n",
       "      <th></th>\n",
       "      <th></th>\n",
       "    </tr>\n",
       "  </thead>\n",
       "  <tbody>\n",
       "    <tr>\n",
       "      <th>M1934753188</th>\n",
       "      <td>male</td>\n",
       "      <td>monthly</td>\n",
       "      <td>0</td>\n",
       "      <td>1</td>\n",
       "      <td>0</td>\n",
       "      <td>1</td>\n",
       "      <td>0</td>\n",
       "      <td>MD470265</td>\n",
       "      <td>BR470265</td>\n",
       "      <td>PV929066</td>\n",
       "      <td>CT929066</td>\n",
       "      <td>PF470265</td>\n",
       "      <td>764</td>\n",
       "      <td>T540</td>\n",
       "      <td>T21107:1.7915097,T405:1.6123838,T4436:1.518003...</td>\n",
       "    </tr>\n",
       "    <tr>\n",
       "      <th>M595924114</th>\n",
       "      <td>male</td>\n",
       "      <td>daily</td>\n",
       "      <td>0</td>\n",
       "      <td>0</td>\n",
       "      <td>0</td>\n",
       "      <td>1</td>\n",
       "      <td>1</td>\n",
       "      <td>Others</td>\n",
       "      <td>BR596936</td>\n",
       "      <td>PV002320</td>\n",
       "      <td>CT840234</td>\n",
       "      <td>PF470265</td>\n",
       "      <td>671</td>\n",
       "      <td>T44126,T15940,T839,T8978,T2934,T1113,T3914,T12...</td>\n",
       "      <td>T18016:2.0650618,T2384:1.2503042,T1142:1.13569...</td>\n",
       "    </tr>\n",
       "    <tr>\n",
       "      <th>M1473482940</th>\n",
       "      <td>female</td>\n",
       "      <td>weekly</td>\n",
       "      <td>0</td>\n",
       "      <td>1</td>\n",
       "      <td>0</td>\n",
       "      <td>1</td>\n",
       "      <td>0</td>\n",
       "      <td>MD116493</td>\n",
       "      <td>BR641329</td>\n",
       "      <td>PV170953</td>\n",
       "      <td>CT470265</td>\n",
       "      <td>PF470265</td>\n",
       "      <td>454</td>\n",
       "      <td>T30874,T2113,T8656,T21,T523,T8,T116,T5727,T68,...</td>\n",
       "      <td>T46:1.330939,T2159:1.1296458,T379:1.1241927,T1...</td>\n",
       "    </tr>\n",
       "    <tr>\n",
       "      <th>M578477092</th>\n",
       "      <td>male</td>\n",
       "      <td>daily</td>\n",
       "      <td>1</td>\n",
       "      <td>1</td>\n",
       "      <td>0</td>\n",
       "      <td>1</td>\n",
       "      <td>0</td>\n",
       "      <td>MD889589</td>\n",
       "      <td>BR803759</td>\n",
       "      <td>PV545833</td>\n",
       "      <td>CT545833</td>\n",
       "      <td>PF470265</td>\n",
       "      <td>588</td>\n",
       "      <td>T946,T7323,T297,T2660,T36067,T53107,T2654,T507...</td>\n",
       "      <td>T15918:1.9479566,T8106:1.8578106,T4787:1.58486...</td>\n",
       "    </tr>\n",
       "    <tr>\n",
       "      <th>M1088794709</th>\n",
       "      <td>male</td>\n",
       "      <td>weekly</td>\n",
       "      <td>0</td>\n",
       "      <td>1</td>\n",
       "      <td>0</td>\n",
       "      <td>0</td>\n",
       "      <td>0</td>\n",
       "      <td>MD825760</td>\n",
       "      <td>BR641329</td>\n",
       "      <td>PV071037</td>\n",
       "      <td>CT470265</td>\n",
       "      <td>PF470265</td>\n",
       "      <td>361</td>\n",
       "      <td>T582,T558,T28776,T5186,T9081,T2419,T2693,T2299...</td>\n",
       "      <td>T65:1.5992582,T867:1.3179373,T93:1.2095009,T31...</td>\n",
       "    </tr>\n",
       "  </tbody>\n",
       "</table>\n",
       "</div>"
      ],
      "text/plain": [
       "             gender visit_freq  binary_A  binary_B  binary_C  binary_D  \\\n",
       "user_id                                                                  \n",
       "M1934753188    male    monthly         0         1         0         1   \n",
       "M595924114     male      daily         0         0         0         1   \n",
       "M1473482940  female     weekly         0         1         0         1   \n",
       "M578477092     male      daily         1         1         0         1   \n",
       "M1088794709    male     weekly         0         1         0         0   \n",
       "\n",
       "             binary_E category_A category_B category_C category_D category_E  \\\n",
       "user_id                                                                        \n",
       "M1934753188         0   MD470265   BR470265   PV929066   CT929066   PF470265   \n",
       "M595924114          1     Others   BR596936   PV002320   CT840234   PF470265   \n",
       "M1473482940         0   MD116493   BR641329   PV170953   CT470265   PF470265   \n",
       "M578477092          0   MD889589   BR803759   PV545833   CT545833   PF470265   \n",
       "M1088794709         0   MD825760   BR641329   PV071037   CT470265   PF470265   \n",
       "\n",
       "             salt_value                                      follow_topics  \\\n",
       "user_id                                                                      \n",
       "M1934753188         764                                               T540   \n",
       "M595924114          671  T44126,T15940,T839,T8978,T2934,T1113,T3914,T12...   \n",
       "M1473482940         454  T30874,T2113,T8656,T21,T523,T8,T116,T5727,T68,...   \n",
       "M578477092          588  T946,T7323,T297,T2660,T36067,T53107,T2654,T507...   \n",
       "M1088794709         361  T582,T558,T28776,T5186,T9081,T2419,T2693,T2299...   \n",
       "\n",
       "                                               interest_topics  \n",
       "user_id                                                         \n",
       "M1934753188  T21107:1.7915097,T405:1.6123838,T4436:1.518003...  \n",
       "M595924114   T18016:2.0650618,T2384:1.2503042,T1142:1.13569...  \n",
       "M1473482940  T46:1.330939,T2159:1.1296458,T379:1.1241927,T1...  \n",
       "M578477092   T15918:1.9479566,T8106:1.8578106,T4787:1.58486...  \n",
       "M1088794709  T65:1.5992582,T867:1.3179373,T93:1.2095009,T31...  "
      ]
     },
     "execution_count": 7,
     "metadata": {},
     "output_type": "execute_result"
    }
   ],
   "source": [
    "user_df.head()"
   ]
  },
  {
   "cell_type": "code",
   "execution_count": 16,
   "metadata": {},
   "outputs": [
    {
     "data": {
      "text/html": [
       "<div>\n",
       "<style scoped>\n",
       "    .dataframe tbody tr th:only-of-type {\n",
       "        vertical-align: middle;\n",
       "    }\n",
       "\n",
       "    .dataframe tbody tr th {\n",
       "        vertical-align: top;\n",
       "    }\n",
       "\n",
       "    .dataframe thead th {\n",
       "        text-align: right;\n",
       "    }\n",
       "</style>\n",
       "<table border=\"1\" class=\"dataframe\">\n",
       "  <thead>\n",
       "    <tr style=\"text-align: right;\">\n",
       "      <th></th>\n",
       "      <th>binary_A</th>\n",
       "      <th>binary_B</th>\n",
       "      <th>binary_C</th>\n",
       "      <th>binary_D</th>\n",
       "      <th>binary_E</th>\n",
       "      <th>salt_value</th>\n",
       "      <th>follow_topics_mp</th>\n",
       "    </tr>\n",
       "  </thead>\n",
       "  <tbody>\n",
       "    <tr>\n",
       "      <th>count</th>\n",
       "      <td>1.931654e+06</td>\n",
       "      <td>1.931654e+06</td>\n",
       "      <td>1.931654e+06</td>\n",
       "      <td>1.931654e+06</td>\n",
       "      <td>1.931654e+06</td>\n",
       "      <td>1.931654e+06</td>\n",
       "      <td>1.931654e+06</td>\n",
       "    </tr>\n",
       "    <tr>\n",
       "      <th>mean</th>\n",
       "      <td>5.973637e-01</td>\n",
       "      <td>3.117147e-01</td>\n",
       "      <td>2.953117e-02</td>\n",
       "      <td>1.475352e-01</td>\n",
       "      <td>5.420381e-02</td>\n",
       "      <td>3.165209e-01</td>\n",
       "      <td>9.658265e+05</td>\n",
       "    </tr>\n",
       "    <tr>\n",
       "      <th>std</th>\n",
       "      <td>4.904288e-01</td>\n",
       "      <td>4.631941e-01</td>\n",
       "      <td>1.692900e-01</td>\n",
       "      <td>3.546388e-01</td>\n",
       "      <td>2.264195e-01</td>\n",
       "      <td>1.039011e-01</td>\n",
       "      <td>5.576206e+05</td>\n",
       "    </tr>\n",
       "    <tr>\n",
       "      <th>min</th>\n",
       "      <td>0.000000e+00</td>\n",
       "      <td>0.000000e+00</td>\n",
       "      <td>0.000000e+00</td>\n",
       "      <td>0.000000e+00</td>\n",
       "      <td>0.000000e+00</td>\n",
       "      <td>0.000000e+00</td>\n",
       "      <td>0.000000e+00</td>\n",
       "    </tr>\n",
       "    <tr>\n",
       "      <th>25%</th>\n",
       "      <td>0.000000e+00</td>\n",
       "      <td>0.000000e+00</td>\n",
       "      <td>0.000000e+00</td>\n",
       "      <td>0.000000e+00</td>\n",
       "      <td>0.000000e+00</td>\n",
       "      <td>2.515723e-01</td>\n",
       "      <td>4.829132e+05</td>\n",
       "    </tr>\n",
       "    <tr>\n",
       "      <th>50%</th>\n",
       "      <td>1.000000e+00</td>\n",
       "      <td>0.000000e+00</td>\n",
       "      <td>0.000000e+00</td>\n",
       "      <td>0.000000e+00</td>\n",
       "      <td>0.000000e+00</td>\n",
       "      <td>2.830189e-01</td>\n",
       "      <td>9.658265e+05</td>\n",
       "    </tr>\n",
       "    <tr>\n",
       "      <th>75%</th>\n",
       "      <td>1.000000e+00</td>\n",
       "      <td>1.000000e+00</td>\n",
       "      <td>0.000000e+00</td>\n",
       "      <td>0.000000e+00</td>\n",
       "      <td>0.000000e+00</td>\n",
       "      <td>3.496855e-01</td>\n",
       "      <td>1.448740e+06</td>\n",
       "    </tr>\n",
       "    <tr>\n",
       "      <th>max</th>\n",
       "      <td>1.000000e+00</td>\n",
       "      <td>1.000000e+00</td>\n",
       "      <td>1.000000e+00</td>\n",
       "      <td>1.000000e+00</td>\n",
       "      <td>1.000000e+00</td>\n",
       "      <td>1.000000e+00</td>\n",
       "      <td>1.931653e+06</td>\n",
       "    </tr>\n",
       "  </tbody>\n",
       "</table>\n",
       "</div>"
      ],
      "text/plain": [
       "           binary_A      binary_B      binary_C      binary_D      binary_E  \\\n",
       "count  1.931654e+06  1.931654e+06  1.931654e+06  1.931654e+06  1.931654e+06   \n",
       "mean   5.973637e-01  3.117147e-01  2.953117e-02  1.475352e-01  5.420381e-02   \n",
       "std    4.904288e-01  4.631941e-01  1.692900e-01  3.546388e-01  2.264195e-01   \n",
       "min    0.000000e+00  0.000000e+00  0.000000e+00  0.000000e+00  0.000000e+00   \n",
       "25%    0.000000e+00  0.000000e+00  0.000000e+00  0.000000e+00  0.000000e+00   \n",
       "50%    1.000000e+00  0.000000e+00  0.000000e+00  0.000000e+00  0.000000e+00   \n",
       "75%    1.000000e+00  1.000000e+00  0.000000e+00  0.000000e+00  0.000000e+00   \n",
       "max    1.000000e+00  1.000000e+00  1.000000e+00  1.000000e+00  1.000000e+00   \n",
       "\n",
       "         salt_value  follow_topics_mp  \n",
       "count  1.931654e+06      1.931654e+06  \n",
       "mean   3.165209e-01      9.658265e+05  \n",
       "std    1.039011e-01      5.576206e+05  \n",
       "min    0.000000e+00      0.000000e+00  \n",
       "25%    2.515723e-01      4.829132e+05  \n",
       "50%    2.830189e-01      9.658265e+05  \n",
       "75%    3.496855e-01      1.448740e+06  \n",
       "max    1.000000e+00      1.931653e+06  "
      ]
     },
     "execution_count": 16,
     "metadata": {},
     "output_type": "execute_result"
    }
   ],
   "source": [
    "user_df.describe()"
   ]
  },
  {
   "cell_type": "markdown",
   "metadata": {},
   "source": [
    "### topic word embedding"
   ]
  },
  {
   "cell_type": "code",
   "execution_count": 4,
   "metadata": {},
   "outputs": [],
   "source": [
    "topic_ids = pd.read_csv(os.path.join(dataDir, 'topic_vectors_64d.txt'),\n",
    "                        names = ['topic_id', 'vector'],\n",
    "                        usecols = ['topic_id', ],\n",
    "                        index_col= 'topic_id',\n",
    "                        sep = '\\t',\n",
    "                        squeeze= True)"
   ]
  },
  {
   "cell_type": "code",
   "execution_count": 53,
   "metadata": {},
   "outputs": [],
   "source": [
    "num_topics = len(topic_ids)"
   ]
  },
  {
   "cell_type": "code",
   "execution_count": 96,
   "metadata": {},
   "outputs": [],
   "source": [
    "topic_vec = np.load(os.path.join(dataDir, 'topic_array.npy'))"
   ]
  },
  {
   "cell_type": "code",
   "execution_count": 97,
   "metadata": {},
   "outputs": [
    {
     "data": {
      "text/plain": [
       "dtype('float64')"
      ]
     },
     "execution_count": 97,
     "metadata": {},
     "output_type": "execute_result"
    }
   ],
   "source": [
    "topic_vec.dtype"
   ]
  },
  {
   "cell_type": "markdown",
   "metadata": {},
   "source": [
    "## 处理　follow topics:"
   ]
  },
  {
   "cell_type": "code",
   "execution_count": 92,
   "metadata": {},
   "outputs": [],
   "source": [
    "topic_idmap = pd.Series(np.int64(np.arange(len(topic_ids))), index = topic_ids.index)"
   ]
  },
  {
   "cell_type": "code",
   "execution_count": 93,
   "metadata": {},
   "outputs": [],
   "source": [
    "topic_idmap['-1'] = 10000"
   ]
  },
  {
   "cell_type": "code",
   "execution_count": 94,
   "metadata": {},
   "outputs": [
    {
     "data": {
      "text/plain": [
       "pandas.core.series.Series"
      ]
     },
     "execution_count": 94,
     "metadata": {},
     "output_type": "execute_result"
    }
   ],
   "source": [
    "type(topic_idmap)"
   ]
  },
  {
   "cell_type": "code",
   "execution_count": 95,
   "metadata": {},
   "outputs": [
    {
     "data": {
      "text/plain": [
       "dtype('int64')"
      ]
     },
     "execution_count": 95,
     "metadata": {},
     "output_type": "execute_result"
    }
   ],
   "source": [
    "topic_idmap.dtype"
   ]
  },
  {
   "cell_type": "markdown",
   "metadata": {},
   "source": [
    "#### -1 对应的　topic 以加权均值填充"
   ]
  },
  {
   "cell_type": "code",
   "execution_count": 99,
   "metadata": {},
   "outputs": [],
   "source": [
    "tp_count = np.zeros((num_topics, 1))\n",
    "for tp_s in user_df['follow_topics']:\n",
    "    if tp_s != '-1':\n",
    "        id_list = s.split(',')\n",
    "        ind_list = topic_idmap[id_list].tolist()\n",
    "        for ind in ind_list:\n",
    "            tp_count[ind] += 1"
   ]
  },
  {
   "cell_type": "code",
   "execution_count": 100,
   "metadata": {},
   "outputs": [],
   "source": [
    "tp_weighted_mean = np.max(np.multiply(topic_vec, tp_count), axis= 0) / np.sum(tp_count)"
   ]
  },
  {
   "cell_type": "code",
   "execution_count": 101,
   "metadata": {},
   "outputs": [
    {
     "data": {
      "text/plain": [
       "(64,)"
      ]
     },
     "execution_count": 101,
     "metadata": {},
     "output_type": "execute_result"
    }
   ],
   "source": [
    "tp_weighted_mean.shape"
   ]
  },
  {
   "cell_type": "code",
   "execution_count": 102,
   "metadata": {},
   "outputs": [],
   "source": [
    "topic_vec_cat = np.concatenate([topic_vec, tp_weighted_mean.reshape(1, -1)], axis= 0)"
   ]
  },
  {
   "cell_type": "code",
   "execution_count": 103,
   "metadata": {},
   "outputs": [
    {
     "data": {
      "text/plain": [
       "(100001, 64)"
      ]
     },
     "execution_count": 103,
     "metadata": {},
     "output_type": "execute_result"
    }
   ],
   "source": [
    "topic_vec_cat.shape"
   ]
  },
  {
   "cell_type": "code",
   "execution_count": 104,
   "metadata": {},
   "outputs": [],
   "source": [
    "def map_topics(s):\n",
    "    try:\n",
    "        id_list = s.split(',')\n",
    "        ind_list = topic_idmap[id_list].tolist()\n",
    "        topic_array = topic_vec[ind_list]\n",
    "        topic_mp = np.max(topic_array, axis= 0)\n",
    "    except:\n",
    "        print(ind_list)\n",
    "    return topic_mp"
   ]
  },
  {
   "cell_type": "code",
   "execution_count": 105,
   "metadata": {},
   "outputs": [],
   "source": [
    "user_df['follow_topics_mp_vec'] = user_df['follow_topics'].apply(map_topics)"
   ]
  },
  {
   "cell_type": "code",
   "execution_count": 106,
   "metadata": {
    "scrolled": true
   },
   "outputs": [
    {
     "data": {
      "text/plain": [
       "user_id\n",
       "M1934753188    [6.125305, -1.4180568, -1.3143845, -2.9268239,...\n",
       "M595924114     [3.8494484, 3.977306, 5.7516003, 4.9546337, 4....\n",
       "M1473482940    [3.4723787, 4.6616564, 3.5893476, 5.427303, 5....\n",
       "M578477092     [8.753078, 7.646762, 7.8675485, 5.283248, 6.17...\n",
       "M1088794709    [9.542506, 4.7182026, 4.145554, 2.87201, 7.516...\n",
       "Name: follow_topics_mp_vec, dtype: object"
      ]
     },
     "execution_count": 106,
     "metadata": {},
     "output_type": "execute_result"
    }
   ],
   "source": [
    "user_df['follow_topics_mp_vec'].head()"
   ]
  },
  {
   "cell_type": "code",
   "execution_count": 112,
   "metadata": {},
   "outputs": [],
   "source": [
    "follow_tp_mp_array = np.array(user_df['follow_topics_mp_vec'].tolist())"
   ]
  },
  {
   "cell_type": "code",
   "execution_count": 113,
   "metadata": {},
   "outputs": [
    {
     "data": {
      "text/plain": [
       "(1931654, 64)"
      ]
     },
     "execution_count": 113,
     "metadata": {},
     "output_type": "execute_result"
    }
   ],
   "source": [
    "follow_tp_mp_array.shape"
   ]
  },
  {
   "cell_type": "code",
   "execution_count": 152,
   "metadata": {},
   "outputs": [],
   "source": [
    "np.save(os.path.join(dataDir, 'user_follow_topics_mp.npy'), follow_tp_mp_array)"
   ]
  },
  {
   "cell_type": "markdown",
   "metadata": {},
   "source": [
    "### 添加topic 对应索引列"
   ]
  },
  {
   "cell_type": "code",
   "execution_count": 8,
   "metadata": {},
   "outputs": [],
   "source": [
    "user_df['follow_topics_mp'] = np.arange(len(user_df))"
   ]
  },
  {
   "cell_type": "markdown",
   "metadata": {},
   "source": [
    "### 盐值 salt value归一化"
   ]
  },
  {
   "cell_type": "code",
   "execution_count": 9,
   "metadata": {},
   "outputs": [],
   "source": [
    "from sklearn.preprocessing import MinMaxScaler"
   ]
  },
  {
   "cell_type": "code",
   "execution_count": 10,
   "metadata": {},
   "outputs": [],
   "source": [
    "saltValueScaler = MinMaxScaler((0, 1))"
   ]
  },
  {
   "cell_type": "code",
   "execution_count": 12,
   "metadata": {
    "scrolled": true
   },
   "outputs": [
    {
     "name": "stderr",
     "output_type": "stream",
     "text": [
      "/home/sc3/miniconda2/envs/ydzhang/lib/python3.6/site-packages/sklearn/preprocessing/data.py:323: DataConversionWarning: Data with input dtype int64 were all converted to float64 by MinMaxScaler.\n",
      "  return self.partial_fit(X, y)\n"
     ]
    }
   ],
   "source": [
    "user_df['salt_value'] = saltValueScaler.fit_transform(user_df[['salt_value', ]])"
   ]
  },
  {
   "cell_type": "markdown",
   "metadata": {},
   "source": [
    "### 编码类别属性"
   ]
  },
  {
   "cell_type": "code",
   "execution_count": 15,
   "metadata": {},
   "outputs": [],
   "source": [
    "from sklearn.preprocessing import LabelEncoder"
   ]
  },
  {
   "cell_type": "code",
   "execution_count": 17,
   "metadata": {},
   "outputs": [],
   "source": [
    "gender_encoder = LabelEncoder()"
   ]
  },
  {
   "cell_type": "code",
   "execution_count": 18,
   "metadata": {},
   "outputs": [],
   "source": [
    "user_df['gender'] = gender_encoder.fit_transform(user_df['gender'])"
   ]
  },
  {
   "cell_type": "code",
   "execution_count": 19,
   "metadata": {},
   "outputs": [],
   "source": [
    "visitFreq_encoder = LabelEncoder()"
   ]
  },
  {
   "cell_type": "code",
   "execution_count": 21,
   "metadata": {},
   "outputs": [],
   "source": [
    "user_df['visit_freq'] = visitFreq_encoder.fit_transform(user_df['visit_freq'])"
   ]
  },
  {
   "cell_type": "code",
   "execution_count": 22,
   "metadata": {},
   "outputs": [],
   "source": [
    "category_A_encoder = LabelEncoder()\n",
    "\n",
    "user_df['category_A'] = category_A_encoder.fit_transform(user_df['category_A'])"
   ]
  },
  {
   "cell_type": "code",
   "execution_count": 24,
   "metadata": {},
   "outputs": [],
   "source": [
    "category_B_encoder = LabelEncoder()\n",
    "\n",
    "user_df['category_B'] = category_B_encoder.fit_transform(user_df['category_B'])"
   ]
  },
  {
   "cell_type": "code",
   "execution_count": 25,
   "metadata": {},
   "outputs": [],
   "source": [
    "category_C_encoder = LabelEncoder()\n",
    "\n",
    "user_df['category_C'] = category_C_encoder.fit_transform(user_df['category_C'])"
   ]
  },
  {
   "cell_type": "code",
   "execution_count": 28,
   "metadata": {},
   "outputs": [],
   "source": [
    "category_D_encoder = LabelEncoder()\n",
    "\n",
    "user_df['category_D'] = category_D_encoder.fit_transform(user_df['category_D'])"
   ]
  },
  {
   "cell_type": "code",
   "execution_count": 27,
   "metadata": {},
   "outputs": [],
   "source": [
    "category_E_encoder = LabelEncoder()\n",
    "\n",
    "user_df['category_E'] = category_E_encoder.fit_transform(user_df['category_E'])"
   ]
  },
  {
   "cell_type": "markdown",
   "metadata": {},
   "source": [
    "### 输出user_df"
   ]
  },
  {
   "cell_type": "code",
   "execution_count": 30,
   "metadata": {},
   "outputs": [],
   "source": [
    "user_df.to_csv(os.path.join(dataDir, 'member_info_1021.csv'),\n",
    "                              columns= ['gender', 'visit_freq', 'binary_A',\n",
    "                                    'binary_B', 'binary_C', 'binary_D', 'binary_E',\n",
    "                                    'category_A', 'category_B', 'category_C',\n",
    "                                    'category_D', 'category_E', 'salt_value', 'follow_topics_mp', 'interest_topics'],\n",
    "                              sep= '\\t',)"
   ]
  },
  {
   "cell_type": "code",
   "execution_count": 149,
   "metadata": {},
   "outputs": [
    {
     "name": "stdout",
     "output_type": "stream",
     "text": [
      "Help on function to_csv in module pandas.core.generic:\n",
      "\n",
      "to_csv(self, path_or_buf=None, sep=',', na_rep='', float_format=None, columns=None, header=True, index=True, index_label=None, mode='w', encoding=None, compression='infer', quoting=None, quotechar='\"', line_terminator=None, chunksize=None, tupleize_cols=None, date_format=None, doublequote=True, escapechar=None, decimal='.')\n",
      "    Write object to a comma-separated values (csv) file.\n",
      "    \n",
      "    .. versionchanged:: 0.24.0\n",
      "        The order of arguments for Series was changed.\n",
      "    \n",
      "    Parameters\n",
      "    ----------\n",
      "    path_or_buf : str or file handle, default None\n",
      "        File path or object, if None is provided the result is returned as\n",
      "        a string.  If a file object is passed it should be opened with\n",
      "        `newline=''`, disabling universal newlines.\n",
      "    \n",
      "        .. versionchanged:: 0.24.0\n",
      "    \n",
      "           Was previously named \"path\" for Series.\n",
      "    \n",
      "    sep : str, default ','\n",
      "        String of length 1. Field delimiter for the output file.\n",
      "    na_rep : str, default ''\n",
      "        Missing data representation.\n",
      "    float_format : str, default None\n",
      "        Format string for floating point numbers.\n",
      "    columns : sequence, optional\n",
      "        Columns to write.\n",
      "    header : bool or list of str, default True\n",
      "        Write out the column names. If a list of strings is given it is\n",
      "        assumed to be aliases for the column names.\n",
      "    \n",
      "        .. versionchanged:: 0.24.0\n",
      "    \n",
      "           Previously defaulted to False for Series.\n",
      "    \n",
      "    index : bool, default True\n",
      "        Write row names (index).\n",
      "    index_label : str or sequence, or False, default None\n",
      "        Column label for index column(s) if desired. If None is given, and\n",
      "        `header` and `index` are True, then the index names are used. A\n",
      "        sequence should be given if the object uses MultiIndex. If\n",
      "        False do not print fields for index names. Use index_label=False\n",
      "        for easier importing in R.\n",
      "    mode : str\n",
      "        Python write mode, default 'w'.\n",
      "    encoding : str, optional\n",
      "        A string representing the encoding to use in the output file,\n",
      "        defaults to 'ascii' on Python 2 and 'utf-8' on Python 3.\n",
      "    compression : str, default 'infer'\n",
      "        Compression mode among the following possible values: {'infer',\n",
      "        'gzip', 'bz2', 'zip', 'xz', None}. If 'infer' and `path_or_buf`\n",
      "        is path-like, then detect compression from the following\n",
      "        extensions: '.gz', '.bz2', '.zip' or '.xz'. (otherwise no\n",
      "        compression).\n",
      "    \n",
      "        .. versionchanged:: 0.24.0\n",
      "    \n",
      "           'infer' option added and set to default.\n",
      "    \n",
      "    quoting : optional constant from csv module\n",
      "        Defaults to csv.QUOTE_MINIMAL. If you have set a `float_format`\n",
      "        then floats are converted to strings and thus csv.QUOTE_NONNUMERIC\n",
      "        will treat them as non-numeric.\n",
      "    quotechar : str, default '\\\"'\n",
      "        String of length 1. Character used to quote fields.\n",
      "    line_terminator : string, optional\n",
      "        The newline character or character sequence to use in the output\n",
      "        file. Defaults to `os.linesep`, which depends on the OS in which\n",
      "        this method is called ('\\n' for linux, '\\r\\n' for Windows, i.e.).\n",
      "    \n",
      "        .. versionchanged:: 0.24.0\n",
      "    chunksize : int or None\n",
      "        Rows to write at a time.\n",
      "    tupleize_cols : bool, default False\n",
      "        Write MultiIndex columns as a list of tuples (if True) or in\n",
      "        the new, expanded format, where each MultiIndex column is a row\n",
      "        in the CSV (if False).\n",
      "    \n",
      "        .. deprecated:: 0.21.0\n",
      "           This argument will be removed and will always write each row\n",
      "           of the multi-index as a separate row in the CSV file.\n",
      "    date_format : str, default None\n",
      "        Format string for datetime objects.\n",
      "    doublequote : bool, default True\n",
      "        Control quoting of `quotechar` inside a field.\n",
      "    escapechar : str, default None\n",
      "        String of length 1. Character used to escape `sep` and `quotechar`\n",
      "        when appropriate.\n",
      "    decimal : str, default '.'\n",
      "        Character recognized as decimal separator. E.g. use ',' for\n",
      "        European data.\n",
      "    \n",
      "    Returns\n",
      "    -------\n",
      "    None or str\n",
      "        If path_or_buf is None, returns the resulting csv format as a\n",
      "        string. Otherwise returns None.\n",
      "    \n",
      "    See Also\n",
      "    --------\n",
      "    read_csv : Load a CSV file into a DataFrame.\n",
      "    to_excel : Load an Excel file into a DataFrame.\n",
      "    \n",
      "    Examples\n",
      "    --------\n",
      "    >>> df = pd.DataFrame({'name': ['Raphael', 'Donatello'],\n",
      "    ...                    'mask': ['red', 'purple'],\n",
      "    ...                    'weapon': ['sai', 'bo staff']})\n",
      "    >>> df.to_csv(index=False)\n",
      "    'name,mask,weapon\\nRaphael,red,sai\\nDonatello,purple,bo staff\\n'\n",
      "\n"
     ]
    }
   ],
   "source": [
    "help(pd.DataFrame.to_csv)"
   ]
  },
  {
   "cell_type": "markdown",
   "metadata": {},
   "source": [
    "### TODO: 处理　interest_topic"
   ]
  },
  {
   "cell_type": "code",
   "execution_count": 131,
   "metadata": {},
   "outputs": [],
   "source": [
    "tp_weight = np.zeros((num_topics, 1))\n",
    "for tp_s in user_df['interest_topics']:\n",
    "    if tp_s != '-1':\n",
    "        id_str_list = tp_s.split(',')\n",
    "        for id_str in id_str_list:\n",
    "            tp_id, weight_str = id_str.split(':')\n",
    "            weight = float(weight_str)\n",
    "            # print(tp_id, weight)\n",
    "            tp_weight[topic_idmap[tp_id]] += weight"
   ]
  },
  {
   "cell_type": "code",
   "execution_count": 134,
   "metadata": {
    "scrolled": true
   },
   "outputs": [
    {
     "data": {
      "text/plain": [
       "array([[    0.        ],\n",
       "       [51948.39888056],\n",
       "       [33987.26315429],\n",
       "       [17684.07810108],\n",
       "       [40966.03172979],\n",
       "       [22649.40822608],\n",
       "       [15049.13911903],\n",
       "       [40835.19418761],\n",
       "       [48815.12520887],\n",
       "       [20187.81928158],\n",
       "       [23216.35223568],\n",
       "       [13801.42462087],\n",
       "       [17182.09323776],\n",
       "       [ 5656.35933362],\n",
       "       [15851.46695401],\n",
       "       [27580.26397775],\n",
       "       [29635.54168217],\n",
       "       [41146.43601064],\n",
       "       [34605.12741778],\n",
       "       [14411.78559699],\n",
       "       [10410.12467941],\n",
       "       [29863.90690965],\n",
       "       [20313.63107364],\n",
       "       [20513.03201613],\n",
       "       [20674.17432297],\n",
       "       [34228.18583081],\n",
       "       [10657.10852358],\n",
       "       [32626.13109777],\n",
       "       [30295.55705368],\n",
       "       [ 4933.24136651],\n",
       "       [67045.66956224],\n",
       "       [17145.51438338],\n",
       "       [ 8797.63776966],\n",
       "       [ 8251.64858598],\n",
       "       [12180.62890914],\n",
       "       [23916.00224894],\n",
       "       [21275.02661513],\n",
       "       [24758.36588506],\n",
       "       [19960.98524567],\n",
       "       [16299.62462713],\n",
       "       [14548.58706416],\n",
       "       [29317.21609574],\n",
       "       [10735.92388229],\n",
       "       [25165.75908229],\n",
       "       [ 9254.96275879],\n",
       "       [61696.20425161],\n",
       "       [15641.60637763],\n",
       "       [ 8285.11227341],\n",
       "       [15377.62259203],\n",
       "       [38239.9067816 ],\n",
       "       [37332.04058335],\n",
       "       [ 8637.38529485],\n",
       "       [17170.67910261],\n",
       "       [ 4779.94655955],\n",
       "       [15380.14983296],\n",
       "       [10695.28464626],\n",
       "       [25950.765228  ],\n",
       "       [18500.63566351],\n",
       "       [ 2228.5267738 ],\n",
       "       [11528.16068224],\n",
       "       [18327.56388374],\n",
       "       [20638.97955544],\n",
       "       [ 8757.30737393],\n",
       "       [11279.06509112],\n",
       "       [16931.34393732],\n",
       "       [ 7401.9351904 ],\n",
       "       [ 3633.32257113],\n",
       "       [21408.64265876],\n",
       "       [ 7895.70529427],\n",
       "       [15593.70754882],\n",
       "       [ 9085.14862558],\n",
       "       [ 6687.44880939],\n",
       "       [29389.57015468],\n",
       "       [ 7146.20742283],\n",
       "       [38174.44589498],\n",
       "       [22181.40310246],\n",
       "       [ 1834.2916335 ],\n",
       "       [53506.6302265 ],\n",
       "       [ 3506.74610284],\n",
       "       [15295.26985312],\n",
       "       [13381.11864098],\n",
       "       [12689.21377093],\n",
       "       [ 9329.19722771],\n",
       "       [21190.61746222],\n",
       "       [ 1740.77196953],\n",
       "       [ 9008.15866013],\n",
       "       [11796.77228318],\n",
       "       [12944.20608954],\n",
       "       [20843.30711792],\n",
       "       [ 9870.51629342],\n",
       "       [ 5930.47723757],\n",
       "       [ 2920.36212289],\n",
       "       [ 8577.68337315],\n",
       "       [12148.98364167],\n",
       "       [ 5864.57343979],\n",
       "       [12490.2442969 ],\n",
       "       [ 7970.02293127],\n",
       "       [31537.04640031],\n",
       "       [ 4158.24475756],\n",
       "       [ 9472.58118253]])"
      ]
     },
     "execution_count": 134,
     "metadata": {},
     "output_type": "execute_result"
    }
   ],
   "source": [
    "tp_weight[:100,]"
   ]
  },
  {
   "cell_type": "code",
   "execution_count": 140,
   "metadata": {},
   "outputs": [
    {
     "data": {
      "text/plain": [
       "False"
      ]
     },
     "execution_count": 140,
     "metadata": {},
     "output_type": "execute_result"
    }
   ],
   "source": [
    "np.any(np.isnan(tp_weight))"
   ]
  },
  {
   "cell_type": "code",
   "execution_count": 141,
   "metadata": {},
   "outputs": [
    {
     "data": {
      "text/plain": [
       "False"
      ]
     },
     "execution_count": 141,
     "metadata": {},
     "output_type": "execute_result"
    }
   ],
   "source": [
    "np.any(np.isnan(topic_vec))"
   ]
  },
  {
   "cell_type": "code",
   "execution_count": 142,
   "metadata": {},
   "outputs": [
    {
     "data": {
      "text/plain": [
       "(100000, 64)"
      ]
     },
     "execution_count": 142,
     "metadata": {},
     "output_type": "execute_result"
    }
   ],
   "source": [
    "topic_vec.shape"
   ]
  },
  {
   "cell_type": "code",
   "execution_count": 143,
   "metadata": {},
   "outputs": [
    {
     "data": {
      "text/plain": [
       "(100000, 1)"
      ]
     },
     "execution_count": 143,
     "metadata": {},
     "output_type": "execute_result"
    }
   ],
   "source": [
    "tp_weight.shape"
   ]
  },
  {
   "cell_type": "code",
   "execution_count": 145,
   "metadata": {},
   "outputs": [
    {
     "data": {
      "text/plain": [
       "dtype('float64')"
      ]
     },
     "execution_count": 145,
     "metadata": {},
     "output_type": "execute_result"
    }
   ],
   "source": [
    "tp_weight.dtype"
   ]
  },
  {
   "cell_type": "code",
   "execution_count": 148,
   "metadata": {},
   "outputs": [
    {
     "data": {
      "text/plain": [
       "inf"
      ]
     },
     "execution_count": 148,
     "metadata": {},
     "output_type": "execute_result"
    }
   ],
   "source": [
    "np.sum(tp_weight/10000)"
   ]
  },
  {
   "cell_type": "code",
   "execution_count": 137,
   "metadata": {},
   "outputs": [
    {
     "name": "stderr",
     "output_type": "stream",
     "text": [
      "/home/sc3/miniconda2/envs/ydzhang/lib/python3.6/site-packages/ipykernel_launcher.py:1: RuntimeWarning: invalid value encountered in true_divide\n",
      "  \"\"\"Entry point for launching an IPython kernel.\n"
     ]
    }
   ],
   "source": [
    "int_tp_weighted_mean = np.dot(tp_weight.reshape(1, -1) / np.sum(tp_weight), topic_vec)"
   ]
  },
  {
   "cell_type": "code",
   "execution_count": 138,
   "metadata": {},
   "outputs": [
    {
     "data": {
      "text/plain": [
       "array([[nan, nan, nan, nan, nan, nan, nan, nan, nan, nan, nan, nan, nan,\n",
       "        nan, nan, nan, nan, nan, nan, nan, nan, nan, nan, nan, nan, nan,\n",
       "        nan, nan, nan, nan, nan, nan, nan, nan, nan, nan, nan, nan, nan,\n",
       "        nan, nan, nan, nan, nan, nan, nan, nan, nan, nan, nan, nan, nan,\n",
       "        nan, nan, nan, nan, nan, nan, nan, nan, nan, nan, nan, nan]])"
      ]
     },
     "execution_count": 138,
     "metadata": {},
     "output_type": "execute_result"
    }
   ],
   "source": [
    "int_tp_weighted_mean"
   ]
  },
  {
   "cell_type": "code",
   "execution_count": null,
   "metadata": {},
   "outputs": [],
   "source": [
    "def map_topics(s):\n",
    "    try:\n",
    "        if tp_s != '-1':\n",
    "            id_str_list = tp_s.split(',')\n",
    "            tp_list = []\n",
    "            weight_list = []\n",
    "            for id_str in id_str_list:\n",
    "                tp_id, weight_str = id_str.split(':')\n",
    "                weight = float(weight_str)\n",
    "                tp_list.append(tp_id)\n",
    "                weight_list.append(weight)\n",
    "            tp_inds = tp_idmap[tp_list]\n",
    "            tp_array = tp_vec[tp_inds]\n",
    "            weight_array = np.array(weight_list).reshape(1, -1)\n",
    "            weighted_tp = np.dot(weight_array, tp_array)\n",
    "        else:\n",
    "            weighted_tp = \n",
    "    except:\n",
    "        print(ind_list)\n",
    "    return topic_mp"
   ]
  },
  {
   "cell_type": "markdown",
   "metadata": {},
   "source": [
    "### question topics max pooling"
   ]
  },
  {
   "cell_type": "code",
   "execution_count": 157,
   "metadata": {},
   "outputs": [],
   "source": [
    "quest_df = pd.read_csv(os.path.join(dataDir, 'question_info_1020.csv'),\n",
    "                       usecols = ['question_id', 'title_SW', 'title_W', 'question_topics', 'create_day'],\n",
    "                                    index_col= 'question_id')"
   ]
  },
  {
   "cell_type": "code",
   "execution_count": 159,
   "metadata": {},
   "outputs": [
    {
     "data": {
      "text/plain": [
       "1829900"
      ]
     },
     "execution_count": 159,
     "metadata": {},
     "output_type": "execute_result"
    }
   ],
   "source": [
    "len(quest_df)"
   ]
  },
  {
   "cell_type": "code",
   "execution_count": 158,
   "metadata": {},
   "outputs": [
    {
     "data": {
      "text/plain": [
       "3874"
      ]
     },
     "execution_count": 158,
     "metadata": {},
     "output_type": "execute_result"
    }
   ],
   "source": [
    "np.sum(quest_df['question_topics'] == '-1')"
   ]
  },
  {
   "cell_type": "code",
   "execution_count": 160,
   "metadata": {},
   "outputs": [],
   "source": [
    "topics_mean = np.mean(topic_vec, axis= 0)"
   ]
  },
  {
   "cell_type": "code",
   "execution_count": 161,
   "metadata": {},
   "outputs": [
    {
     "data": {
      "text/plain": [
       "(64,)"
      ]
     },
     "execution_count": 161,
     "metadata": {},
     "output_type": "execute_result"
    }
   ],
   "source": [
    "topics_mean.shape"
   ]
  },
  {
   "cell_type": "code",
   "execution_count": 164,
   "metadata": {},
   "outputs": [],
   "source": [
    "def map_quest_topics(s):\n",
    "    try:\n",
    "        if s != '-1':\n",
    "            id_list = s.split(',')\n",
    "            ind_list = topic_idmap[id_list].tolist()\n",
    "            topic_array = topic_vec[ind_list]\n",
    "            topic_mp = np.max(topic_array, axis= 0)\n",
    "        else:\n",
    "            topic_mp = topics_mean\n",
    "    except:\n",
    "        print(ind_list)\n",
    "    return topic_mp"
   ]
  },
  {
   "cell_type": "code",
   "execution_count": 165,
   "metadata": {},
   "outputs": [],
   "source": [
    "quest_topics_mp = quest_df['question_topics'].map(map_quest_topics)"
   ]
  },
  {
   "cell_type": "code",
   "execution_count": 166,
   "metadata": {},
   "outputs": [
    {
     "data": {
      "text/plain": [
       "question_id\n",
       "Q2234111670    [2.028344, 4.240323, 1.5969335, -1.7983502, 3....\n",
       "Q760329790     [-1.8734853, -4.4524074, -1.4084837, -0.096429...\n",
       "Q741313548     [1.1679975, -0.9902606, 2.8614578, 2.517082, -...\n",
       "Q3481466230    [-0.8644146, -0.91238177, 1.4963309, 4.5643163...\n",
       "Q3966197028    [5.1905546, 4.887342, 0.9944194, 6.2047296, 1....\n",
       "Name: question_topics, dtype: object"
      ]
     },
     "execution_count": 166,
     "metadata": {},
     "output_type": "execute_result"
    }
   ],
   "source": [
    "quest_topics_mp.head()"
   ]
  },
  {
   "cell_type": "code",
   "execution_count": 167,
   "metadata": {},
   "outputs": [],
   "source": [
    "quest_topics_mp_array = np.array(quest_topics_mp.tolist())"
   ]
  },
  {
   "cell_type": "code",
   "execution_count": 168,
   "metadata": {},
   "outputs": [],
   "source": [
    "quest_df['question_topics_mp'] = np.arange(len(quest_df))"
   ]
  },
  {
   "cell_type": "code",
   "execution_count": 172,
   "metadata": {},
   "outputs": [],
   "source": [
    "np.save(os.path.join(dataDir, 'question_topics_mp.npy'), quest_topics_mp_array)"
   ]
  },
  {
   "cell_type": "code",
   "execution_count": 173,
   "metadata": {
    "scrolled": true
   },
   "outputs": [
    {
     "name": "stderr",
     "output_type": "stream",
     "text": [
      "/home/sc3/miniconda2/envs/ydzhang/lib/python3.6/site-packages/pandas/core/indexing.py:1494: FutureWarning: \n",
      "Passing list-likes to .loc or [] with any missing label will raise\n",
      "KeyError in the future, you can use .reindex() as an alternative.\n",
      "\n",
      "See the documentation here:\n",
      "https://pandas.pydata.org/pandas-docs/stable/indexing.html#deprecate-loc-reindex-listlike\n",
      "  return self._getitem_tuple(key)\n"
     ]
    }
   ],
   "source": [
    "quest_df.to_csv(os.path.join(dataDir, 'question_info_1021.csv'),\n",
    "               columns = ['question_id', 'title_SW', 'title_W', 'question_topics_mp', 'create_day'],)"
   ]
  },
  {
   "cell_type": "markdown",
   "metadata": {},
   "source": [
    "### answer topics 处理："
   ]
  },
  {
   "cell_type": "code",
   "execution_count": 180,
   "metadata": {},
   "outputs": [],
   "source": [
    "answer_df = pd.read_csv(os.path.join(dataDir, 'answer_info_1021.csv'),\n",
    "                                #names = ['answer_id', 'question_id', 'user_id', 'create_time',\n",
    "                                #         'ans_SW', 'ans_W', 'is_good', 'has_picture', 'has_video',\n",
    "                                #         'word_count', 'num_zan', 'num_cancel', 'num_comment', 'num_collect',\n",
    "                                #         'num_thanks', 'num_report', 'num_useless', 'num_oppos'],\n",
    "                                index_col= 'answer_id')"
   ]
  },
  {
   "cell_type": "code",
   "execution_count": 181,
   "metadata": {},
   "outputs": [
    {
     "data": {
      "text/html": [
       "<div>\n",
       "<style scoped>\n",
       "    .dataframe tbody tr th:only-of-type {\n",
       "        vertical-align: middle;\n",
       "    }\n",
       "\n",
       "    .dataframe tbody tr th {\n",
       "        vertical-align: top;\n",
       "    }\n",
       "\n",
       "    .dataframe thead th {\n",
       "        text-align: right;\n",
       "    }\n",
       "</style>\n",
       "<table border=\"1\" class=\"dataframe\">\n",
       "  <thead>\n",
       "    <tr style=\"text-align: right;\">\n",
       "      <th></th>\n",
       "      <th>question_id</th>\n",
       "      <th>user_id</th>\n",
       "      <th>create_day</th>\n",
       "      <th>create_hour</th>\n",
       "      <th>answer_SW</th>\n",
       "      <th>answer_W</th>\n",
       "      <th>is_good</th>\n",
       "      <th>has_picture</th>\n",
       "      <th>has_video</th>\n",
       "      <th>word_count</th>\n",
       "      <th>num_zan</th>\n",
       "      <th>num_cancel_zan</th>\n",
       "      <th>num_comment</th>\n",
       "      <th>num_collect</th>\n",
       "      <th>num_thanks</th>\n",
       "      <th>num_report</th>\n",
       "      <th>num_useless</th>\n",
       "      <th>num_oppose</th>\n",
       "    </tr>\n",
       "    <tr>\n",
       "      <th>answer_id</th>\n",
       "      <th></th>\n",
       "      <th></th>\n",
       "      <th></th>\n",
       "      <th></th>\n",
       "      <th></th>\n",
       "      <th></th>\n",
       "      <th></th>\n",
       "      <th></th>\n",
       "      <th></th>\n",
       "      <th></th>\n",
       "      <th></th>\n",
       "      <th></th>\n",
       "      <th></th>\n",
       "      <th></th>\n",
       "      <th></th>\n",
       "      <th></th>\n",
       "      <th></th>\n",
       "      <th></th>\n",
       "    </tr>\n",
       "  </thead>\n",
       "  <tbody>\n",
       "    <tr>\n",
       "      <th>A2502060945</th>\n",
       "      <td>Q1867533817</td>\n",
       "      <td>M625498202</td>\n",
       "      <td>3808</td>\n",
       "      <td>7</td>\n",
       "      <td>SW13,SW19,SW44,SW150,SW23,SW594,SW1254,SW91,SW...</td>\n",
       "      <td>W239,W10528,W142,W20372,W6473,W10,W24,W4527,W2...</td>\n",
       "      <td>0</td>\n",
       "      <td>0</td>\n",
       "      <td>0</td>\n",
       "      <td>41</td>\n",
       "      <td>1</td>\n",
       "      <td>0</td>\n",
       "      <td>1</td>\n",
       "      <td>0</td>\n",
       "      <td>1</td>\n",
       "      <td>0</td>\n",
       "      <td>0</td>\n",
       "      <td>0</td>\n",
       "    </tr>\n",
       "    <tr>\n",
       "      <th>A2847829478</th>\n",
       "      <td>Q3366788616</td>\n",
       "      <td>M142330444</td>\n",
       "      <td>3810</td>\n",
       "      <td>17</td>\n",
       "      <td>SW898,SW3656,SW2,SW413,SW601,SW2,SW2541,SW681,...</td>\n",
       "      <td>W4628,W66060,W1607,W2647,W53385,W109029,W319,W...</td>\n",
       "      <td>0</td>\n",
       "      <td>0</td>\n",
       "      <td>0</td>\n",
       "      <td>204</td>\n",
       "      <td>1</td>\n",
       "      <td>0</td>\n",
       "      <td>0</td>\n",
       "      <td>3</td>\n",
       "      <td>1</td>\n",
       "      <td>0</td>\n",
       "      <td>0</td>\n",
       "      <td>0</td>\n",
       "    </tr>\n",
       "    <tr>\n",
       "      <th>A2005999231</th>\n",
       "      <td>Q4264694221</td>\n",
       "      <td>M771499642</td>\n",
       "      <td>3853</td>\n",
       "      <td>13</td>\n",
       "      <td>SW9,SW510,SW573,SW1348,SW1304,SW326,SW509,SW22...</td>\n",
       "      <td>W3532,W69108,W12395,W81311,W498,W850,W107789,W...</td>\n",
       "      <td>0</td>\n",
       "      <td>0</td>\n",
       "      <td>0</td>\n",
       "      <td>54</td>\n",
       "      <td>2</td>\n",
       "      <td>0</td>\n",
       "      <td>1</td>\n",
       "      <td>0</td>\n",
       "      <td>0</td>\n",
       "      <td>0</td>\n",
       "      <td>0</td>\n",
       "      <td>0</td>\n",
       "    </tr>\n",
       "    <tr>\n",
       "      <th>A14821523</th>\n",
       "      <td>Q1088851650</td>\n",
       "      <td>M2282072267</td>\n",
       "      <td>3859</td>\n",
       "      <td>18</td>\n",
       "      <td>SW7,SW16,SW5,SW144,SW302,SW20,SW1752,SW60,SW75...</td>\n",
       "      <td>W1425,W1676,W3700,W325,W6485,W1090,W8342,W9689...</td>\n",
       "      <td>0</td>\n",
       "      <td>0</td>\n",
       "      <td>0</td>\n",
       "      <td>42</td>\n",
       "      <td>1</td>\n",
       "      <td>0</td>\n",
       "      <td>1</td>\n",
       "      <td>0</td>\n",
       "      <td>1</td>\n",
       "      <td>0</td>\n",
       "      <td>0</td>\n",
       "      <td>0</td>\n",
       "    </tr>\n",
       "    <tr>\n",
       "      <th>A731550034</th>\n",
       "      <td>Q1023877868</td>\n",
       "      <td>M2282072267</td>\n",
       "      <td>3855</td>\n",
       "      <td>22</td>\n",
       "      <td>SW7,SW15,SW596,SW407,SW1698,SW68,SW2,SW56,SW59...</td>\n",
       "      <td>W23420,W2610,W5506,W1489,W8749,W504,W1718,W252...</td>\n",
       "      <td>0</td>\n",
       "      <td>0</td>\n",
       "      <td>0</td>\n",
       "      <td>44</td>\n",
       "      <td>0</td>\n",
       "      <td>0</td>\n",
       "      <td>0</td>\n",
       "      <td>0</td>\n",
       "      <td>0</td>\n",
       "      <td>0</td>\n",
       "      <td>0</td>\n",
       "      <td>0</td>\n",
       "    </tr>\n",
       "  </tbody>\n",
       "</table>\n",
       "</div>"
      ],
      "text/plain": [
       "             question_id      user_id  create_day  create_hour  \\\n",
       "answer_id                                                        \n",
       "A2502060945  Q1867533817   M625498202        3808            7   \n",
       "A2847829478  Q3366788616   M142330444        3810           17   \n",
       "A2005999231  Q4264694221   M771499642        3853           13   \n",
       "A14821523    Q1088851650  M2282072267        3859           18   \n",
       "A731550034   Q1023877868  M2282072267        3855           22   \n",
       "\n",
       "                                                     answer_SW  \\\n",
       "answer_id                                                        \n",
       "A2502060945  SW13,SW19,SW44,SW150,SW23,SW594,SW1254,SW91,SW...   \n",
       "A2847829478  SW898,SW3656,SW2,SW413,SW601,SW2,SW2541,SW681,...   \n",
       "A2005999231  SW9,SW510,SW573,SW1348,SW1304,SW326,SW509,SW22...   \n",
       "A14821523    SW7,SW16,SW5,SW144,SW302,SW20,SW1752,SW60,SW75...   \n",
       "A731550034   SW7,SW15,SW596,SW407,SW1698,SW68,SW2,SW56,SW59...   \n",
       "\n",
       "                                                      answer_W  is_good  \\\n",
       "answer_id                                                                 \n",
       "A2502060945  W239,W10528,W142,W20372,W6473,W10,W24,W4527,W2...        0   \n",
       "A2847829478  W4628,W66060,W1607,W2647,W53385,W109029,W319,W...        0   \n",
       "A2005999231  W3532,W69108,W12395,W81311,W498,W850,W107789,W...        0   \n",
       "A14821523    W1425,W1676,W3700,W325,W6485,W1090,W8342,W9689...        0   \n",
       "A731550034   W23420,W2610,W5506,W1489,W8749,W504,W1718,W252...        0   \n",
       "\n",
       "             has_picture  has_video  word_count  num_zan  num_cancel_zan  \\\n",
       "answer_id                                                                  \n",
       "A2502060945            0          0          41        1               0   \n",
       "A2847829478            0          0         204        1               0   \n",
       "A2005999231            0          0          54        2               0   \n",
       "A14821523              0          0          42        1               0   \n",
       "A731550034             0          0          44        0               0   \n",
       "\n",
       "             num_comment  num_collect  num_thanks  num_report  num_useless  \\\n",
       "answer_id                                                                    \n",
       "A2502060945            1            0           1           0            0   \n",
       "A2847829478            0            3           1           0            0   \n",
       "A2005999231            1            0           0           0            0   \n",
       "A14821523              1            0           1           0            0   \n",
       "A731550034             0            0           0           0            0   \n",
       "\n",
       "             num_oppose  \n",
       "answer_id                \n",
       "A2502060945           0  \n",
       "A2847829478           0  \n",
       "A2005999231           0  \n",
       "A14821523             0  \n",
       "A731550034            0  "
      ]
     },
     "execution_count": 181,
     "metadata": {},
     "output_type": "execute_result"
    }
   ],
   "source": [
    "answer_df.head()"
   ]
  },
  {
   "cell_type": "code",
   "execution_count": 182,
   "metadata": {},
   "outputs": [],
   "source": [
    "answer_df['question_topics_mp'] = quest_df.loc[answer_df['question_id'], 'question_topics_mp'].values"
   ]
  },
  {
   "cell_type": "code",
   "execution_count": 183,
   "metadata": {},
   "outputs": [
    {
     "data": {
      "text/html": [
       "<div>\n",
       "<style scoped>\n",
       "    .dataframe tbody tr th:only-of-type {\n",
       "        vertical-align: middle;\n",
       "    }\n",
       "\n",
       "    .dataframe tbody tr th {\n",
       "        vertical-align: top;\n",
       "    }\n",
       "\n",
       "    .dataframe thead th {\n",
       "        text-align: right;\n",
       "    }\n",
       "</style>\n",
       "<table border=\"1\" class=\"dataframe\">\n",
       "  <thead>\n",
       "    <tr style=\"text-align: right;\">\n",
       "      <th></th>\n",
       "      <th>question_id</th>\n",
       "      <th>user_id</th>\n",
       "      <th>create_day</th>\n",
       "      <th>create_hour</th>\n",
       "      <th>answer_SW</th>\n",
       "      <th>answer_W</th>\n",
       "      <th>is_good</th>\n",
       "      <th>has_picture</th>\n",
       "      <th>has_video</th>\n",
       "      <th>word_count</th>\n",
       "      <th>num_zan</th>\n",
       "      <th>num_cancel_zan</th>\n",
       "      <th>num_comment</th>\n",
       "      <th>num_collect</th>\n",
       "      <th>num_thanks</th>\n",
       "      <th>num_report</th>\n",
       "      <th>num_useless</th>\n",
       "      <th>num_oppose</th>\n",
       "      <th>question_topics_mp</th>\n",
       "    </tr>\n",
       "    <tr>\n",
       "      <th>answer_id</th>\n",
       "      <th></th>\n",
       "      <th></th>\n",
       "      <th></th>\n",
       "      <th></th>\n",
       "      <th></th>\n",
       "      <th></th>\n",
       "      <th></th>\n",
       "      <th></th>\n",
       "      <th></th>\n",
       "      <th></th>\n",
       "      <th></th>\n",
       "      <th></th>\n",
       "      <th></th>\n",
       "      <th></th>\n",
       "      <th></th>\n",
       "      <th></th>\n",
       "      <th></th>\n",
       "      <th></th>\n",
       "      <th></th>\n",
       "    </tr>\n",
       "  </thead>\n",
       "  <tbody>\n",
       "    <tr>\n",
       "      <th>A2502060945</th>\n",
       "      <td>Q1867533817</td>\n",
       "      <td>M625498202</td>\n",
       "      <td>3808</td>\n",
       "      <td>7</td>\n",
       "      <td>SW13,SW19,SW44,SW150,SW23,SW594,SW1254,SW91,SW...</td>\n",
       "      <td>W239,W10528,W142,W20372,W6473,W10,W24,W4527,W2...</td>\n",
       "      <td>0</td>\n",
       "      <td>0</td>\n",
       "      <td>0</td>\n",
       "      <td>41</td>\n",
       "      <td>1</td>\n",
       "      <td>0</td>\n",
       "      <td>1</td>\n",
       "      <td>0</td>\n",
       "      <td>1</td>\n",
       "      <td>0</td>\n",
       "      <td>0</td>\n",
       "      <td>0</td>\n",
       "      <td>350889</td>\n",
       "    </tr>\n",
       "    <tr>\n",
       "      <th>A2847829478</th>\n",
       "      <td>Q3366788616</td>\n",
       "      <td>M142330444</td>\n",
       "      <td>3810</td>\n",
       "      <td>17</td>\n",
       "      <td>SW898,SW3656,SW2,SW413,SW601,SW2,SW2541,SW681,...</td>\n",
       "      <td>W4628,W66060,W1607,W2647,W53385,W109029,W319,W...</td>\n",
       "      <td>0</td>\n",
       "      <td>0</td>\n",
       "      <td>0</td>\n",
       "      <td>204</td>\n",
       "      <td>1</td>\n",
       "      <td>0</td>\n",
       "      <td>0</td>\n",
       "      <td>3</td>\n",
       "      <td>1</td>\n",
       "      <td>0</td>\n",
       "      <td>0</td>\n",
       "      <td>0</td>\n",
       "      <td>1691739</td>\n",
       "    </tr>\n",
       "    <tr>\n",
       "      <th>A2005999231</th>\n",
       "      <td>Q4264694221</td>\n",
       "      <td>M771499642</td>\n",
       "      <td>3853</td>\n",
       "      <td>13</td>\n",
       "      <td>SW9,SW510,SW573,SW1348,SW1304,SW326,SW509,SW22...</td>\n",
       "      <td>W3532,W69108,W12395,W81311,W498,W850,W107789,W...</td>\n",
       "      <td>0</td>\n",
       "      <td>0</td>\n",
       "      <td>0</td>\n",
       "      <td>54</td>\n",
       "      <td>2</td>\n",
       "      <td>0</td>\n",
       "      <td>1</td>\n",
       "      <td>0</td>\n",
       "      <td>0</td>\n",
       "      <td>0</td>\n",
       "      <td>0</td>\n",
       "      <td>0</td>\n",
       "      <td>525674</td>\n",
       "    </tr>\n",
       "    <tr>\n",
       "      <th>A14821523</th>\n",
       "      <td>Q1088851650</td>\n",
       "      <td>M2282072267</td>\n",
       "      <td>3859</td>\n",
       "      <td>18</td>\n",
       "      <td>SW7,SW16,SW5,SW144,SW302,SW20,SW1752,SW60,SW75...</td>\n",
       "      <td>W1425,W1676,W3700,W325,W6485,W1090,W8342,W9689...</td>\n",
       "      <td>0</td>\n",
       "      <td>0</td>\n",
       "      <td>0</td>\n",
       "      <td>42</td>\n",
       "      <td>1</td>\n",
       "      <td>0</td>\n",
       "      <td>1</td>\n",
       "      <td>0</td>\n",
       "      <td>1</td>\n",
       "      <td>0</td>\n",
       "      <td>0</td>\n",
       "      <td>0</td>\n",
       "      <td>304256</td>\n",
       "    </tr>\n",
       "    <tr>\n",
       "      <th>A731550034</th>\n",
       "      <td>Q1023877868</td>\n",
       "      <td>M2282072267</td>\n",
       "      <td>3855</td>\n",
       "      <td>22</td>\n",
       "      <td>SW7,SW15,SW596,SW407,SW1698,SW68,SW2,SW56,SW59...</td>\n",
       "      <td>W23420,W2610,W5506,W1489,W8749,W504,W1718,W252...</td>\n",
       "      <td>0</td>\n",
       "      <td>0</td>\n",
       "      <td>0</td>\n",
       "      <td>44</td>\n",
       "      <td>0</td>\n",
       "      <td>0</td>\n",
       "      <td>0</td>\n",
       "      <td>0</td>\n",
       "      <td>0</td>\n",
       "      <td>0</td>\n",
       "      <td>0</td>\n",
       "      <td>0</td>\n",
       "      <td>1725733</td>\n",
       "    </tr>\n",
       "  </tbody>\n",
       "</table>\n",
       "</div>"
      ],
      "text/plain": [
       "             question_id      user_id  create_day  create_hour  \\\n",
       "answer_id                                                        \n",
       "A2502060945  Q1867533817   M625498202        3808            7   \n",
       "A2847829478  Q3366788616   M142330444        3810           17   \n",
       "A2005999231  Q4264694221   M771499642        3853           13   \n",
       "A14821523    Q1088851650  M2282072267        3859           18   \n",
       "A731550034   Q1023877868  M2282072267        3855           22   \n",
       "\n",
       "                                                     answer_SW  \\\n",
       "answer_id                                                        \n",
       "A2502060945  SW13,SW19,SW44,SW150,SW23,SW594,SW1254,SW91,SW...   \n",
       "A2847829478  SW898,SW3656,SW2,SW413,SW601,SW2,SW2541,SW681,...   \n",
       "A2005999231  SW9,SW510,SW573,SW1348,SW1304,SW326,SW509,SW22...   \n",
       "A14821523    SW7,SW16,SW5,SW144,SW302,SW20,SW1752,SW60,SW75...   \n",
       "A731550034   SW7,SW15,SW596,SW407,SW1698,SW68,SW2,SW56,SW59...   \n",
       "\n",
       "                                                      answer_W  is_good  \\\n",
       "answer_id                                                                 \n",
       "A2502060945  W239,W10528,W142,W20372,W6473,W10,W24,W4527,W2...        0   \n",
       "A2847829478  W4628,W66060,W1607,W2647,W53385,W109029,W319,W...        0   \n",
       "A2005999231  W3532,W69108,W12395,W81311,W498,W850,W107789,W...        0   \n",
       "A14821523    W1425,W1676,W3700,W325,W6485,W1090,W8342,W9689...        0   \n",
       "A731550034   W23420,W2610,W5506,W1489,W8749,W504,W1718,W252...        0   \n",
       "\n",
       "             has_picture  has_video  word_count  num_zan  num_cancel_zan  \\\n",
       "answer_id                                                                  \n",
       "A2502060945            0          0          41        1               0   \n",
       "A2847829478            0          0         204        1               0   \n",
       "A2005999231            0          0          54        2               0   \n",
       "A14821523              0          0          42        1               0   \n",
       "A731550034             0          0          44        0               0   \n",
       "\n",
       "             num_comment  num_collect  num_thanks  num_report  num_useless  \\\n",
       "answer_id                                                                    \n",
       "A2502060945            1            0           1           0            0   \n",
       "A2847829478            0            3           1           0            0   \n",
       "A2005999231            1            0           0           0            0   \n",
       "A14821523              1            0           1           0            0   \n",
       "A731550034             0            0           0           0            0   \n",
       "\n",
       "             num_oppose  question_topics_mp  \n",
       "answer_id                                    \n",
       "A2502060945           0              350889  \n",
       "A2847829478           0             1691739  \n",
       "A2005999231           0              525674  \n",
       "A14821523             0              304256  \n",
       "A731550034            0             1725733  "
      ]
     },
     "execution_count": 183,
     "metadata": {},
     "output_type": "execute_result"
    }
   ],
   "source": [
    "answer_df.head()"
   ]
  },
  {
   "cell_type": "code",
   "execution_count": 184,
   "metadata": {},
   "outputs": [],
   "source": [
    "answer_df.to_csv(os.path.join(dataDir, 'answer_info_1021.csv'))"
   ]
  },
  {
   "cell_type": "markdown",
   "metadata": {},
   "source": [
    "## 处理　invite info"
   ]
  },
  {
   "cell_type": "code",
   "execution_count": 189,
   "metadata": {},
   "outputs": [],
   "source": [
    "invite_df = pd.read_csv(os.path.join(dataDir, 'invite_info_1020.csv'))"
   ]
  },
  {
   "cell_type": "code",
   "execution_count": 190,
   "metadata": {},
   "outputs": [
    {
     "data": {
      "text/html": [
       "<div>\n",
       "<style scoped>\n",
       "    .dataframe tbody tr th:only-of-type {\n",
       "        vertical-align: middle;\n",
       "    }\n",
       "\n",
       "    .dataframe tbody tr th {\n",
       "        vertical-align: top;\n",
       "    }\n",
       "\n",
       "    .dataframe thead th {\n",
       "        text-align: right;\n",
       "    }\n",
       "</style>\n",
       "<table border=\"1\" class=\"dataframe\">\n",
       "  <thead>\n",
       "    <tr style=\"text-align: right;\">\n",
       "      <th></th>\n",
       "      <th>question_id</th>\n",
       "      <th>user_id</th>\n",
       "      <th>create_time</th>\n",
       "      <th>is_answer</th>\n",
       "    </tr>\n",
       "  </thead>\n",
       "  <tbody>\n",
       "    <tr>\n",
       "      <th>0</th>\n",
       "      <td>Q2166419046</td>\n",
       "      <td>M401693808</td>\n",
       "      <td>D3865-H22</td>\n",
       "      <td>0</td>\n",
       "    </tr>\n",
       "    <tr>\n",
       "      <th>1</th>\n",
       "      <td>Q1550017551</td>\n",
       "      <td>M3392373099</td>\n",
       "      <td>D3844-H11</td>\n",
       "      <td>0</td>\n",
       "    </tr>\n",
       "    <tr>\n",
       "      <th>2</th>\n",
       "      <td>Q604029601</td>\n",
       "      <td>M2317670257</td>\n",
       "      <td>D3862-H15</td>\n",
       "      <td>0</td>\n",
       "    </tr>\n",
       "    <tr>\n",
       "      <th>3</th>\n",
       "      <td>Q2350061229</td>\n",
       "      <td>M1618461867</td>\n",
       "      <td>D3849-H11</td>\n",
       "      <td>0</td>\n",
       "    </tr>\n",
       "    <tr>\n",
       "      <th>4</th>\n",
       "      <td>Q2443223942</td>\n",
       "      <td>M3544409350</td>\n",
       "      <td>D3867-H4</td>\n",
       "      <td>0</td>\n",
       "    </tr>\n",
       "  </tbody>\n",
       "</table>\n",
       "</div>"
      ],
      "text/plain": [
       "   question_id      user_id create_time  is_answer\n",
       "0  Q2166419046   M401693808   D3865-H22          0\n",
       "1  Q1550017551  M3392373099   D3844-H11          0\n",
       "2   Q604029601  M2317670257   D3862-H15          0\n",
       "3  Q2350061229  M1618461867   D3849-H11          0\n",
       "4  Q2443223942  M3544409350    D3867-H4          0"
      ]
     },
     "execution_count": 190,
     "metadata": {},
     "output_type": "execute_result"
    }
   ],
   "source": [
    "invite_df.head()"
   ]
  },
  {
   "cell_type": "code",
   "execution_count": 191,
   "metadata": {},
   "outputs": [],
   "source": [
    "invite_df['create_day'] = invite_df['create_time'].apply(lambda x: int(x.split('-')[0].lstrip('D')))"
   ]
  },
  {
   "cell_type": "code",
   "execution_count": 192,
   "metadata": {},
   "outputs": [],
   "source": [
    "invite_df['create_hour'] = invite_df['create_time'].apply(lambda x: int(x.split('-')[1].lstrip('H')))"
   ]
  },
  {
   "cell_type": "code",
   "execution_count": 194,
   "metadata": {},
   "outputs": [],
   "source": [
    "invite_df.to_csv(os.path.join(dataDir, 'invite_info_1021.csv'),\n",
    "                columns = ['question_id', 'user_id', 'create_time', 'create_day', 'create_hour', 'isAnswer'])"
   ]
  },
  {
   "cell_type": "code",
   "execution_count": null,
   "metadata": {},
   "outputs": [],
   "source": []
  }
 ],
 "metadata": {
  "kernelspec": {
   "display_name": "Python 3",
   "language": "python",
   "name": "python3"
  },
  "language_info": {
   "codemirror_mode": {
    "name": "ipython",
    "version": 3
   },
   "file_extension": ".py",
   "mimetype": "text/x-python",
   "name": "python",
   "nbconvert_exporter": "python",
   "pygments_lexer": "ipython3",
   "version": "3.6.7"
  }
 },
 "nbformat": 4,
 "nbformat_minor": 4
}
